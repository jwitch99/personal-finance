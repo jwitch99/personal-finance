{
 "cells": [
  {
   "cell_type": "code",
   "execution_count": 47,
   "metadata": {},
   "outputs": [],
   "source": [
    "import pandas as pd\n",
    "import numpy as np \n",
    "import plotly.express as px\n",
    "import statsmodels\n",
    "import plotly.graph_objects as go\n",
    "from faker import Faker\n",
    "import random\n",
    "import datetime\n",
    "\n",
    "\n",
    "from faker.providers import DynamicProvider\n",
    "\n",
    "faker = Faker('en_US')\n",
    "\n",
    "faker.add_provider(DynamicProvider(\n",
    "     provider_name=\"subtype\",\n",
    "     elements=[\"checking\", \"savings\"],\n",
    "))\n",
    "\n",
    "faker.add_provider(DynamicProvider(\n",
    "     provider_name=\"type\",\n",
    "     elements=[\"depository\"],\n",
    "))\n",
    "\n",
    "faker.add_provider(DynamicProvider(\n",
    "     provider_name=\"transaction_type\",\n",
    "     elements=[\"special\", \"place\"],\n",
    "))\n",
    "\n",
    "faker.add_provider(DynamicProvider(\n",
    "     provider_name=\"personal_finance_category\",\n",
    "     elements=[\"entertainment\", \"trnasportation\", \"food_and_drink\", \"travel\"],\n",
    "))\n",
    "\n",
    "\n",
    "def generate_random_date(start_date, end_date):\n",
    "    start_date = datetime.datetime.strptime(start_date, \"%Y-%m-%d\")\n",
    "    end_date = datetime.datetime.strptime(end_date, \"%Y-%m-%d\")\n",
    "    time_between_dates = end_date - start_date\n",
    "    days_between_dates = time_between_dates.days\n",
    "    random_number_of_days = random.randrange(days_between_dates)\n",
    "    random_date = start_date + datetime.timedelta(days=random_number_of_days)\n",
    "    return random_date\n"
   ]
  },
  {
   "cell_type": "code",
   "execution_count": 19,
   "metadata": {},
   "outputs": [
    {
     "data": {
      "text/plain": [
       "0    8040eb60-dad8-4d03-a158-53c2d0571d91\n",
       "1    2a3da537-90ca-4d3a-b5b1-1b16263a759f\n",
       "2    d5c8549f-1bba-41ac-8bb9-2a6afdf88c8e\n",
       "3    96cebff6-ac88-4347-86b4-ffdd49bda362\n",
       "4    881f930a-fdbd-4035-8dfd-6d050ec07551\n",
       "5    95b23041-ca63-4866-b8fb-be44ac1e4082\n",
       "6    37a7403b-b656-4be8-9599-67e8bb996a28\n",
       "7    2993e6e9-8478-46c7-9ced-4b9201b02f38\n",
       "8    95395096-0777-4c51-9990-831fe47c8e84\n",
       "9    2c821091-a11e-425b-acf1-4d23b2e65a35\n",
       "Name: account_id, dtype: object"
      ]
     },
     "execution_count": 19,
     "metadata": {},
     "output_type": "execute_result"
    }
   ],
   "source": [
    "def get_accounts():\n",
    "    accounts = []\n",
    "\n",
    "    for i in range(10):\n",
    "        accounts.append({\n",
    "        \"account_id\": faker.uuid4(),\n",
    "        \"official_name\": faker.company(),\n",
    "        \"type\": faker.type(),\n",
    "        \"subtype\": faker.subtype(),\n",
    "        \"balance_current\": random.randint(100, 1000),\n",
    "        \"balance_available\": random.randint(100, 1000),\n",
    "        \"balance_limit\": 10_000,\n",
    "        \"rate\": 3.4\n",
    "        })\n",
    "        \n",
    "    return accounts\n",
    "\n",
    "    \n",
    "accounts = pd.DataFrame(get_accounts())\n",
    "accounts\n",
    "\n",
    "accounts['account_id']\n",
    "\n"
   ]
  },
  {
   "cell_type": "code",
   "execution_count": 50,
   "metadata": {},
   "outputs": [
    {
     "data": {
      "text/html": [
       "<div>\n",
       "<style scoped>\n",
       "    .dataframe tbody tr th:only-of-type {\n",
       "        vertical-align: middle;\n",
       "    }\n",
       "\n",
       "    .dataframe tbody tr th {\n",
       "        vertical-align: top;\n",
       "    }\n",
       "\n",
       "    .dataframe thead th {\n",
       "        text-align: right;\n",
       "    }\n",
       "</style>\n",
       "<table border=\"1\" class=\"dataframe\">\n",
       "  <thead>\n",
       "    <tr style=\"text-align: right;\">\n",
       "      <th></th>\n",
       "      <th>transaction_id</th>\n",
       "      <th>account_id</th>\n",
       "      <th>amount</th>\n",
       "      <th>date</th>\n",
       "      <th>category_id</th>\n",
       "      <th>merchant_name</th>\n",
       "      <th>merchant_entity_id</th>\n",
       "      <th>website</th>\n",
       "      <th>pending</th>\n",
       "      <th>transaction_type</th>\n",
       "      <th>personal_finance_category_primary</th>\n",
       "      <th>personal_finance_category_detailed</th>\n",
       "    </tr>\n",
       "  </thead>\n",
       "  <tbody>\n",
       "    <tr>\n",
       "      <th>0</th>\n",
       "      <td>8e294c9e-0fa9-41e3-86fb-09f285e6f3eb</td>\n",
       "      <td>2c821091-a11e-425b-acf1-4d23b2e65a35</td>\n",
       "      <td>68</td>\n",
       "      <td>2023-07-31</td>\n",
       "      <td>6433</td>\n",
       "      <td>Rodriguez, Hart and Shelton</td>\n",
       "      <td>0dea61d3-d6da-433d-944f-b26a2ad96405</td>\n",
       "      <td>http://www.jones.com/</td>\n",
       "      <td>False</td>\n",
       "      <td>place</td>\n",
       "      <td>entertainment</td>\n",
       "      <td>travel</td>\n",
       "    </tr>\n",
       "    <tr>\n",
       "      <th>1</th>\n",
       "      <td>7a44e1bb-196a-4872-a895-0f5ccd908564</td>\n",
       "      <td>96cebff6-ac88-4347-86b4-ffdd49bda362</td>\n",
       "      <td>46</td>\n",
       "      <td>2023-05-15</td>\n",
       "      <td>6087</td>\n",
       "      <td>Barrett-Walter</td>\n",
       "      <td>84da2631-8a82-4da9-aa8d-c5f92acc3745</td>\n",
       "      <td>http://www.johnson-cobb.org/</td>\n",
       "      <td>False</td>\n",
       "      <td>special</td>\n",
       "      <td>food_and_drink</td>\n",
       "      <td>travel</td>\n",
       "    </tr>\n",
       "    <tr>\n",
       "      <th>2</th>\n",
       "      <td>7c6ecc90-2675-47e2-8341-bdbd9f1db005</td>\n",
       "      <td>37a7403b-b656-4be8-9599-67e8bb996a28</td>\n",
       "      <td>55</td>\n",
       "      <td>2023-01-04</td>\n",
       "      <td>8365</td>\n",
       "      <td>Martinez, Schneider and Austin</td>\n",
       "      <td>efcc6f91-d4ec-4ef3-ba62-2c03e45f4e17</td>\n",
       "      <td>http://www.gutierrez.info/</td>\n",
       "      <td>False</td>\n",
       "      <td>place</td>\n",
       "      <td>travel</td>\n",
       "      <td>travel</td>\n",
       "    </tr>\n",
       "    <tr>\n",
       "      <th>3</th>\n",
       "      <td>751daadb-88e6-4a51-9c95-716b1fa716db</td>\n",
       "      <td>2a3da537-90ca-4d3a-b5b1-1b16263a759f</td>\n",
       "      <td>14</td>\n",
       "      <td>2023-10-07</td>\n",
       "      <td>5261</td>\n",
       "      <td>Lee and Sons</td>\n",
       "      <td>86179ad1-9a43-409a-8b3c-8ad49c772286</td>\n",
       "      <td>http://www.bishop-torres.com/</td>\n",
       "      <td>False</td>\n",
       "      <td>special</td>\n",
       "      <td>travel</td>\n",
       "      <td>food_and_drink</td>\n",
       "    </tr>\n",
       "    <tr>\n",
       "      <th>4</th>\n",
       "      <td>07b2bd06-6e7a-4580-9cd8-ff8a6c853355</td>\n",
       "      <td>2a3da537-90ca-4d3a-b5b1-1b16263a759f</td>\n",
       "      <td>37</td>\n",
       "      <td>2023-10-20</td>\n",
       "      <td>2268</td>\n",
       "      <td>Campbell-Vance</td>\n",
       "      <td>2030b428-7a2d-45f4-8f57-0d0b203a6242</td>\n",
       "      <td>https://salazar.net/</td>\n",
       "      <td>False</td>\n",
       "      <td>place</td>\n",
       "      <td>travel</td>\n",
       "      <td>entertainment</td>\n",
       "    </tr>\n",
       "    <tr>\n",
       "      <th>5</th>\n",
       "      <td>ee76f71f-98ac-4271-a376-4fd2069edfe3</td>\n",
       "      <td>95b23041-ca63-4866-b8fb-be44ac1e4082</td>\n",
       "      <td>65</td>\n",
       "      <td>2023-07-24</td>\n",
       "      <td>3066</td>\n",
       "      <td>Martinez LLC</td>\n",
       "      <td>7acdf15c-ace2-4961-b17a-56f62f098669</td>\n",
       "      <td>https://clarke-gaines.biz/</td>\n",
       "      <td>False</td>\n",
       "      <td>place</td>\n",
       "      <td>food_and_drink</td>\n",
       "      <td>food_and_drink</td>\n",
       "    </tr>\n",
       "    <tr>\n",
       "      <th>6</th>\n",
       "      <td>9ff109b3-1e51-4c43-9f43-6dfb541be3c1</td>\n",
       "      <td>95395096-0777-4c51-9990-831fe47c8e84</td>\n",
       "      <td>57</td>\n",
       "      <td>2023-01-18</td>\n",
       "      <td>1888</td>\n",
       "      <td>Conway Group</td>\n",
       "      <td>774de2d2-383d-4407-91d0-98daa81e251e</td>\n",
       "      <td>https://www.bonilla-hall.com/</td>\n",
       "      <td>False</td>\n",
       "      <td>place</td>\n",
       "      <td>trnasportation</td>\n",
       "      <td>travel</td>\n",
       "    </tr>\n",
       "    <tr>\n",
       "      <th>7</th>\n",
       "      <td>9cf19838-0ce1-4989-9ffe-7431b4af4260</td>\n",
       "      <td>2993e6e9-8478-46c7-9ced-4b9201b02f38</td>\n",
       "      <td>16</td>\n",
       "      <td>2023-09-24</td>\n",
       "      <td>2636</td>\n",
       "      <td>Bauer, Lee and Walls</td>\n",
       "      <td>6a7d32d0-03e0-45e7-aca3-9556e8551153</td>\n",
       "      <td>http://allen.org/</td>\n",
       "      <td>False</td>\n",
       "      <td>place</td>\n",
       "      <td>food_and_drink</td>\n",
       "      <td>travel</td>\n",
       "    </tr>\n",
       "    <tr>\n",
       "      <th>8</th>\n",
       "      <td>7e63bf9c-dd99-46e0-9dc9-7520d5e93d14</td>\n",
       "      <td>96cebff6-ac88-4347-86b4-ffdd49bda362</td>\n",
       "      <td>66</td>\n",
       "      <td>2023-04-25</td>\n",
       "      <td>1577</td>\n",
       "      <td>Hancock, Moon and Wallace</td>\n",
       "      <td>fc61bf7d-766b-435a-a9d2-c3857d389a79</td>\n",
       "      <td>https://stevenson-johnson.biz/</td>\n",
       "      <td>False</td>\n",
       "      <td>special</td>\n",
       "      <td>travel</td>\n",
       "      <td>food_and_drink</td>\n",
       "    </tr>\n",
       "    <tr>\n",
       "      <th>9</th>\n",
       "      <td>048eec16-f6b6-4300-809b-68a309e569f2</td>\n",
       "      <td>2993e6e9-8478-46c7-9ced-4b9201b02f38</td>\n",
       "      <td>13</td>\n",
       "      <td>2023-09-30</td>\n",
       "      <td>8671</td>\n",
       "      <td>Franklin, Lopez and Kim</td>\n",
       "      <td>58b7e4c1-ea14-49d2-bc76-bc4978384985</td>\n",
       "      <td>http://www.drake.biz/</td>\n",
       "      <td>False</td>\n",
       "      <td>place</td>\n",
       "      <td>entertainment</td>\n",
       "      <td>travel</td>\n",
       "    </tr>\n",
       "    <tr>\n",
       "      <th>10</th>\n",
       "      <td>8aa4aa6c-6269-4f28-8397-97d6822d997c</td>\n",
       "      <td>95b23041-ca63-4866-b8fb-be44ac1e4082</td>\n",
       "      <td>77</td>\n",
       "      <td>2023-03-02</td>\n",
       "      <td>3495</td>\n",
       "      <td>Smith, Bradley and Williams</td>\n",
       "      <td>36b4014a-0bd0-49e4-b8f1-2759045fa342</td>\n",
       "      <td>http://www.williams-taylor.com/</td>\n",
       "      <td>False</td>\n",
       "      <td>special</td>\n",
       "      <td>travel</td>\n",
       "      <td>entertainment</td>\n",
       "    </tr>\n",
       "    <tr>\n",
       "      <th>11</th>\n",
       "      <td>58ecc42d-a9a5-40a9-8335-fe7fb2bc5da7</td>\n",
       "      <td>95b23041-ca63-4866-b8fb-be44ac1e4082</td>\n",
       "      <td>38</td>\n",
       "      <td>2023-09-19</td>\n",
       "      <td>5397</td>\n",
       "      <td>Chavez PLC</td>\n",
       "      <td>30f96153-ecc9-42b7-abd2-7c5efe148b75</td>\n",
       "      <td>https://www.lopez.info/</td>\n",
       "      <td>False</td>\n",
       "      <td>special</td>\n",
       "      <td>travel</td>\n",
       "      <td>entertainment</td>\n",
       "    </tr>\n",
       "    <tr>\n",
       "      <th>12</th>\n",
       "      <td>1a92dde4-803d-4ff7-b1a5-5149979330a6</td>\n",
       "      <td>d5c8549f-1bba-41ac-8bb9-2a6afdf88c8e</td>\n",
       "      <td>28</td>\n",
       "      <td>2023-01-12</td>\n",
       "      <td>3152</td>\n",
       "      <td>Hunter-May</td>\n",
       "      <td>3d0f3227-54eb-4365-b3e2-59a1d25c41c9</td>\n",
       "      <td>http://peters-hicks.biz/</td>\n",
       "      <td>False</td>\n",
       "      <td>special</td>\n",
       "      <td>travel</td>\n",
       "      <td>travel</td>\n",
       "    </tr>\n",
       "    <tr>\n",
       "      <th>13</th>\n",
       "      <td>609b2708-0144-4d5f-8910-c638195c1f2a</td>\n",
       "      <td>96cebff6-ac88-4347-86b4-ffdd49bda362</td>\n",
       "      <td>45</td>\n",
       "      <td>2023-12-10</td>\n",
       "      <td>1568</td>\n",
       "      <td>Allen Ltd</td>\n",
       "      <td>c01aee76-ecd4-4f11-bb00-08774519215f</td>\n",
       "      <td>http://holmes-kelly.com/</td>\n",
       "      <td>False</td>\n",
       "      <td>special</td>\n",
       "      <td>trnasportation</td>\n",
       "      <td>entertainment</td>\n",
       "    </tr>\n",
       "    <tr>\n",
       "      <th>14</th>\n",
       "      <td>5a2bdd20-9645-4857-baed-8e297209dc2a</td>\n",
       "      <td>2a3da537-90ca-4d3a-b5b1-1b16263a759f</td>\n",
       "      <td>36</td>\n",
       "      <td>2023-02-16</td>\n",
       "      <td>6752</td>\n",
       "      <td>Johnson-King</td>\n",
       "      <td>1d50b522-1500-44c7-9b39-95df19c09366</td>\n",
       "      <td>http://phillips-fletcher.info/</td>\n",
       "      <td>False</td>\n",
       "      <td>place</td>\n",
       "      <td>trnasportation</td>\n",
       "      <td>travel</td>\n",
       "    </tr>\n",
       "    <tr>\n",
       "      <th>15</th>\n",
       "      <td>280eb9d7-df0e-4dd5-8c72-f958a63c0e2d</td>\n",
       "      <td>881f930a-fdbd-4035-8dfd-6d050ec07551</td>\n",
       "      <td>77</td>\n",
       "      <td>2023-04-23</td>\n",
       "      <td>9201</td>\n",
       "      <td>Castillo PLC</td>\n",
       "      <td>44a8148a-6ee7-4832-947e-576d76c795b5</td>\n",
       "      <td>http://www.anderson.com/</td>\n",
       "      <td>False</td>\n",
       "      <td>place</td>\n",
       "      <td>entertainment</td>\n",
       "      <td>travel</td>\n",
       "    </tr>\n",
       "    <tr>\n",
       "      <th>16</th>\n",
       "      <td>949141f7-248c-4c33-8788-87745dfbff90</td>\n",
       "      <td>95b23041-ca63-4866-b8fb-be44ac1e4082</td>\n",
       "      <td>30</td>\n",
       "      <td>2023-12-11</td>\n",
       "      <td>3556</td>\n",
       "      <td>Barnes, Perry and Baker</td>\n",
       "      <td>2ff28553-7c99-4bb6-bb85-cbfd096c15e9</td>\n",
       "      <td>https://brown.org/</td>\n",
       "      <td>False</td>\n",
       "      <td>special</td>\n",
       "      <td>food_and_drink</td>\n",
       "      <td>food_and_drink</td>\n",
       "    </tr>\n",
       "    <tr>\n",
       "      <th>17</th>\n",
       "      <td>8c79c2c4-ec6e-47cd-93c5-1938aa5e8c66</td>\n",
       "      <td>37a7403b-b656-4be8-9599-67e8bb996a28</td>\n",
       "      <td>34</td>\n",
       "      <td>2023-08-03</td>\n",
       "      <td>4042</td>\n",
       "      <td>Tucker, Allen and Wallace</td>\n",
       "      <td>edc6857d-3895-4c63-a724-c9cc49d2f5b3</td>\n",
       "      <td>http://brown.info/</td>\n",
       "      <td>False</td>\n",
       "      <td>special</td>\n",
       "      <td>entertainment</td>\n",
       "      <td>entertainment</td>\n",
       "    </tr>\n",
       "    <tr>\n",
       "      <th>18</th>\n",
       "      <td>2f0ed15f-b545-474f-ad07-439b44dc7d0b</td>\n",
       "      <td>95b23041-ca63-4866-b8fb-be44ac1e4082</td>\n",
       "      <td>21</td>\n",
       "      <td>2023-12-28</td>\n",
       "      <td>6090</td>\n",
       "      <td>Kennedy Inc</td>\n",
       "      <td>b793a0b3-226d-4304-973d-2fffb2c97aad</td>\n",
       "      <td>http://good.info/</td>\n",
       "      <td>False</td>\n",
       "      <td>place</td>\n",
       "      <td>entertainment</td>\n",
       "      <td>travel</td>\n",
       "    </tr>\n",
       "    <tr>\n",
       "      <th>19</th>\n",
       "      <td>ac74000a-cb4f-414a-8f2f-7d1a40429736</td>\n",
       "      <td>37a7403b-b656-4be8-9599-67e8bb996a28</td>\n",
       "      <td>84</td>\n",
       "      <td>2023-03-23</td>\n",
       "      <td>9071</td>\n",
       "      <td>Knox, Zamora and Burke</td>\n",
       "      <td>374f23ee-949b-4f45-8f6a-94931562b48e</td>\n",
       "      <td>http://www.ward-mejia.com/</td>\n",
       "      <td>False</td>\n",
       "      <td>place</td>\n",
       "      <td>trnasportation</td>\n",
       "      <td>entertainment</td>\n",
       "    </tr>\n",
       "    <tr>\n",
       "      <th>20</th>\n",
       "      <td>83356aea-1741-4bee-9822-97ece6f17fde</td>\n",
       "      <td>96cebff6-ac88-4347-86b4-ffdd49bda362</td>\n",
       "      <td>9</td>\n",
       "      <td>2023-01-21</td>\n",
       "      <td>1629</td>\n",
       "      <td>Nelson Group</td>\n",
       "      <td>25196175-2251-4f29-8d3f-e18a64ab47a1</td>\n",
       "      <td>http://www.torres-mcmahon.info/</td>\n",
       "      <td>False</td>\n",
       "      <td>place</td>\n",
       "      <td>trnasportation</td>\n",
       "      <td>entertainment</td>\n",
       "    </tr>\n",
       "    <tr>\n",
       "      <th>21</th>\n",
       "      <td>9a68414a-08c6-4d72-a595-dddf898e2ae6</td>\n",
       "      <td>2993e6e9-8478-46c7-9ced-4b9201b02f38</td>\n",
       "      <td>10</td>\n",
       "      <td>2023-08-22</td>\n",
       "      <td>6464</td>\n",
       "      <td>Robertson-Allen</td>\n",
       "      <td>3077fe56-691e-42c1-a667-2456ede73de7</td>\n",
       "      <td>http://www.ritter.com/</td>\n",
       "      <td>False</td>\n",
       "      <td>special</td>\n",
       "      <td>trnasportation</td>\n",
       "      <td>travel</td>\n",
       "    </tr>\n",
       "    <tr>\n",
       "      <th>22</th>\n",
       "      <td>e120621d-c105-4a2e-90ca-32b29240e20d</td>\n",
       "      <td>95395096-0777-4c51-9990-831fe47c8e84</td>\n",
       "      <td>58</td>\n",
       "      <td>2023-11-24</td>\n",
       "      <td>5668</td>\n",
       "      <td>Le PLC</td>\n",
       "      <td>7227566e-21dc-455a-bafa-b6e10260b0d1</td>\n",
       "      <td>http://hicks.com/</td>\n",
       "      <td>False</td>\n",
       "      <td>place</td>\n",
       "      <td>food_and_drink</td>\n",
       "      <td>trnasportation</td>\n",
       "    </tr>\n",
       "    <tr>\n",
       "      <th>23</th>\n",
       "      <td>bf51e1af-b6eb-4649-bc5e-76883b5dd7e3</td>\n",
       "      <td>96cebff6-ac88-4347-86b4-ffdd49bda362</td>\n",
       "      <td>79</td>\n",
       "      <td>2023-12-02</td>\n",
       "      <td>3347</td>\n",
       "      <td>Odom Group</td>\n",
       "      <td>9f44a268-0f47-4f72-b972-29faf13c363e</td>\n",
       "      <td>http://walton-marshall.net/</td>\n",
       "      <td>False</td>\n",
       "      <td>place</td>\n",
       "      <td>entertainment</td>\n",
       "      <td>food_and_drink</td>\n",
       "    </tr>\n",
       "    <tr>\n",
       "      <th>24</th>\n",
       "      <td>58d7a0d5-4493-4f08-a7e5-4867d59e58ac</td>\n",
       "      <td>d5c8549f-1bba-41ac-8bb9-2a6afdf88c8e</td>\n",
       "      <td>48</td>\n",
       "      <td>2023-12-05</td>\n",
       "      <td>2017</td>\n",
       "      <td>Cummings LLC</td>\n",
       "      <td>023ae78a-f6ea-4811-bdec-d7da6fe753f8</td>\n",
       "      <td>http://www.smith.com/</td>\n",
       "      <td>False</td>\n",
       "      <td>special</td>\n",
       "      <td>entertainment</td>\n",
       "      <td>trnasportation</td>\n",
       "    </tr>\n",
       "    <tr>\n",
       "      <th>25</th>\n",
       "      <td>44032380-fad4-4d00-87ae-5843ed5b5b4e</td>\n",
       "      <td>95395096-0777-4c51-9990-831fe47c8e84</td>\n",
       "      <td>65</td>\n",
       "      <td>2023-07-11</td>\n",
       "      <td>2487</td>\n",
       "      <td>Guzman-Miller</td>\n",
       "      <td>4e3ababc-cd1a-4973-b0fb-2478ae08ad1d</td>\n",
       "      <td>https://lee.com/</td>\n",
       "      <td>False</td>\n",
       "      <td>place</td>\n",
       "      <td>trnasportation</td>\n",
       "      <td>travel</td>\n",
       "    </tr>\n",
       "    <tr>\n",
       "      <th>26</th>\n",
       "      <td>486310b6-fc76-490c-b901-c07e30c24f69</td>\n",
       "      <td>95395096-0777-4c51-9990-831fe47c8e84</td>\n",
       "      <td>68</td>\n",
       "      <td>2023-11-26</td>\n",
       "      <td>8512</td>\n",
       "      <td>Wright Ltd</td>\n",
       "      <td>e6e759b5-3511-44e0-bae4-a4ea10f49144</td>\n",
       "      <td>http://powers.com/</td>\n",
       "      <td>False</td>\n",
       "      <td>special</td>\n",
       "      <td>trnasportation</td>\n",
       "      <td>trnasportation</td>\n",
       "    </tr>\n",
       "    <tr>\n",
       "      <th>27</th>\n",
       "      <td>9a0b1de6-fa9b-41fd-9223-ce2a512b0425</td>\n",
       "      <td>2c821091-a11e-425b-acf1-4d23b2e65a35</td>\n",
       "      <td>82</td>\n",
       "      <td>2023-05-07</td>\n",
       "      <td>7380</td>\n",
       "      <td>Powell-Horton</td>\n",
       "      <td>40a5d0ee-ec10-4aa8-8588-a7fec72456ca</td>\n",
       "      <td>https://marsh.com/</td>\n",
       "      <td>False</td>\n",
       "      <td>special</td>\n",
       "      <td>food_and_drink</td>\n",
       "      <td>food_and_drink</td>\n",
       "    </tr>\n",
       "    <tr>\n",
       "      <th>28</th>\n",
       "      <td>191d94e8-e78a-4252-9860-fe410c753665</td>\n",
       "      <td>37a7403b-b656-4be8-9599-67e8bb996a28</td>\n",
       "      <td>65</td>\n",
       "      <td>2023-09-02</td>\n",
       "      <td>4749</td>\n",
       "      <td>Brown-Fisher</td>\n",
       "      <td>6b9f12c7-6604-4d48-9c0a-0a6788ad96d8</td>\n",
       "      <td>http://jackson-gibson.biz/</td>\n",
       "      <td>False</td>\n",
       "      <td>place</td>\n",
       "      <td>food_and_drink</td>\n",
       "      <td>trnasportation</td>\n",
       "    </tr>\n",
       "    <tr>\n",
       "      <th>29</th>\n",
       "      <td>ad2fbd6e-bb53-436d-82a7-bc4452e6d3c4</td>\n",
       "      <td>2993e6e9-8478-46c7-9ced-4b9201b02f38</td>\n",
       "      <td>51</td>\n",
       "      <td>2023-04-24</td>\n",
       "      <td>7032</td>\n",
       "      <td>Winters Ltd</td>\n",
       "      <td>2f6d3d6c-31e2-4098-accd-71e6b17577f2</td>\n",
       "      <td>http://www.riley.net/</td>\n",
       "      <td>False</td>\n",
       "      <td>place</td>\n",
       "      <td>travel</td>\n",
       "      <td>entertainment</td>\n",
       "    </tr>\n",
       "    <tr>\n",
       "      <th>30</th>\n",
       "      <td>275a1b99-b7c4-401e-a194-d2b93974e13e</td>\n",
       "      <td>8040eb60-dad8-4d03-a158-53c2d0571d91</td>\n",
       "      <td>20</td>\n",
       "      <td>2023-09-24</td>\n",
       "      <td>7761</td>\n",
       "      <td>Winters, Gardner and Burns</td>\n",
       "      <td>37ec7364-b627-445b-9736-98e7045e8d31</td>\n",
       "      <td>https://www.neal.com/</td>\n",
       "      <td>False</td>\n",
       "      <td>place</td>\n",
       "      <td>travel</td>\n",
       "      <td>entertainment</td>\n",
       "    </tr>\n",
       "    <tr>\n",
       "      <th>31</th>\n",
       "      <td>0b1f4a35-36da-4afb-ada3-0f1fa10321fb</td>\n",
       "      <td>8040eb60-dad8-4d03-a158-53c2d0571d91</td>\n",
       "      <td>78</td>\n",
       "      <td>2023-08-26</td>\n",
       "      <td>2979</td>\n",
       "      <td>Maldonado LLC</td>\n",
       "      <td>406edbd1-1807-4ff7-9e5b-8cf513f822e7</td>\n",
       "      <td>http://www.wilson.info/</td>\n",
       "      <td>False</td>\n",
       "      <td>place</td>\n",
       "      <td>entertainment</td>\n",
       "      <td>travel</td>\n",
       "    </tr>\n",
       "    <tr>\n",
       "      <th>32</th>\n",
       "      <td>7845d6b0-8948-4ecb-b4d1-39b04d5b6e0e</td>\n",
       "      <td>2993e6e9-8478-46c7-9ced-4b9201b02f38</td>\n",
       "      <td>45</td>\n",
       "      <td>2023-05-03</td>\n",
       "      <td>3599</td>\n",
       "      <td>Robinson-Spears</td>\n",
       "      <td>e1d797dc-5a1d-45b7-8401-9e73143b7814</td>\n",
       "      <td>https://www.hansen.com/</td>\n",
       "      <td>False</td>\n",
       "      <td>special</td>\n",
       "      <td>travel</td>\n",
       "      <td>travel</td>\n",
       "    </tr>\n",
       "    <tr>\n",
       "      <th>33</th>\n",
       "      <td>7c9df818-acfc-4b70-9351-1926122ac33f</td>\n",
       "      <td>96cebff6-ac88-4347-86b4-ffdd49bda362</td>\n",
       "      <td>60</td>\n",
       "      <td>2023-11-28</td>\n",
       "      <td>4375</td>\n",
       "      <td>Henderson PLC</td>\n",
       "      <td>36a053ef-be82-47c2-bce0-3091bd559fbf</td>\n",
       "      <td>https://www.duffy-bauer.com/</td>\n",
       "      <td>False</td>\n",
       "      <td>place</td>\n",
       "      <td>entertainment</td>\n",
       "      <td>trnasportation</td>\n",
       "    </tr>\n",
       "    <tr>\n",
       "      <th>34</th>\n",
       "      <td>c25a4b0f-d4a2-4aca-99f0-faca9b8171a6</td>\n",
       "      <td>95b23041-ca63-4866-b8fb-be44ac1e4082</td>\n",
       "      <td>97</td>\n",
       "      <td>2023-05-14</td>\n",
       "      <td>1417</td>\n",
       "      <td>Shaw, Navarro and Morris</td>\n",
       "      <td>be20229b-6b10-4036-a425-8d4f140fd44f</td>\n",
       "      <td>https://www.terrell-yates.com/</td>\n",
       "      <td>False</td>\n",
       "      <td>special</td>\n",
       "      <td>entertainment</td>\n",
       "      <td>travel</td>\n",
       "    </tr>\n",
       "    <tr>\n",
       "      <th>35</th>\n",
       "      <td>20f87071-8898-4c73-a04a-0f592ed1928a</td>\n",
       "      <td>96cebff6-ac88-4347-86b4-ffdd49bda362</td>\n",
       "      <td>7</td>\n",
       "      <td>2023-08-19</td>\n",
       "      <td>5572</td>\n",
       "      <td>Martin-Smith</td>\n",
       "      <td>6c74b083-28a2-4b23-9b15-a6a51e081668</td>\n",
       "      <td>http://www.butler-douglas.info/</td>\n",
       "      <td>False</td>\n",
       "      <td>place</td>\n",
       "      <td>food_and_drink</td>\n",
       "      <td>trnasportation</td>\n",
       "    </tr>\n",
       "    <tr>\n",
       "      <th>36</th>\n",
       "      <td>e6a16c56-0359-4c10-b6f0-00801899c446</td>\n",
       "      <td>2993e6e9-8478-46c7-9ced-4b9201b02f38</td>\n",
       "      <td>62</td>\n",
       "      <td>2023-05-30</td>\n",
       "      <td>5041</td>\n",
       "      <td>Davis, Cox and Miles</td>\n",
       "      <td>7f5eca9d-e5e5-4791-a8a1-80517e86b52c</td>\n",
       "      <td>http://www.fernandez-jackson.com/</td>\n",
       "      <td>False</td>\n",
       "      <td>special</td>\n",
       "      <td>travel</td>\n",
       "      <td>food_and_drink</td>\n",
       "    </tr>\n",
       "    <tr>\n",
       "      <th>37</th>\n",
       "      <td>31548b08-4e81-47fb-a586-a078f8bd7ec7</td>\n",
       "      <td>95395096-0777-4c51-9990-831fe47c8e84</td>\n",
       "      <td>68</td>\n",
       "      <td>2023-10-05</td>\n",
       "      <td>5988</td>\n",
       "      <td>Rubio Ltd</td>\n",
       "      <td>7433c62f-922e-40c7-9339-4167bf7875a1</td>\n",
       "      <td>https://ferguson.com/</td>\n",
       "      <td>False</td>\n",
       "      <td>special</td>\n",
       "      <td>entertainment</td>\n",
       "      <td>trnasportation</td>\n",
       "    </tr>\n",
       "    <tr>\n",
       "      <th>38</th>\n",
       "      <td>3e7f7f93-9004-45a8-9c19-5c7dc71ecde3</td>\n",
       "      <td>37a7403b-b656-4be8-9599-67e8bb996a28</td>\n",
       "      <td>3</td>\n",
       "      <td>2023-06-16</td>\n",
       "      <td>7401</td>\n",
       "      <td>Harris, Berg and Krueger</td>\n",
       "      <td>0e7aaac8-fca5-43a7-9791-bdacacfafee9</td>\n",
       "      <td>http://poole-jacobs.com/</td>\n",
       "      <td>False</td>\n",
       "      <td>place</td>\n",
       "      <td>trnasportation</td>\n",
       "      <td>trnasportation</td>\n",
       "    </tr>\n",
       "    <tr>\n",
       "      <th>39</th>\n",
       "      <td>07a91a32-1969-4d99-b66f-fce76fc73fbb</td>\n",
       "      <td>8040eb60-dad8-4d03-a158-53c2d0571d91</td>\n",
       "      <td>47</td>\n",
       "      <td>2023-05-14</td>\n",
       "      <td>9593</td>\n",
       "      <td>Oliver Group</td>\n",
       "      <td>a42513c3-bde4-4d2d-81cc-1f642734c6cb</td>\n",
       "      <td>https://myers.com/</td>\n",
       "      <td>False</td>\n",
       "      <td>place</td>\n",
       "      <td>entertainment</td>\n",
       "      <td>entertainment</td>\n",
       "    </tr>\n",
       "    <tr>\n",
       "      <th>40</th>\n",
       "      <td>2eea9820-6929-45eb-962e-fbf0b7f28882</td>\n",
       "      <td>2c821091-a11e-425b-acf1-4d23b2e65a35</td>\n",
       "      <td>56</td>\n",
       "      <td>2023-02-03</td>\n",
       "      <td>3851</td>\n",
       "      <td>Fitzgerald-Campbell</td>\n",
       "      <td>0f1c5ba3-d2bd-40d9-9b5b-0ca39e6fff8e</td>\n",
       "      <td>http://www.nichols.com/</td>\n",
       "      <td>False</td>\n",
       "      <td>special</td>\n",
       "      <td>entertainment</td>\n",
       "      <td>trnasportation</td>\n",
       "    </tr>\n",
       "    <tr>\n",
       "      <th>41</th>\n",
       "      <td>4a627f0f-70dc-4994-a2fe-e3247254c1c3</td>\n",
       "      <td>2993e6e9-8478-46c7-9ced-4b9201b02f38</td>\n",
       "      <td>72</td>\n",
       "      <td>2023-04-09</td>\n",
       "      <td>8633</td>\n",
       "      <td>Lyons Group</td>\n",
       "      <td>7339ca1b-240b-4570-a678-248550ec7c66</td>\n",
       "      <td>http://www.allison.com/</td>\n",
       "      <td>False</td>\n",
       "      <td>place</td>\n",
       "      <td>entertainment</td>\n",
       "      <td>entertainment</td>\n",
       "    </tr>\n",
       "    <tr>\n",
       "      <th>42</th>\n",
       "      <td>5ffa2315-27a6-492d-af56-2584c27f1578</td>\n",
       "      <td>2c821091-a11e-425b-acf1-4d23b2e65a35</td>\n",
       "      <td>39</td>\n",
       "      <td>2023-02-26</td>\n",
       "      <td>1245</td>\n",
       "      <td>Bowen PLC</td>\n",
       "      <td>abf8886f-24fe-44fc-93e6-c11f73454474</td>\n",
       "      <td>http://taylor-torres.com/</td>\n",
       "      <td>False</td>\n",
       "      <td>special</td>\n",
       "      <td>food_and_drink</td>\n",
       "      <td>travel</td>\n",
       "    </tr>\n",
       "    <tr>\n",
       "      <th>43</th>\n",
       "      <td>29a450d7-0df4-490c-8e30-b5dca6a8047f</td>\n",
       "      <td>d5c8549f-1bba-41ac-8bb9-2a6afdf88c8e</td>\n",
       "      <td>66</td>\n",
       "      <td>2023-02-09</td>\n",
       "      <td>3114</td>\n",
       "      <td>White, Perez and Atkinson</td>\n",
       "      <td>501e5a2e-055a-485f-b4eb-8ce88b54d965</td>\n",
       "      <td>https://norris.com/</td>\n",
       "      <td>False</td>\n",
       "      <td>place</td>\n",
       "      <td>travel</td>\n",
       "      <td>trnasportation</td>\n",
       "    </tr>\n",
       "    <tr>\n",
       "      <th>44</th>\n",
       "      <td>fde2a345-da97-46c7-9131-4bee21b82bfa</td>\n",
       "      <td>881f930a-fdbd-4035-8dfd-6d050ec07551</td>\n",
       "      <td>29</td>\n",
       "      <td>2023-03-01</td>\n",
       "      <td>4972</td>\n",
       "      <td>Moore, Charles and Christensen</td>\n",
       "      <td>47a85527-8bb0-4a0d-9ff1-d7c80517a2d3</td>\n",
       "      <td>http://www.fuller.com/</td>\n",
       "      <td>False</td>\n",
       "      <td>place</td>\n",
       "      <td>travel</td>\n",
       "      <td>food_and_drink</td>\n",
       "    </tr>\n",
       "    <tr>\n",
       "      <th>45</th>\n",
       "      <td>ee5e6e77-139c-49d1-aad8-4ecbd7561ac9</td>\n",
       "      <td>2993e6e9-8478-46c7-9ced-4b9201b02f38</td>\n",
       "      <td>41</td>\n",
       "      <td>2023-05-28</td>\n",
       "      <td>6975</td>\n",
       "      <td>Hurst, Welch and Conway</td>\n",
       "      <td>8177ee5e-5657-4711-a381-4ac14408ee7a</td>\n",
       "      <td>https://gibson-boyer.com/</td>\n",
       "      <td>False</td>\n",
       "      <td>special</td>\n",
       "      <td>food_and_drink</td>\n",
       "      <td>travel</td>\n",
       "    </tr>\n",
       "    <tr>\n",
       "      <th>46</th>\n",
       "      <td>53f225c4-9148-4d48-adc3-5e1c8ffabf7f</td>\n",
       "      <td>95b23041-ca63-4866-b8fb-be44ac1e4082</td>\n",
       "      <td>78</td>\n",
       "      <td>2023-04-17</td>\n",
       "      <td>3880</td>\n",
       "      <td>Valencia, Santos and Miller</td>\n",
       "      <td>ceb05b2e-3a24-4c68-b608-45ce0791b8bf</td>\n",
       "      <td>https://alvarez.com/</td>\n",
       "      <td>False</td>\n",
       "      <td>place</td>\n",
       "      <td>travel</td>\n",
       "      <td>travel</td>\n",
       "    </tr>\n",
       "    <tr>\n",
       "      <th>47</th>\n",
       "      <td>39768205-a1da-4af7-b6b4-c3786cd47431</td>\n",
       "      <td>37a7403b-b656-4be8-9599-67e8bb996a28</td>\n",
       "      <td>26</td>\n",
       "      <td>2023-11-09</td>\n",
       "      <td>9511</td>\n",
       "      <td>Park, Elliott and Ortiz</td>\n",
       "      <td>65d343f8-cfdb-44c9-88b1-cbc83782ce48</td>\n",
       "      <td>http://www.jenkins.com/</td>\n",
       "      <td>False</td>\n",
       "      <td>place</td>\n",
       "      <td>food_and_drink</td>\n",
       "      <td>food_and_drink</td>\n",
       "    </tr>\n",
       "    <tr>\n",
       "      <th>48</th>\n",
       "      <td>c9be1133-4ac7-4587-a54f-a3b753db1267</td>\n",
       "      <td>881f930a-fdbd-4035-8dfd-6d050ec07551</td>\n",
       "      <td>13</td>\n",
       "      <td>2023-05-03</td>\n",
       "      <td>3733</td>\n",
       "      <td>Norris-Winters</td>\n",
       "      <td>2a0cdf7e-1bbd-483c-95f5-5a8218e5b569</td>\n",
       "      <td>https://www.dunn.net/</td>\n",
       "      <td>False</td>\n",
       "      <td>special</td>\n",
       "      <td>trnasportation</td>\n",
       "      <td>travel</td>\n",
       "    </tr>\n",
       "    <tr>\n",
       "      <th>49</th>\n",
       "      <td>a8a425b7-93aa-48ab-95fb-824272c4edfb</td>\n",
       "      <td>881f930a-fdbd-4035-8dfd-6d050ec07551</td>\n",
       "      <td>12</td>\n",
       "      <td>2023-02-13</td>\n",
       "      <td>3219</td>\n",
       "      <td>Perez and Sons</td>\n",
       "      <td>9f90d4fb-0214-4fef-b743-961929b9f213</td>\n",
       "      <td>http://www.potter.info/</td>\n",
       "      <td>False</td>\n",
       "      <td>place</td>\n",
       "      <td>trnasportation</td>\n",
       "      <td>travel</td>\n",
       "    </tr>\n",
       "  </tbody>\n",
       "</table>\n",
       "</div>"
      ],
      "text/plain": [
       "                          transaction_id  \\\n",
       "0   8e294c9e-0fa9-41e3-86fb-09f285e6f3eb   \n",
       "1   7a44e1bb-196a-4872-a895-0f5ccd908564   \n",
       "2   7c6ecc90-2675-47e2-8341-bdbd9f1db005   \n",
       "3   751daadb-88e6-4a51-9c95-716b1fa716db   \n",
       "4   07b2bd06-6e7a-4580-9cd8-ff8a6c853355   \n",
       "5   ee76f71f-98ac-4271-a376-4fd2069edfe3   \n",
       "6   9ff109b3-1e51-4c43-9f43-6dfb541be3c1   \n",
       "7   9cf19838-0ce1-4989-9ffe-7431b4af4260   \n",
       "8   7e63bf9c-dd99-46e0-9dc9-7520d5e93d14   \n",
       "9   048eec16-f6b6-4300-809b-68a309e569f2   \n",
       "10  8aa4aa6c-6269-4f28-8397-97d6822d997c   \n",
       "11  58ecc42d-a9a5-40a9-8335-fe7fb2bc5da7   \n",
       "12  1a92dde4-803d-4ff7-b1a5-5149979330a6   \n",
       "13  609b2708-0144-4d5f-8910-c638195c1f2a   \n",
       "14  5a2bdd20-9645-4857-baed-8e297209dc2a   \n",
       "15  280eb9d7-df0e-4dd5-8c72-f958a63c0e2d   \n",
       "16  949141f7-248c-4c33-8788-87745dfbff90   \n",
       "17  8c79c2c4-ec6e-47cd-93c5-1938aa5e8c66   \n",
       "18  2f0ed15f-b545-474f-ad07-439b44dc7d0b   \n",
       "19  ac74000a-cb4f-414a-8f2f-7d1a40429736   \n",
       "20  83356aea-1741-4bee-9822-97ece6f17fde   \n",
       "21  9a68414a-08c6-4d72-a595-dddf898e2ae6   \n",
       "22  e120621d-c105-4a2e-90ca-32b29240e20d   \n",
       "23  bf51e1af-b6eb-4649-bc5e-76883b5dd7e3   \n",
       "24  58d7a0d5-4493-4f08-a7e5-4867d59e58ac   \n",
       "25  44032380-fad4-4d00-87ae-5843ed5b5b4e   \n",
       "26  486310b6-fc76-490c-b901-c07e30c24f69   \n",
       "27  9a0b1de6-fa9b-41fd-9223-ce2a512b0425   \n",
       "28  191d94e8-e78a-4252-9860-fe410c753665   \n",
       "29  ad2fbd6e-bb53-436d-82a7-bc4452e6d3c4   \n",
       "30  275a1b99-b7c4-401e-a194-d2b93974e13e   \n",
       "31  0b1f4a35-36da-4afb-ada3-0f1fa10321fb   \n",
       "32  7845d6b0-8948-4ecb-b4d1-39b04d5b6e0e   \n",
       "33  7c9df818-acfc-4b70-9351-1926122ac33f   \n",
       "34  c25a4b0f-d4a2-4aca-99f0-faca9b8171a6   \n",
       "35  20f87071-8898-4c73-a04a-0f592ed1928a   \n",
       "36  e6a16c56-0359-4c10-b6f0-00801899c446   \n",
       "37  31548b08-4e81-47fb-a586-a078f8bd7ec7   \n",
       "38  3e7f7f93-9004-45a8-9c19-5c7dc71ecde3   \n",
       "39  07a91a32-1969-4d99-b66f-fce76fc73fbb   \n",
       "40  2eea9820-6929-45eb-962e-fbf0b7f28882   \n",
       "41  4a627f0f-70dc-4994-a2fe-e3247254c1c3   \n",
       "42  5ffa2315-27a6-492d-af56-2584c27f1578   \n",
       "43  29a450d7-0df4-490c-8e30-b5dca6a8047f   \n",
       "44  fde2a345-da97-46c7-9131-4bee21b82bfa   \n",
       "45  ee5e6e77-139c-49d1-aad8-4ecbd7561ac9   \n",
       "46  53f225c4-9148-4d48-adc3-5e1c8ffabf7f   \n",
       "47  39768205-a1da-4af7-b6b4-c3786cd47431   \n",
       "48  c9be1133-4ac7-4587-a54f-a3b753db1267   \n",
       "49  a8a425b7-93aa-48ab-95fb-824272c4edfb   \n",
       "\n",
       "                              account_id  amount       date  category_id  \\\n",
       "0   2c821091-a11e-425b-acf1-4d23b2e65a35      68 2023-07-31         6433   \n",
       "1   96cebff6-ac88-4347-86b4-ffdd49bda362      46 2023-05-15         6087   \n",
       "2   37a7403b-b656-4be8-9599-67e8bb996a28      55 2023-01-04         8365   \n",
       "3   2a3da537-90ca-4d3a-b5b1-1b16263a759f      14 2023-10-07         5261   \n",
       "4   2a3da537-90ca-4d3a-b5b1-1b16263a759f      37 2023-10-20         2268   \n",
       "5   95b23041-ca63-4866-b8fb-be44ac1e4082      65 2023-07-24         3066   \n",
       "6   95395096-0777-4c51-9990-831fe47c8e84      57 2023-01-18         1888   \n",
       "7   2993e6e9-8478-46c7-9ced-4b9201b02f38      16 2023-09-24         2636   \n",
       "8   96cebff6-ac88-4347-86b4-ffdd49bda362      66 2023-04-25         1577   \n",
       "9   2993e6e9-8478-46c7-9ced-4b9201b02f38      13 2023-09-30         8671   \n",
       "10  95b23041-ca63-4866-b8fb-be44ac1e4082      77 2023-03-02         3495   \n",
       "11  95b23041-ca63-4866-b8fb-be44ac1e4082      38 2023-09-19         5397   \n",
       "12  d5c8549f-1bba-41ac-8bb9-2a6afdf88c8e      28 2023-01-12         3152   \n",
       "13  96cebff6-ac88-4347-86b4-ffdd49bda362      45 2023-12-10         1568   \n",
       "14  2a3da537-90ca-4d3a-b5b1-1b16263a759f      36 2023-02-16         6752   \n",
       "15  881f930a-fdbd-4035-8dfd-6d050ec07551      77 2023-04-23         9201   \n",
       "16  95b23041-ca63-4866-b8fb-be44ac1e4082      30 2023-12-11         3556   \n",
       "17  37a7403b-b656-4be8-9599-67e8bb996a28      34 2023-08-03         4042   \n",
       "18  95b23041-ca63-4866-b8fb-be44ac1e4082      21 2023-12-28         6090   \n",
       "19  37a7403b-b656-4be8-9599-67e8bb996a28      84 2023-03-23         9071   \n",
       "20  96cebff6-ac88-4347-86b4-ffdd49bda362       9 2023-01-21         1629   \n",
       "21  2993e6e9-8478-46c7-9ced-4b9201b02f38      10 2023-08-22         6464   \n",
       "22  95395096-0777-4c51-9990-831fe47c8e84      58 2023-11-24         5668   \n",
       "23  96cebff6-ac88-4347-86b4-ffdd49bda362      79 2023-12-02         3347   \n",
       "24  d5c8549f-1bba-41ac-8bb9-2a6afdf88c8e      48 2023-12-05         2017   \n",
       "25  95395096-0777-4c51-9990-831fe47c8e84      65 2023-07-11         2487   \n",
       "26  95395096-0777-4c51-9990-831fe47c8e84      68 2023-11-26         8512   \n",
       "27  2c821091-a11e-425b-acf1-4d23b2e65a35      82 2023-05-07         7380   \n",
       "28  37a7403b-b656-4be8-9599-67e8bb996a28      65 2023-09-02         4749   \n",
       "29  2993e6e9-8478-46c7-9ced-4b9201b02f38      51 2023-04-24         7032   \n",
       "30  8040eb60-dad8-4d03-a158-53c2d0571d91      20 2023-09-24         7761   \n",
       "31  8040eb60-dad8-4d03-a158-53c2d0571d91      78 2023-08-26         2979   \n",
       "32  2993e6e9-8478-46c7-9ced-4b9201b02f38      45 2023-05-03         3599   \n",
       "33  96cebff6-ac88-4347-86b4-ffdd49bda362      60 2023-11-28         4375   \n",
       "34  95b23041-ca63-4866-b8fb-be44ac1e4082      97 2023-05-14         1417   \n",
       "35  96cebff6-ac88-4347-86b4-ffdd49bda362       7 2023-08-19         5572   \n",
       "36  2993e6e9-8478-46c7-9ced-4b9201b02f38      62 2023-05-30         5041   \n",
       "37  95395096-0777-4c51-9990-831fe47c8e84      68 2023-10-05         5988   \n",
       "38  37a7403b-b656-4be8-9599-67e8bb996a28       3 2023-06-16         7401   \n",
       "39  8040eb60-dad8-4d03-a158-53c2d0571d91      47 2023-05-14         9593   \n",
       "40  2c821091-a11e-425b-acf1-4d23b2e65a35      56 2023-02-03         3851   \n",
       "41  2993e6e9-8478-46c7-9ced-4b9201b02f38      72 2023-04-09         8633   \n",
       "42  2c821091-a11e-425b-acf1-4d23b2e65a35      39 2023-02-26         1245   \n",
       "43  d5c8549f-1bba-41ac-8bb9-2a6afdf88c8e      66 2023-02-09         3114   \n",
       "44  881f930a-fdbd-4035-8dfd-6d050ec07551      29 2023-03-01         4972   \n",
       "45  2993e6e9-8478-46c7-9ced-4b9201b02f38      41 2023-05-28         6975   \n",
       "46  95b23041-ca63-4866-b8fb-be44ac1e4082      78 2023-04-17         3880   \n",
       "47  37a7403b-b656-4be8-9599-67e8bb996a28      26 2023-11-09         9511   \n",
       "48  881f930a-fdbd-4035-8dfd-6d050ec07551      13 2023-05-03         3733   \n",
       "49  881f930a-fdbd-4035-8dfd-6d050ec07551      12 2023-02-13         3219   \n",
       "\n",
       "                     merchant_name                    merchant_entity_id  \\\n",
       "0      Rodriguez, Hart and Shelton  0dea61d3-d6da-433d-944f-b26a2ad96405   \n",
       "1                   Barrett-Walter  84da2631-8a82-4da9-aa8d-c5f92acc3745   \n",
       "2   Martinez, Schneider and Austin  efcc6f91-d4ec-4ef3-ba62-2c03e45f4e17   \n",
       "3                     Lee and Sons  86179ad1-9a43-409a-8b3c-8ad49c772286   \n",
       "4                   Campbell-Vance  2030b428-7a2d-45f4-8f57-0d0b203a6242   \n",
       "5                     Martinez LLC  7acdf15c-ace2-4961-b17a-56f62f098669   \n",
       "6                     Conway Group  774de2d2-383d-4407-91d0-98daa81e251e   \n",
       "7             Bauer, Lee and Walls  6a7d32d0-03e0-45e7-aca3-9556e8551153   \n",
       "8        Hancock, Moon and Wallace  fc61bf7d-766b-435a-a9d2-c3857d389a79   \n",
       "9          Franklin, Lopez and Kim  58b7e4c1-ea14-49d2-bc76-bc4978384985   \n",
       "10     Smith, Bradley and Williams  36b4014a-0bd0-49e4-b8f1-2759045fa342   \n",
       "11                      Chavez PLC  30f96153-ecc9-42b7-abd2-7c5efe148b75   \n",
       "12                      Hunter-May  3d0f3227-54eb-4365-b3e2-59a1d25c41c9   \n",
       "13                       Allen Ltd  c01aee76-ecd4-4f11-bb00-08774519215f   \n",
       "14                    Johnson-King  1d50b522-1500-44c7-9b39-95df19c09366   \n",
       "15                    Castillo PLC  44a8148a-6ee7-4832-947e-576d76c795b5   \n",
       "16         Barnes, Perry and Baker  2ff28553-7c99-4bb6-bb85-cbfd096c15e9   \n",
       "17       Tucker, Allen and Wallace  edc6857d-3895-4c63-a724-c9cc49d2f5b3   \n",
       "18                     Kennedy Inc  b793a0b3-226d-4304-973d-2fffb2c97aad   \n",
       "19          Knox, Zamora and Burke  374f23ee-949b-4f45-8f6a-94931562b48e   \n",
       "20                    Nelson Group  25196175-2251-4f29-8d3f-e18a64ab47a1   \n",
       "21                 Robertson-Allen  3077fe56-691e-42c1-a667-2456ede73de7   \n",
       "22                          Le PLC  7227566e-21dc-455a-bafa-b6e10260b0d1   \n",
       "23                      Odom Group  9f44a268-0f47-4f72-b972-29faf13c363e   \n",
       "24                    Cummings LLC  023ae78a-f6ea-4811-bdec-d7da6fe753f8   \n",
       "25                   Guzman-Miller  4e3ababc-cd1a-4973-b0fb-2478ae08ad1d   \n",
       "26                      Wright Ltd  e6e759b5-3511-44e0-bae4-a4ea10f49144   \n",
       "27                   Powell-Horton  40a5d0ee-ec10-4aa8-8588-a7fec72456ca   \n",
       "28                    Brown-Fisher  6b9f12c7-6604-4d48-9c0a-0a6788ad96d8   \n",
       "29                     Winters Ltd  2f6d3d6c-31e2-4098-accd-71e6b17577f2   \n",
       "30      Winters, Gardner and Burns  37ec7364-b627-445b-9736-98e7045e8d31   \n",
       "31                   Maldonado LLC  406edbd1-1807-4ff7-9e5b-8cf513f822e7   \n",
       "32                 Robinson-Spears  e1d797dc-5a1d-45b7-8401-9e73143b7814   \n",
       "33                   Henderson PLC  36a053ef-be82-47c2-bce0-3091bd559fbf   \n",
       "34        Shaw, Navarro and Morris  be20229b-6b10-4036-a425-8d4f140fd44f   \n",
       "35                    Martin-Smith  6c74b083-28a2-4b23-9b15-a6a51e081668   \n",
       "36            Davis, Cox and Miles  7f5eca9d-e5e5-4791-a8a1-80517e86b52c   \n",
       "37                       Rubio Ltd  7433c62f-922e-40c7-9339-4167bf7875a1   \n",
       "38        Harris, Berg and Krueger  0e7aaac8-fca5-43a7-9791-bdacacfafee9   \n",
       "39                    Oliver Group  a42513c3-bde4-4d2d-81cc-1f642734c6cb   \n",
       "40             Fitzgerald-Campbell  0f1c5ba3-d2bd-40d9-9b5b-0ca39e6fff8e   \n",
       "41                     Lyons Group  7339ca1b-240b-4570-a678-248550ec7c66   \n",
       "42                       Bowen PLC  abf8886f-24fe-44fc-93e6-c11f73454474   \n",
       "43       White, Perez and Atkinson  501e5a2e-055a-485f-b4eb-8ce88b54d965   \n",
       "44  Moore, Charles and Christensen  47a85527-8bb0-4a0d-9ff1-d7c80517a2d3   \n",
       "45         Hurst, Welch and Conway  8177ee5e-5657-4711-a381-4ac14408ee7a   \n",
       "46     Valencia, Santos and Miller  ceb05b2e-3a24-4c68-b608-45ce0791b8bf   \n",
       "47         Park, Elliott and Ortiz  65d343f8-cfdb-44c9-88b1-cbc83782ce48   \n",
       "48                  Norris-Winters  2a0cdf7e-1bbd-483c-95f5-5a8218e5b569   \n",
       "49                  Perez and Sons  9f90d4fb-0214-4fef-b743-961929b9f213   \n",
       "\n",
       "                              website  pending transaction_type  \\\n",
       "0               http://www.jones.com/    False            place   \n",
       "1        http://www.johnson-cobb.org/    False          special   \n",
       "2          http://www.gutierrez.info/    False            place   \n",
       "3       http://www.bishop-torres.com/    False          special   \n",
       "4                https://salazar.net/    False            place   \n",
       "5          https://clarke-gaines.biz/    False            place   \n",
       "6       https://www.bonilla-hall.com/    False            place   \n",
       "7                   http://allen.org/    False            place   \n",
       "8      https://stevenson-johnson.biz/    False          special   \n",
       "9               http://www.drake.biz/    False            place   \n",
       "10    http://www.williams-taylor.com/    False          special   \n",
       "11            https://www.lopez.info/    False          special   \n",
       "12           http://peters-hicks.biz/    False          special   \n",
       "13           http://holmes-kelly.com/    False          special   \n",
       "14     http://phillips-fletcher.info/    False            place   \n",
       "15           http://www.anderson.com/    False            place   \n",
       "16                 https://brown.org/    False          special   \n",
       "17                 http://brown.info/    False          special   \n",
       "18                  http://good.info/    False            place   \n",
       "19         http://www.ward-mejia.com/    False            place   \n",
       "20    http://www.torres-mcmahon.info/    False            place   \n",
       "21             http://www.ritter.com/    False          special   \n",
       "22                  http://hicks.com/    False            place   \n",
       "23        http://walton-marshall.net/    False            place   \n",
       "24              http://www.smith.com/    False          special   \n",
       "25                   https://lee.com/    False            place   \n",
       "26                 http://powers.com/    False          special   \n",
       "27                 https://marsh.com/    False          special   \n",
       "28         http://jackson-gibson.biz/    False            place   \n",
       "29              http://www.riley.net/    False            place   \n",
       "30              https://www.neal.com/    False            place   \n",
       "31            http://www.wilson.info/    False            place   \n",
       "32            https://www.hansen.com/    False          special   \n",
       "33       https://www.duffy-bauer.com/    False            place   \n",
       "34     https://www.terrell-yates.com/    False          special   \n",
       "35    http://www.butler-douglas.info/    False            place   \n",
       "36  http://www.fernandez-jackson.com/    False          special   \n",
       "37              https://ferguson.com/    False          special   \n",
       "38           http://poole-jacobs.com/    False            place   \n",
       "39                 https://myers.com/    False            place   \n",
       "40            http://www.nichols.com/    False          special   \n",
       "41            http://www.allison.com/    False            place   \n",
       "42          http://taylor-torres.com/    False          special   \n",
       "43                https://norris.com/    False            place   \n",
       "44             http://www.fuller.com/    False            place   \n",
       "45          https://gibson-boyer.com/    False          special   \n",
       "46               https://alvarez.com/    False            place   \n",
       "47            http://www.jenkins.com/    False            place   \n",
       "48              https://www.dunn.net/    False          special   \n",
       "49            http://www.potter.info/    False            place   \n",
       "\n",
       "   personal_finance_category_primary personal_finance_category_detailed  \n",
       "0                      entertainment                             travel  \n",
       "1                     food_and_drink                             travel  \n",
       "2                             travel                             travel  \n",
       "3                             travel                     food_and_drink  \n",
       "4                             travel                      entertainment  \n",
       "5                     food_and_drink                     food_and_drink  \n",
       "6                     trnasportation                             travel  \n",
       "7                     food_and_drink                             travel  \n",
       "8                             travel                     food_and_drink  \n",
       "9                      entertainment                             travel  \n",
       "10                            travel                      entertainment  \n",
       "11                            travel                      entertainment  \n",
       "12                            travel                             travel  \n",
       "13                    trnasportation                      entertainment  \n",
       "14                    trnasportation                             travel  \n",
       "15                     entertainment                             travel  \n",
       "16                    food_and_drink                     food_and_drink  \n",
       "17                     entertainment                      entertainment  \n",
       "18                     entertainment                             travel  \n",
       "19                    trnasportation                      entertainment  \n",
       "20                    trnasportation                      entertainment  \n",
       "21                    trnasportation                             travel  \n",
       "22                    food_and_drink                     trnasportation  \n",
       "23                     entertainment                     food_and_drink  \n",
       "24                     entertainment                     trnasportation  \n",
       "25                    trnasportation                             travel  \n",
       "26                    trnasportation                     trnasportation  \n",
       "27                    food_and_drink                     food_and_drink  \n",
       "28                    food_and_drink                     trnasportation  \n",
       "29                            travel                      entertainment  \n",
       "30                            travel                      entertainment  \n",
       "31                     entertainment                             travel  \n",
       "32                            travel                             travel  \n",
       "33                     entertainment                     trnasportation  \n",
       "34                     entertainment                             travel  \n",
       "35                    food_and_drink                     trnasportation  \n",
       "36                            travel                     food_and_drink  \n",
       "37                     entertainment                     trnasportation  \n",
       "38                    trnasportation                     trnasportation  \n",
       "39                     entertainment                      entertainment  \n",
       "40                     entertainment                     trnasportation  \n",
       "41                     entertainment                      entertainment  \n",
       "42                    food_and_drink                             travel  \n",
       "43                            travel                     trnasportation  \n",
       "44                            travel                     food_and_drink  \n",
       "45                    food_and_drink                             travel  \n",
       "46                            travel                             travel  \n",
       "47                    food_and_drink                     food_and_drink  \n",
       "48                    trnasportation                             travel  \n",
       "49                    trnasportation                             travel  "
      ]
     },
     "execution_count": 50,
     "metadata": {},
     "output_type": "execute_result"
    }
   ],
   "source": [
    "def get_transactions(count=50):\n",
    "    transactions = []\n",
    "    transaction_faker = Faker('en_US')\n",
    "    transaction_faker.add_provider(DynamicProvider(\n",
    "        provider_name=\"accounts\",\n",
    "        elements=list(accounts['account_id']),\n",
    "    ))\n",
    "\n",
    "    for i in range(count):      \n",
    "        transactions.append({\n",
    "        \"transaction_id\": faker.uuid4(),\n",
    "        \"account_id\": transaction_faker.accounts(),\n",
    "        \"amount\": random.randint(1, 100),\n",
    "        \"date\": generate_random_date(\"2023-01-01\", \"2024-01-01\"),\n",
    "        \"category_id\": random.randint(1000,9999),\n",
    "        \"merchant_name\": faker.company(),\n",
    "        \"merchant_entity_id\": faker.uuid4(),\n",
    "        \"website\": faker.url(),\n",
    "        \"pending\": False,\n",
    "        \"transaction_type\": faker.transaction_type(),\n",
    "        \"personal_finance_category_primary\": faker.personal_finance_category(),\n",
    "        \"personal_finance_category_detailed\": faker.personal_finance_category(),\n",
    "        })\n",
    "        \n",
    "    return transactions\n",
    "\n",
    "    \n",
    "    \n",
    "pd.DataFrame(get_transactions())\n",
    "\n",
    "\n"
   ]
  },
  {
   "cell_type": "code",
   "execution_count": 65,
   "metadata": {},
   "outputs": [],
   "source": [
    "date = df.date.str.split('/', expand =True)\n",
    "df['month'] = date[0]\n",
    "df['day'] = date[1]\n",
    "df['year'] = date[2]\n",
    "\n",
    "df.year = pd.to_numeric(df.year)\n",
    "df.month = pd.to_numeric(df.month)\n",
    "df.day = pd.to_numeric(df.day)"
   ]
  },
  {
   "cell_type": "code",
   "execution_count": 66,
   "metadata": {},
   "outputs": [],
   "source": [
    "df.date = pd.to_datetime(df.date)"
   ]
  },
  {
   "cell_type": "code",
   "execution_count": 67,
   "metadata": {},
   "outputs": [
    {
     "data": {
      "text/html": [
       "<div>\n",
       "<style scoped>\n",
       "    .dataframe tbody tr th:only-of-type {\n",
       "        vertical-align: middle;\n",
       "    }\n",
       "\n",
       "    .dataframe tbody tr th {\n",
       "        vertical-align: top;\n",
       "    }\n",
       "\n",
       "    .dataframe thead th {\n",
       "        text-align: right;\n",
       "    }\n",
       "</style>\n",
       "<table border=\"1\" class=\"dataframe\">\n",
       "  <thead>\n",
       "    <tr style=\"text-align: right;\">\n",
       "      <th></th>\n",
       "      <th>date</th>\n",
       "      <th>item_name</th>\n",
       "      <th>item_category</th>\n",
       "      <th>price</th>\n",
       "      <th>month</th>\n",
       "      <th>day</th>\n",
       "      <th>year</th>\n",
       "    </tr>\n",
       "  </thead>\n",
       "  <tbody>\n",
       "    <tr>\n",
       "      <th>0</th>\n",
       "      <td>2021-11-29</td>\n",
       "      <td>tea</td>\n",
       "      <td>food</td>\n",
       "      <td>10.0</td>\n",
       "      <td>11</td>\n",
       "      <td>29</td>\n",
       "      <td>2021</td>\n",
       "    </tr>\n",
       "    <tr>\n",
       "      <th>1</th>\n",
       "      <td>2021-11-29</td>\n",
       "      <td>cold coffe</td>\n",
       "      <td>food</td>\n",
       "      <td>35.0</td>\n",
       "      <td>11</td>\n",
       "      <td>29</td>\n",
       "      <td>2021</td>\n",
       "    </tr>\n",
       "    <tr>\n",
       "      <th>2</th>\n",
       "      <td>2021-11-29</td>\n",
       "      <td>flat coffe</td>\n",
       "      <td>food</td>\n",
       "      <td>10.0</td>\n",
       "      <td>11</td>\n",
       "      <td>29</td>\n",
       "      <td>2021</td>\n",
       "    </tr>\n",
       "    <tr>\n",
       "      <th>3</th>\n",
       "      <td>2021-11-29</td>\n",
       "      <td>biscuits</td>\n",
       "      <td>food</td>\n",
       "      <td>10.0</td>\n",
       "      <td>11</td>\n",
       "      <td>29</td>\n",
       "      <td>2021</td>\n",
       "    </tr>\n",
       "    <tr>\n",
       "      <th>4</th>\n",
       "      <td>2021-11-29</td>\n",
       "      <td>medicine</td>\n",
       "      <td>medicine</td>\n",
       "      <td>500.0</td>\n",
       "      <td>11</td>\n",
       "      <td>29</td>\n",
       "      <td>2021</td>\n",
       "    </tr>\n",
       "  </tbody>\n",
       "</table>\n",
       "</div>"
      ],
      "text/plain": [
       "        date   item_name item_category  price  month  day  year\n",
       "0 2021-11-29        tea           food   10.0     11   29  2021\n",
       "1 2021-11-29  cold coffe          food   35.0     11   29  2021\n",
       "2 2021-11-29  flat coffe          food   10.0     11   29  2021\n",
       "3 2021-11-29    biscuits          food   10.0     11   29  2021\n",
       "4 2021-11-29   medicine       medicine  500.0     11   29  2021"
      ]
     },
     "execution_count": 67,
     "metadata": {},
     "output_type": "execute_result"
    }
   ],
   "source": [
    "df.head()"
   ]
  },
  {
   "cell_type": "code",
   "execution_count": 71,
   "metadata": {},
   "outputs": [
    {
     "data": {
      "application/vnd.plotly.v1+json": {
       "config": {
        "plotlyServerURL": "https://plot.ly"
       },
       "data": [
        {
         "alignmentgroup": "True",
         "hovertemplate": "month=%{x}<br>price=%{y}<extra></extra>",
         "legendgroup": "",
         "marker": {
          "color": "#636efa",
          "pattern": {
           "shape": ""
          }
         },
         "name": "",
         "offsetgroup": "",
         "orientation": "v",
         "showlegend": false,
         "textposition": "auto",
         "type": "bar",
         "x": [
          1,
          2,
          3,
          4,
          5,
          6,
          7,
          8,
          9,
          10,
          11,
          12
         ],
         "xaxis": "x",
         "y": [
          11658,
          24504,
          20434,
          34995,
          27337,
          18691,
          8097,
          8448,
          3914,
          13857,
          6351,
          19481
         ],
         "yaxis": "y"
        }
       ],
       "layout": {
        "barmode": "relative",
        "legend": {
         "tracegroupgap": 0
        },
        "margin": {
         "t": 60
        },
        "template": {
         "data": {
          "bar": [
           {
            "error_x": {
             "color": "#2a3f5f"
            },
            "error_y": {
             "color": "#2a3f5f"
            },
            "marker": {
             "line": {
              "color": "#E5ECF6",
              "width": 0.5
             },
             "pattern": {
              "fillmode": "overlay",
              "size": 10,
              "solidity": 0.2
             }
            },
            "type": "bar"
           }
          ],
          "barpolar": [
           {
            "marker": {
             "line": {
              "color": "#E5ECF6",
              "width": 0.5
             },
             "pattern": {
              "fillmode": "overlay",
              "size": 10,
              "solidity": 0.2
             }
            },
            "type": "barpolar"
           }
          ],
          "carpet": [
           {
            "aaxis": {
             "endlinecolor": "#2a3f5f",
             "gridcolor": "white",
             "linecolor": "white",
             "minorgridcolor": "white",
             "startlinecolor": "#2a3f5f"
            },
            "baxis": {
             "endlinecolor": "#2a3f5f",
             "gridcolor": "white",
             "linecolor": "white",
             "minorgridcolor": "white",
             "startlinecolor": "#2a3f5f"
            },
            "type": "carpet"
           }
          ],
          "choropleth": [
           {
            "colorbar": {
             "outlinewidth": 0,
             "ticks": ""
            },
            "type": "choropleth"
           }
          ],
          "contour": [
           {
            "colorbar": {
             "outlinewidth": 0,
             "ticks": ""
            },
            "colorscale": [
             [
              0,
              "#0d0887"
             ],
             [
              0.1111111111111111,
              "#46039f"
             ],
             [
              0.2222222222222222,
              "#7201a8"
             ],
             [
              0.3333333333333333,
              "#9c179e"
             ],
             [
              0.4444444444444444,
              "#bd3786"
             ],
             [
              0.5555555555555556,
              "#d8576b"
             ],
             [
              0.6666666666666666,
              "#ed7953"
             ],
             [
              0.7777777777777778,
              "#fb9f3a"
             ],
             [
              0.8888888888888888,
              "#fdca26"
             ],
             [
              1,
              "#f0f921"
             ]
            ],
            "type": "contour"
           }
          ],
          "contourcarpet": [
           {
            "colorbar": {
             "outlinewidth": 0,
             "ticks": ""
            },
            "type": "contourcarpet"
           }
          ],
          "heatmap": [
           {
            "colorbar": {
             "outlinewidth": 0,
             "ticks": ""
            },
            "colorscale": [
             [
              0,
              "#0d0887"
             ],
             [
              0.1111111111111111,
              "#46039f"
             ],
             [
              0.2222222222222222,
              "#7201a8"
             ],
             [
              0.3333333333333333,
              "#9c179e"
             ],
             [
              0.4444444444444444,
              "#bd3786"
             ],
             [
              0.5555555555555556,
              "#d8576b"
             ],
             [
              0.6666666666666666,
              "#ed7953"
             ],
             [
              0.7777777777777778,
              "#fb9f3a"
             ],
             [
              0.8888888888888888,
              "#fdca26"
             ],
             [
              1,
              "#f0f921"
             ]
            ],
            "type": "heatmap"
           }
          ],
          "heatmapgl": [
           {
            "colorbar": {
             "outlinewidth": 0,
             "ticks": ""
            },
            "colorscale": [
             [
              0,
              "#0d0887"
             ],
             [
              0.1111111111111111,
              "#46039f"
             ],
             [
              0.2222222222222222,
              "#7201a8"
             ],
             [
              0.3333333333333333,
              "#9c179e"
             ],
             [
              0.4444444444444444,
              "#bd3786"
             ],
             [
              0.5555555555555556,
              "#d8576b"
             ],
             [
              0.6666666666666666,
              "#ed7953"
             ],
             [
              0.7777777777777778,
              "#fb9f3a"
             ],
             [
              0.8888888888888888,
              "#fdca26"
             ],
             [
              1,
              "#f0f921"
             ]
            ],
            "type": "heatmapgl"
           }
          ],
          "histogram": [
           {
            "marker": {
             "pattern": {
              "fillmode": "overlay",
              "size": 10,
              "solidity": 0.2
             }
            },
            "type": "histogram"
           }
          ],
          "histogram2d": [
           {
            "colorbar": {
             "outlinewidth": 0,
             "ticks": ""
            },
            "colorscale": [
             [
              0,
              "#0d0887"
             ],
             [
              0.1111111111111111,
              "#46039f"
             ],
             [
              0.2222222222222222,
              "#7201a8"
             ],
             [
              0.3333333333333333,
              "#9c179e"
             ],
             [
              0.4444444444444444,
              "#bd3786"
             ],
             [
              0.5555555555555556,
              "#d8576b"
             ],
             [
              0.6666666666666666,
              "#ed7953"
             ],
             [
              0.7777777777777778,
              "#fb9f3a"
             ],
             [
              0.8888888888888888,
              "#fdca26"
             ],
             [
              1,
              "#f0f921"
             ]
            ],
            "type": "histogram2d"
           }
          ],
          "histogram2dcontour": [
           {
            "colorbar": {
             "outlinewidth": 0,
             "ticks": ""
            },
            "colorscale": [
             [
              0,
              "#0d0887"
             ],
             [
              0.1111111111111111,
              "#46039f"
             ],
             [
              0.2222222222222222,
              "#7201a8"
             ],
             [
              0.3333333333333333,
              "#9c179e"
             ],
             [
              0.4444444444444444,
              "#bd3786"
             ],
             [
              0.5555555555555556,
              "#d8576b"
             ],
             [
              0.6666666666666666,
              "#ed7953"
             ],
             [
              0.7777777777777778,
              "#fb9f3a"
             ],
             [
              0.8888888888888888,
              "#fdca26"
             ],
             [
              1,
              "#f0f921"
             ]
            ],
            "type": "histogram2dcontour"
           }
          ],
          "mesh3d": [
           {
            "colorbar": {
             "outlinewidth": 0,
             "ticks": ""
            },
            "type": "mesh3d"
           }
          ],
          "parcoords": [
           {
            "line": {
             "colorbar": {
              "outlinewidth": 0,
              "ticks": ""
             }
            },
            "type": "parcoords"
           }
          ],
          "pie": [
           {
            "automargin": true,
            "type": "pie"
           }
          ],
          "scatter": [
           {
            "marker": {
             "colorbar": {
              "outlinewidth": 0,
              "ticks": ""
             }
            },
            "type": "scatter"
           }
          ],
          "scatter3d": [
           {
            "line": {
             "colorbar": {
              "outlinewidth": 0,
              "ticks": ""
             }
            },
            "marker": {
             "colorbar": {
              "outlinewidth": 0,
              "ticks": ""
             }
            },
            "type": "scatter3d"
           }
          ],
          "scattercarpet": [
           {
            "marker": {
             "colorbar": {
              "outlinewidth": 0,
              "ticks": ""
             }
            },
            "type": "scattercarpet"
           }
          ],
          "scattergeo": [
           {
            "marker": {
             "colorbar": {
              "outlinewidth": 0,
              "ticks": ""
             }
            },
            "type": "scattergeo"
           }
          ],
          "scattergl": [
           {
            "marker": {
             "colorbar": {
              "outlinewidth": 0,
              "ticks": ""
             }
            },
            "type": "scattergl"
           }
          ],
          "scattermapbox": [
           {
            "marker": {
             "colorbar": {
              "outlinewidth": 0,
              "ticks": ""
             }
            },
            "type": "scattermapbox"
           }
          ],
          "scatterpolar": [
           {
            "marker": {
             "colorbar": {
              "outlinewidth": 0,
              "ticks": ""
             }
            },
            "type": "scatterpolar"
           }
          ],
          "scatterpolargl": [
           {
            "marker": {
             "colorbar": {
              "outlinewidth": 0,
              "ticks": ""
             }
            },
            "type": "scatterpolargl"
           }
          ],
          "scatterternary": [
           {
            "marker": {
             "colorbar": {
              "outlinewidth": 0,
              "ticks": ""
             }
            },
            "type": "scatterternary"
           }
          ],
          "surface": [
           {
            "colorbar": {
             "outlinewidth": 0,
             "ticks": ""
            },
            "colorscale": [
             [
              0,
              "#0d0887"
             ],
             [
              0.1111111111111111,
              "#46039f"
             ],
             [
              0.2222222222222222,
              "#7201a8"
             ],
             [
              0.3333333333333333,
              "#9c179e"
             ],
             [
              0.4444444444444444,
              "#bd3786"
             ],
             [
              0.5555555555555556,
              "#d8576b"
             ],
             [
              0.6666666666666666,
              "#ed7953"
             ],
             [
              0.7777777777777778,
              "#fb9f3a"
             ],
             [
              0.8888888888888888,
              "#fdca26"
             ],
             [
              1,
              "#f0f921"
             ]
            ],
            "type": "surface"
           }
          ],
          "table": [
           {
            "cells": {
             "fill": {
              "color": "#EBF0F8"
             },
             "line": {
              "color": "white"
             }
            },
            "header": {
             "fill": {
              "color": "#C8D4E3"
             },
             "line": {
              "color": "white"
             }
            },
            "type": "table"
           }
          ]
         },
         "layout": {
          "annotationdefaults": {
           "arrowcolor": "#2a3f5f",
           "arrowhead": 0,
           "arrowwidth": 1
          },
          "autotypenumbers": "strict",
          "coloraxis": {
           "colorbar": {
            "outlinewidth": 0,
            "ticks": ""
           }
          },
          "colorscale": {
           "diverging": [
            [
             0,
             "#8e0152"
            ],
            [
             0.1,
             "#c51b7d"
            ],
            [
             0.2,
             "#de77ae"
            ],
            [
             0.3,
             "#f1b6da"
            ],
            [
             0.4,
             "#fde0ef"
            ],
            [
             0.5,
             "#f7f7f7"
            ],
            [
             0.6,
             "#e6f5d0"
            ],
            [
             0.7,
             "#b8e186"
            ],
            [
             0.8,
             "#7fbc41"
            ],
            [
             0.9,
             "#4d9221"
            ],
            [
             1,
             "#276419"
            ]
           ],
           "sequential": [
            [
             0,
             "#0d0887"
            ],
            [
             0.1111111111111111,
             "#46039f"
            ],
            [
             0.2222222222222222,
             "#7201a8"
            ],
            [
             0.3333333333333333,
             "#9c179e"
            ],
            [
             0.4444444444444444,
             "#bd3786"
            ],
            [
             0.5555555555555556,
             "#d8576b"
            ],
            [
             0.6666666666666666,
             "#ed7953"
            ],
            [
             0.7777777777777778,
             "#fb9f3a"
            ],
            [
             0.8888888888888888,
             "#fdca26"
            ],
            [
             1,
             "#f0f921"
            ]
           ],
           "sequentialminus": [
            [
             0,
             "#0d0887"
            ],
            [
             0.1111111111111111,
             "#46039f"
            ],
            [
             0.2222222222222222,
             "#7201a8"
            ],
            [
             0.3333333333333333,
             "#9c179e"
            ],
            [
             0.4444444444444444,
             "#bd3786"
            ],
            [
             0.5555555555555556,
             "#d8576b"
            ],
            [
             0.6666666666666666,
             "#ed7953"
            ],
            [
             0.7777777777777778,
             "#fb9f3a"
            ],
            [
             0.8888888888888888,
             "#fdca26"
            ],
            [
             1,
             "#f0f921"
            ]
           ]
          },
          "colorway": [
           "#636efa",
           "#EF553B",
           "#00cc96",
           "#ab63fa",
           "#FFA15A",
           "#19d3f3",
           "#FF6692",
           "#B6E880",
           "#FF97FF",
           "#FECB52"
          ],
          "font": {
           "color": "#2a3f5f"
          },
          "geo": {
           "bgcolor": "white",
           "lakecolor": "white",
           "landcolor": "#E5ECF6",
           "showlakes": true,
           "showland": true,
           "subunitcolor": "white"
          },
          "hoverlabel": {
           "align": "left"
          },
          "hovermode": "closest",
          "mapbox": {
           "style": "light"
          },
          "paper_bgcolor": "white",
          "plot_bgcolor": "#E5ECF6",
          "polar": {
           "angularaxis": {
            "gridcolor": "white",
            "linecolor": "white",
            "ticks": ""
           },
           "bgcolor": "#E5ECF6",
           "radialaxis": {
            "gridcolor": "white",
            "linecolor": "white",
            "ticks": ""
           }
          },
          "scene": {
           "xaxis": {
            "backgroundcolor": "#E5ECF6",
            "gridcolor": "white",
            "gridwidth": 2,
            "linecolor": "white",
            "showbackground": true,
            "ticks": "",
            "zerolinecolor": "white"
           },
           "yaxis": {
            "backgroundcolor": "#E5ECF6",
            "gridcolor": "white",
            "gridwidth": 2,
            "linecolor": "white",
            "showbackground": true,
            "ticks": "",
            "zerolinecolor": "white"
           },
           "zaxis": {
            "backgroundcolor": "#E5ECF6",
            "gridcolor": "white",
            "gridwidth": 2,
            "linecolor": "white",
            "showbackground": true,
            "ticks": "",
            "zerolinecolor": "white"
           }
          },
          "shapedefaults": {
           "line": {
            "color": "#2a3f5f"
           }
          },
          "ternary": {
           "aaxis": {
            "gridcolor": "white",
            "linecolor": "white",
            "ticks": ""
           },
           "baxis": {
            "gridcolor": "white",
            "linecolor": "white",
            "ticks": ""
           },
           "bgcolor": "#E5ECF6",
           "caxis": {
            "gridcolor": "white",
            "linecolor": "white",
            "ticks": ""
           }
          },
          "title": {
           "x": 0.05
          },
          "xaxis": {
           "automargin": true,
           "gridcolor": "white",
           "linecolor": "white",
           "ticks": "",
           "title": {
            "standoff": 15
           },
           "zerolinecolor": "white",
           "zerolinewidth": 2
          },
          "yaxis": {
           "automargin": true,
           "gridcolor": "white",
           "linecolor": "white",
           "ticks": "",
           "title": {
            "standoff": 15
           },
           "zerolinecolor": "white",
           "zerolinewidth": 2
          }
         }
        },
        "xaxis": {
         "anchor": "y",
         "domain": [
          0,
          1
         ],
         "title": {
          "text": "month"
         }
        },
        "yaxis": {
         "anchor": "x",
         "domain": [
          0,
          1
         ],
         "title": {
          "text": "price"
         }
        }
       }
      }
     },
     "metadata": {},
     "output_type": "display_data"
    }
   ],
   "source": [
    "def date_wise_df(value) : \n",
    "    dummy_df = df.groupby([value])['price'].sum().reset_index()\n",
    "    fig = px.bar(dummy_df, x = value, y = 'price')\n",
    "    return fig.show()\n",
    "\n",
    "date_wise_df('month')"
   ]
  },
  {
   "cell_type": "code",
   "execution_count": 73,
   "metadata": {},
   "outputs": [
    {
     "data": {
      "application/vnd.plotly.v1+json": {
       "config": {
        "plotlyServerURL": "https://plot.ly"
       },
       "data": [
        {
         "alignmentgroup": "True",
         "hovertemplate": "item_category=food<br>month_year=%{x}<br>price=%{y}<extra></extra>",
         "legendgroup": "food",
         "marker": {
          "color": "#636efa",
          "pattern": {
           "shape": ""
          }
         },
         "name": "food",
         "offsetgroup": "food",
         "orientation": "v",
         "showlegend": true,
         "textposition": "auto",
         "type": "bar",
         "x": [
          "2021-11",
          "2021-12",
          "2022-01",
          "2022-02",
          "2022-03",
          "2022-04",
          "2022-05",
          "2022-06",
          "2022-07",
          "2022-08",
          "2022-09",
          "2022-10",
          "2022-11",
          "2022-12",
          "2023-01",
          "2023-02",
          "2023-03",
          "2023-04",
          "2023-05"
         ],
         "xaxis": "x",
         "y": [
          115,
          2723,
          1734,
          2008,
          2369,
          3034,
          4959,
          12658,
          3849,
          5128,
          3589,
          6262,
          4453,
          2667,
          3373,
          4555,
          4670,
          6885,
          3518
         ],
         "yaxis": "y"
        },
        {
         "alignmentgroup": "True",
         "hovertemplate": "item_category=medicine<br>month_year=%{x}<br>price=%{y}<extra></extra>",
         "legendgroup": "medicine",
         "marker": {
          "color": "#EF553B",
          "pattern": {
           "shape": ""
          }
         },
         "name": "medicine",
         "offsetgroup": "medicine",
         "orientation": "v",
         "showlegend": true,
         "textposition": "auto",
         "type": "bar",
         "x": [
          "2021-11",
          "2022-06",
          "2022-08",
          "2023-02",
          "2023-05"
         ],
         "xaxis": "x",
         "y": [
          500,
          330,
          260,
          5030,
          170
         ],
         "yaxis": "y"
        },
        {
         "alignmentgroup": "True",
         "hovertemplate": "item_category=study_materials<br>month_year=%{x}<br>price=%{y}<extra></extra>",
         "legendgroup": "study_materials",
         "marker": {
          "color": "#00cc96",
          "pattern": {
           "shape": ""
          }
         },
         "name": "study_materials",
         "offsetgroup": "study_materials",
         "orientation": "v",
         "showlegend": true,
         "textposition": "auto",
         "type": "bar",
         "x": [
          "2021-11",
          "2021-12",
          "2022-01",
          "2022-02",
          "2022-03",
          "2022-05",
          "2022-08",
          "2022-09",
          "2022-10",
          "2022-11",
          "2022-12",
          "2023-02",
          "2023-03",
          "2023-04",
          "2023-05"
         ],
         "xaxis": "x",
         "y": [
          50,
          270,
          35,
          4650,
          60,
          1316,
          10,
          175,
          15,
          40,
          20,
          105,
          125,
          9,
          270
         ],
         "yaxis": "y"
        },
        {
         "alignmentgroup": "True",
         "hovertemplate": "item_category=utilities<br>month_year=%{x}<br>price=%{y}<extra></extra>",
         "legendgroup": "utilities",
         "marker": {
          "color": "#ab63fa",
          "pattern": {
           "shape": ""
          }
         },
         "name": "utilities",
         "offsetgroup": "utilities",
         "orientation": "v",
         "showlegend": true,
         "textposition": "auto",
         "type": "bar",
         "x": [
          "2021-11",
          "2021-12",
          "2022-01",
          "2022-02",
          "2022-03",
          "2022-04",
          "2022-05",
          "2022-07",
          "2022-08",
          "2022-09",
          "2022-10",
          "2022-11",
          "2023-01",
          "2023-02",
          "2023-03",
          "2023-04"
         ],
         "xaxis": "x",
         "y": [
          318,
          880,
          40,
          954,
          110,
          330,
          510,
          1872,
          1400,
          150,
          20,
          15,
          10,
          455,
          120,
          60
         ],
         "yaxis": "y"
        },
        {
         "alignmentgroup": "True",
         "hovertemplate": "item_category=charity<br>month_year=%{x}<br>price=%{y}<extra></extra>",
         "legendgroup": "charity",
         "marker": {
          "color": "#FFA15A",
          "pattern": {
           "shape": ""
          }
         },
         "name": "charity",
         "offsetgroup": "charity",
         "orientation": "v",
         "showlegend": true,
         "textposition": "auto",
         "type": "bar",
         "x": [
          "2021-12",
          "2022-01",
          "2022-02",
          "2022-03",
          "2022-05",
          "2022-06",
          "2022-10",
          "2023-04"
         ],
         "xaxis": "x",
         "y": [
          104,
          30,
          235,
          1005,
          200,
          10,
          10,
          60
         ],
         "yaxis": "y"
        },
        {
         "alignmentgroup": "True",
         "hovertemplate": "item_category=travel<br>month_year=%{x}<br>price=%{y}<extra></extra>",
         "legendgroup": "travel",
         "marker": {
          "color": "#19d3f3",
          "pattern": {
           "shape": ""
          }
         },
         "name": "travel",
         "offsetgroup": "travel",
         "orientation": "v",
         "showlegend": true,
         "textposition": "auto",
         "type": "bar",
         "x": [
          "2021-12",
          "2022-01",
          "2022-02",
          "2022-03",
          "2022-04",
          "2022-05",
          "2022-06",
          "2022-07",
          "2022-08",
          "2022-10",
          "2022-11",
          "2022-12",
          "2023-01",
          "2023-02",
          "2023-03",
          "2023-04",
          "2023-05"
         ],
         "xaxis": "x",
         "y": [
          2093,
          1925,
          2038,
          999,
          1721,
          1142,
          1833,
          2376,
          668,
          2095,
          530,
          9810,
          487,
          1392,
          1267,
          7156,
          5330
         ],
         "yaxis": "y"
        },
        {
         "alignmentgroup": "True",
         "hovertemplate": "item_category=wants<br>month_year=%{x}<br>price=%{y}<extra></extra>",
         "legendgroup": "wants",
         "marker": {
          "color": "#FF6692",
          "pattern": {
           "shape": ""
          }
         },
         "name": "wants",
         "offsetgroup": "wants",
         "orientation": "v",
         "showlegend": true,
         "textposition": "auto",
         "type": "bar",
         "x": [
          "2021-12",
          "2022-01",
          "2022-02",
          "2022-03",
          "2022-04",
          "2022-05",
          "2022-06",
          "2022-08",
          "2022-10",
          "2022-11",
          "2022-12",
          "2023-01",
          "2023-02",
          "2023-03",
          "2023-04",
          "2023-05"
         ],
         "xaxis": "x",
         "y": [
          240,
          3424,
          2794,
          344,
          280,
          8922,
          3860,
          982,
          5455,
          330,
          674,
          600,
          288,
          7256,
          15060,
          1000
         ],
         "yaxis": "y"
        },
        {
         "alignmentgroup": "True",
         "hovertemplate": "item_category=clothes<br>month_year=%{x}<br>price=%{y}<extra></extra>",
         "legendgroup": "clothes",
         "marker": {
          "color": "#B6E880",
          "pattern": {
           "shape": ""
          }
         },
         "name": "clothes",
         "offsetgroup": "clothes",
         "orientation": "v",
         "showlegend": true,
         "textposition": "auto",
         "type": "bar",
         "x": [
          "2023-03",
          "2023-04"
         ],
         "xaxis": "x",
         "y": [
          2109,
          400
         ],
         "yaxis": "y"
        }
       ],
       "layout": {
        "barmode": "relative",
        "legend": {
         "title": {
          "text": "item_category"
         },
         "tracegroupgap": 0
        },
        "margin": {
         "t": 60
        },
        "template": {
         "data": {
          "bar": [
           {
            "error_x": {
             "color": "#2a3f5f"
            },
            "error_y": {
             "color": "#2a3f5f"
            },
            "marker": {
             "line": {
              "color": "#E5ECF6",
              "width": 0.5
             },
             "pattern": {
              "fillmode": "overlay",
              "size": 10,
              "solidity": 0.2
             }
            },
            "type": "bar"
           }
          ],
          "barpolar": [
           {
            "marker": {
             "line": {
              "color": "#E5ECF6",
              "width": 0.5
             },
             "pattern": {
              "fillmode": "overlay",
              "size": 10,
              "solidity": 0.2
             }
            },
            "type": "barpolar"
           }
          ],
          "carpet": [
           {
            "aaxis": {
             "endlinecolor": "#2a3f5f",
             "gridcolor": "white",
             "linecolor": "white",
             "minorgridcolor": "white",
             "startlinecolor": "#2a3f5f"
            },
            "baxis": {
             "endlinecolor": "#2a3f5f",
             "gridcolor": "white",
             "linecolor": "white",
             "minorgridcolor": "white",
             "startlinecolor": "#2a3f5f"
            },
            "type": "carpet"
           }
          ],
          "choropleth": [
           {
            "colorbar": {
             "outlinewidth": 0,
             "ticks": ""
            },
            "type": "choropleth"
           }
          ],
          "contour": [
           {
            "colorbar": {
             "outlinewidth": 0,
             "ticks": ""
            },
            "colorscale": [
             [
              0,
              "#0d0887"
             ],
             [
              0.1111111111111111,
              "#46039f"
             ],
             [
              0.2222222222222222,
              "#7201a8"
             ],
             [
              0.3333333333333333,
              "#9c179e"
             ],
             [
              0.4444444444444444,
              "#bd3786"
             ],
             [
              0.5555555555555556,
              "#d8576b"
             ],
             [
              0.6666666666666666,
              "#ed7953"
             ],
             [
              0.7777777777777778,
              "#fb9f3a"
             ],
             [
              0.8888888888888888,
              "#fdca26"
             ],
             [
              1,
              "#f0f921"
             ]
            ],
            "type": "contour"
           }
          ],
          "contourcarpet": [
           {
            "colorbar": {
             "outlinewidth": 0,
             "ticks": ""
            },
            "type": "contourcarpet"
           }
          ],
          "heatmap": [
           {
            "colorbar": {
             "outlinewidth": 0,
             "ticks": ""
            },
            "colorscale": [
             [
              0,
              "#0d0887"
             ],
             [
              0.1111111111111111,
              "#46039f"
             ],
             [
              0.2222222222222222,
              "#7201a8"
             ],
             [
              0.3333333333333333,
              "#9c179e"
             ],
             [
              0.4444444444444444,
              "#bd3786"
             ],
             [
              0.5555555555555556,
              "#d8576b"
             ],
             [
              0.6666666666666666,
              "#ed7953"
             ],
             [
              0.7777777777777778,
              "#fb9f3a"
             ],
             [
              0.8888888888888888,
              "#fdca26"
             ],
             [
              1,
              "#f0f921"
             ]
            ],
            "type": "heatmap"
           }
          ],
          "heatmapgl": [
           {
            "colorbar": {
             "outlinewidth": 0,
             "ticks": ""
            },
            "colorscale": [
             [
              0,
              "#0d0887"
             ],
             [
              0.1111111111111111,
              "#46039f"
             ],
             [
              0.2222222222222222,
              "#7201a8"
             ],
             [
              0.3333333333333333,
              "#9c179e"
             ],
             [
              0.4444444444444444,
              "#bd3786"
             ],
             [
              0.5555555555555556,
              "#d8576b"
             ],
             [
              0.6666666666666666,
              "#ed7953"
             ],
             [
              0.7777777777777778,
              "#fb9f3a"
             ],
             [
              0.8888888888888888,
              "#fdca26"
             ],
             [
              1,
              "#f0f921"
             ]
            ],
            "type": "heatmapgl"
           }
          ],
          "histogram": [
           {
            "marker": {
             "pattern": {
              "fillmode": "overlay",
              "size": 10,
              "solidity": 0.2
             }
            },
            "type": "histogram"
           }
          ],
          "histogram2d": [
           {
            "colorbar": {
             "outlinewidth": 0,
             "ticks": ""
            },
            "colorscale": [
             [
              0,
              "#0d0887"
             ],
             [
              0.1111111111111111,
              "#46039f"
             ],
             [
              0.2222222222222222,
              "#7201a8"
             ],
             [
              0.3333333333333333,
              "#9c179e"
             ],
             [
              0.4444444444444444,
              "#bd3786"
             ],
             [
              0.5555555555555556,
              "#d8576b"
             ],
             [
              0.6666666666666666,
              "#ed7953"
             ],
             [
              0.7777777777777778,
              "#fb9f3a"
             ],
             [
              0.8888888888888888,
              "#fdca26"
             ],
             [
              1,
              "#f0f921"
             ]
            ],
            "type": "histogram2d"
           }
          ],
          "histogram2dcontour": [
           {
            "colorbar": {
             "outlinewidth": 0,
             "ticks": ""
            },
            "colorscale": [
             [
              0,
              "#0d0887"
             ],
             [
              0.1111111111111111,
              "#46039f"
             ],
             [
              0.2222222222222222,
              "#7201a8"
             ],
             [
              0.3333333333333333,
              "#9c179e"
             ],
             [
              0.4444444444444444,
              "#bd3786"
             ],
             [
              0.5555555555555556,
              "#d8576b"
             ],
             [
              0.6666666666666666,
              "#ed7953"
             ],
             [
              0.7777777777777778,
              "#fb9f3a"
             ],
             [
              0.8888888888888888,
              "#fdca26"
             ],
             [
              1,
              "#f0f921"
             ]
            ],
            "type": "histogram2dcontour"
           }
          ],
          "mesh3d": [
           {
            "colorbar": {
             "outlinewidth": 0,
             "ticks": ""
            },
            "type": "mesh3d"
           }
          ],
          "parcoords": [
           {
            "line": {
             "colorbar": {
              "outlinewidth": 0,
              "ticks": ""
             }
            },
            "type": "parcoords"
           }
          ],
          "pie": [
           {
            "automargin": true,
            "type": "pie"
           }
          ],
          "scatter": [
           {
            "marker": {
             "colorbar": {
              "outlinewidth": 0,
              "ticks": ""
             }
            },
            "type": "scatter"
           }
          ],
          "scatter3d": [
           {
            "line": {
             "colorbar": {
              "outlinewidth": 0,
              "ticks": ""
             }
            },
            "marker": {
             "colorbar": {
              "outlinewidth": 0,
              "ticks": ""
             }
            },
            "type": "scatter3d"
           }
          ],
          "scattercarpet": [
           {
            "marker": {
             "colorbar": {
              "outlinewidth": 0,
              "ticks": ""
             }
            },
            "type": "scattercarpet"
           }
          ],
          "scattergeo": [
           {
            "marker": {
             "colorbar": {
              "outlinewidth": 0,
              "ticks": ""
             }
            },
            "type": "scattergeo"
           }
          ],
          "scattergl": [
           {
            "marker": {
             "colorbar": {
              "outlinewidth": 0,
              "ticks": ""
             }
            },
            "type": "scattergl"
           }
          ],
          "scattermapbox": [
           {
            "marker": {
             "colorbar": {
              "outlinewidth": 0,
              "ticks": ""
             }
            },
            "type": "scattermapbox"
           }
          ],
          "scatterpolar": [
           {
            "marker": {
             "colorbar": {
              "outlinewidth": 0,
              "ticks": ""
             }
            },
            "type": "scatterpolar"
           }
          ],
          "scatterpolargl": [
           {
            "marker": {
             "colorbar": {
              "outlinewidth": 0,
              "ticks": ""
             }
            },
            "type": "scatterpolargl"
           }
          ],
          "scatterternary": [
           {
            "marker": {
             "colorbar": {
              "outlinewidth": 0,
              "ticks": ""
             }
            },
            "type": "scatterternary"
           }
          ],
          "surface": [
           {
            "colorbar": {
             "outlinewidth": 0,
             "ticks": ""
            },
            "colorscale": [
             [
              0,
              "#0d0887"
             ],
             [
              0.1111111111111111,
              "#46039f"
             ],
             [
              0.2222222222222222,
              "#7201a8"
             ],
             [
              0.3333333333333333,
              "#9c179e"
             ],
             [
              0.4444444444444444,
              "#bd3786"
             ],
             [
              0.5555555555555556,
              "#d8576b"
             ],
             [
              0.6666666666666666,
              "#ed7953"
             ],
             [
              0.7777777777777778,
              "#fb9f3a"
             ],
             [
              0.8888888888888888,
              "#fdca26"
             ],
             [
              1,
              "#f0f921"
             ]
            ],
            "type": "surface"
           }
          ],
          "table": [
           {
            "cells": {
             "fill": {
              "color": "#EBF0F8"
             },
             "line": {
              "color": "white"
             }
            },
            "header": {
             "fill": {
              "color": "#C8D4E3"
             },
             "line": {
              "color": "white"
             }
            },
            "type": "table"
           }
          ]
         },
         "layout": {
          "annotationdefaults": {
           "arrowcolor": "#2a3f5f",
           "arrowhead": 0,
           "arrowwidth": 1
          },
          "autotypenumbers": "strict",
          "coloraxis": {
           "colorbar": {
            "outlinewidth": 0,
            "ticks": ""
           }
          },
          "colorscale": {
           "diverging": [
            [
             0,
             "#8e0152"
            ],
            [
             0.1,
             "#c51b7d"
            ],
            [
             0.2,
             "#de77ae"
            ],
            [
             0.3,
             "#f1b6da"
            ],
            [
             0.4,
             "#fde0ef"
            ],
            [
             0.5,
             "#f7f7f7"
            ],
            [
             0.6,
             "#e6f5d0"
            ],
            [
             0.7,
             "#b8e186"
            ],
            [
             0.8,
             "#7fbc41"
            ],
            [
             0.9,
             "#4d9221"
            ],
            [
             1,
             "#276419"
            ]
           ],
           "sequential": [
            [
             0,
             "#0d0887"
            ],
            [
             0.1111111111111111,
             "#46039f"
            ],
            [
             0.2222222222222222,
             "#7201a8"
            ],
            [
             0.3333333333333333,
             "#9c179e"
            ],
            [
             0.4444444444444444,
             "#bd3786"
            ],
            [
             0.5555555555555556,
             "#d8576b"
            ],
            [
             0.6666666666666666,
             "#ed7953"
            ],
            [
             0.7777777777777778,
             "#fb9f3a"
            ],
            [
             0.8888888888888888,
             "#fdca26"
            ],
            [
             1,
             "#f0f921"
            ]
           ],
           "sequentialminus": [
            [
             0,
             "#0d0887"
            ],
            [
             0.1111111111111111,
             "#46039f"
            ],
            [
             0.2222222222222222,
             "#7201a8"
            ],
            [
             0.3333333333333333,
             "#9c179e"
            ],
            [
             0.4444444444444444,
             "#bd3786"
            ],
            [
             0.5555555555555556,
             "#d8576b"
            ],
            [
             0.6666666666666666,
             "#ed7953"
            ],
            [
             0.7777777777777778,
             "#fb9f3a"
            ],
            [
             0.8888888888888888,
             "#fdca26"
            ],
            [
             1,
             "#f0f921"
            ]
           ]
          },
          "colorway": [
           "#636efa",
           "#EF553B",
           "#00cc96",
           "#ab63fa",
           "#FFA15A",
           "#19d3f3",
           "#FF6692",
           "#B6E880",
           "#FF97FF",
           "#FECB52"
          ],
          "font": {
           "color": "#2a3f5f"
          },
          "geo": {
           "bgcolor": "white",
           "lakecolor": "white",
           "landcolor": "#E5ECF6",
           "showlakes": true,
           "showland": true,
           "subunitcolor": "white"
          },
          "hoverlabel": {
           "align": "left"
          },
          "hovermode": "closest",
          "mapbox": {
           "style": "light"
          },
          "paper_bgcolor": "white",
          "plot_bgcolor": "#E5ECF6",
          "polar": {
           "angularaxis": {
            "gridcolor": "white",
            "linecolor": "white",
            "ticks": ""
           },
           "bgcolor": "#E5ECF6",
           "radialaxis": {
            "gridcolor": "white",
            "linecolor": "white",
            "ticks": ""
           }
          },
          "scene": {
           "xaxis": {
            "backgroundcolor": "#E5ECF6",
            "gridcolor": "white",
            "gridwidth": 2,
            "linecolor": "white",
            "showbackground": true,
            "ticks": "",
            "zerolinecolor": "white"
           },
           "yaxis": {
            "backgroundcolor": "#E5ECF6",
            "gridcolor": "white",
            "gridwidth": 2,
            "linecolor": "white",
            "showbackground": true,
            "ticks": "",
            "zerolinecolor": "white"
           },
           "zaxis": {
            "backgroundcolor": "#E5ECF6",
            "gridcolor": "white",
            "gridwidth": 2,
            "linecolor": "white",
            "showbackground": true,
            "ticks": "",
            "zerolinecolor": "white"
           }
          },
          "shapedefaults": {
           "line": {
            "color": "#2a3f5f"
           }
          },
          "ternary": {
           "aaxis": {
            "gridcolor": "white",
            "linecolor": "white",
            "ticks": ""
           },
           "baxis": {
            "gridcolor": "white",
            "linecolor": "white",
            "ticks": ""
           },
           "bgcolor": "#E5ECF6",
           "caxis": {
            "gridcolor": "white",
            "linecolor": "white",
            "ticks": ""
           }
          },
          "title": {
           "x": 0.05
          },
          "xaxis": {
           "automargin": true,
           "gridcolor": "white",
           "linecolor": "white",
           "ticks": "",
           "title": {
            "standoff": 15
           },
           "zerolinecolor": "white",
           "zerolinewidth": 2
          },
          "yaxis": {
           "automargin": true,
           "gridcolor": "white",
           "linecolor": "white",
           "ticks": "",
           "title": {
            "standoff": 15
           },
           "zerolinecolor": "white",
           "zerolinewidth": 2
          }
         }
        },
        "xaxis": {
         "anchor": "y",
         "domain": [
          0,
          1
         ],
         "title": {
          "text": "month_year"
         }
        },
        "yaxis": {
         "anchor": "x",
         "domain": [
          0,
          1
         ],
         "title": {
          "text": "price"
         }
        }
       }
      }
     },
     "metadata": {},
     "output_type": "display_data"
    }
   ],
   "source": [
    "df['month_year'] = df['date'].dt.to_period('M')\n",
    "dummy_df = df.groupby(['month_year', 'item_category'])['price'].sum().reset_index()\n",
    "dummy_df.month_year = dummy_df.month_year.astype(str)\n",
    "fig = px.bar(dummy_df, x=\"month_year\", y=\"price\", color=\"item_category\")\n",
    "fig.show()\n",
    "\n",
    "# fig = go.Figure()\n",
    "# counter, color_list = 0, ['#f71616', '#f71616', '#f76c16', '#bf7411', '#bfb911', '#94bf11', '#54bf11',  '#bf7411', '#bfb911', '#94bf11', '#54bf11']\n",
    "# for category in dummy_df.item_category.unique() :\n",
    "#     temp_df = dummy_df[dummy_df.item_category == category]\n",
    "#     fig.add_trace(go.Bar(\n",
    "#         x=temp_df.month_year,\n",
    "#         y=temp_df.price,\n",
    "#         name= category,\n",
    "#         # marker_color= color_list[counter]\n",
    "#     ))\n",
    "#     counter += 1 \n",
    "\n",
    "# fig.update_layout(plot_bgcolor=\"white\", barmode='group')"
   ]
  },
  {
   "cell_type": "code",
   "execution_count": 13,
   "metadata": {},
   "outputs": [],
   "source": [
    "category_df = df.groupby(['item_category'])['price'].sum().reset_index()"
   ]
  },
  {
   "cell_type": "code",
   "execution_count": 14,
   "metadata": {},
   "outputs": [
    {
     "data": {
      "application/vnd.plotly.v1+json": {
       "config": {
        "plotlyServerURL": "https://plot.ly"
       },
       "data": [
        {
         "domain": {
          "x": [
           0,
           1
          ],
          "y": [
           0,
           1
          ]
         },
         "hovertemplate": "item_category=%{label}<br>price=%{value}<extra></extra>",
         "labels": [
          "charity",
          "food",
          "medicine",
          "study_materials",
          "travel",
          "utilities",
          "wants"
         ],
         "legendgroup": "",
         "name": "",
         "showlegend": true,
         "type": "pie",
         "values": [
          1574,
          12798,
          500,
          5065,
          9018,
          2632,
          9612
         ]
        }
       ],
       "layout": {
        "legend": {
         "tracegroupgap": 0
        },
        "margin": {
         "t": 60
        },
        "template": {
         "data": {
          "bar": [
           {
            "error_x": {
             "color": "#2a3f5f"
            },
            "error_y": {
             "color": "#2a3f5f"
            },
            "marker": {
             "line": {
              "color": "#E5ECF6",
              "width": 0.5
             },
             "pattern": {
              "fillmode": "overlay",
              "size": 10,
              "solidity": 0.2
             }
            },
            "type": "bar"
           }
          ],
          "barpolar": [
           {
            "marker": {
             "line": {
              "color": "#E5ECF6",
              "width": 0.5
             },
             "pattern": {
              "fillmode": "overlay",
              "size": 10,
              "solidity": 0.2
             }
            },
            "type": "barpolar"
           }
          ],
          "carpet": [
           {
            "aaxis": {
             "endlinecolor": "#2a3f5f",
             "gridcolor": "white",
             "linecolor": "white",
             "minorgridcolor": "white",
             "startlinecolor": "#2a3f5f"
            },
            "baxis": {
             "endlinecolor": "#2a3f5f",
             "gridcolor": "white",
             "linecolor": "white",
             "minorgridcolor": "white",
             "startlinecolor": "#2a3f5f"
            },
            "type": "carpet"
           }
          ],
          "choropleth": [
           {
            "colorbar": {
             "outlinewidth": 0,
             "ticks": ""
            },
            "type": "choropleth"
           }
          ],
          "contour": [
           {
            "colorbar": {
             "outlinewidth": 0,
             "ticks": ""
            },
            "colorscale": [
             [
              0,
              "#0d0887"
             ],
             [
              0.1111111111111111,
              "#46039f"
             ],
             [
              0.2222222222222222,
              "#7201a8"
             ],
             [
              0.3333333333333333,
              "#9c179e"
             ],
             [
              0.4444444444444444,
              "#bd3786"
             ],
             [
              0.5555555555555556,
              "#d8576b"
             ],
             [
              0.6666666666666666,
              "#ed7953"
             ],
             [
              0.7777777777777778,
              "#fb9f3a"
             ],
             [
              0.8888888888888888,
              "#fdca26"
             ],
             [
              1,
              "#f0f921"
             ]
            ],
            "type": "contour"
           }
          ],
          "contourcarpet": [
           {
            "colorbar": {
             "outlinewidth": 0,
             "ticks": ""
            },
            "type": "contourcarpet"
           }
          ],
          "heatmap": [
           {
            "colorbar": {
             "outlinewidth": 0,
             "ticks": ""
            },
            "colorscale": [
             [
              0,
              "#0d0887"
             ],
             [
              0.1111111111111111,
              "#46039f"
             ],
             [
              0.2222222222222222,
              "#7201a8"
             ],
             [
              0.3333333333333333,
              "#9c179e"
             ],
             [
              0.4444444444444444,
              "#bd3786"
             ],
             [
              0.5555555555555556,
              "#d8576b"
             ],
             [
              0.6666666666666666,
              "#ed7953"
             ],
             [
              0.7777777777777778,
              "#fb9f3a"
             ],
             [
              0.8888888888888888,
              "#fdca26"
             ],
             [
              1,
              "#f0f921"
             ]
            ],
            "type": "heatmap"
           }
          ],
          "heatmapgl": [
           {
            "colorbar": {
             "outlinewidth": 0,
             "ticks": ""
            },
            "colorscale": [
             [
              0,
              "#0d0887"
             ],
             [
              0.1111111111111111,
              "#46039f"
             ],
             [
              0.2222222222222222,
              "#7201a8"
             ],
             [
              0.3333333333333333,
              "#9c179e"
             ],
             [
              0.4444444444444444,
              "#bd3786"
             ],
             [
              0.5555555555555556,
              "#d8576b"
             ],
             [
              0.6666666666666666,
              "#ed7953"
             ],
             [
              0.7777777777777778,
              "#fb9f3a"
             ],
             [
              0.8888888888888888,
              "#fdca26"
             ],
             [
              1,
              "#f0f921"
             ]
            ],
            "type": "heatmapgl"
           }
          ],
          "histogram": [
           {
            "marker": {
             "pattern": {
              "fillmode": "overlay",
              "size": 10,
              "solidity": 0.2
             }
            },
            "type": "histogram"
           }
          ],
          "histogram2d": [
           {
            "colorbar": {
             "outlinewidth": 0,
             "ticks": ""
            },
            "colorscale": [
             [
              0,
              "#0d0887"
             ],
             [
              0.1111111111111111,
              "#46039f"
             ],
             [
              0.2222222222222222,
              "#7201a8"
             ],
             [
              0.3333333333333333,
              "#9c179e"
             ],
             [
              0.4444444444444444,
              "#bd3786"
             ],
             [
              0.5555555555555556,
              "#d8576b"
             ],
             [
              0.6666666666666666,
              "#ed7953"
             ],
             [
              0.7777777777777778,
              "#fb9f3a"
             ],
             [
              0.8888888888888888,
              "#fdca26"
             ],
             [
              1,
              "#f0f921"
             ]
            ],
            "type": "histogram2d"
           }
          ],
          "histogram2dcontour": [
           {
            "colorbar": {
             "outlinewidth": 0,
             "ticks": ""
            },
            "colorscale": [
             [
              0,
              "#0d0887"
             ],
             [
              0.1111111111111111,
              "#46039f"
             ],
             [
              0.2222222222222222,
              "#7201a8"
             ],
             [
              0.3333333333333333,
              "#9c179e"
             ],
             [
              0.4444444444444444,
              "#bd3786"
             ],
             [
              0.5555555555555556,
              "#d8576b"
             ],
             [
              0.6666666666666666,
              "#ed7953"
             ],
             [
              0.7777777777777778,
              "#fb9f3a"
             ],
             [
              0.8888888888888888,
              "#fdca26"
             ],
             [
              1,
              "#f0f921"
             ]
            ],
            "type": "histogram2dcontour"
           }
          ],
          "mesh3d": [
           {
            "colorbar": {
             "outlinewidth": 0,
             "ticks": ""
            },
            "type": "mesh3d"
           }
          ],
          "parcoords": [
           {
            "line": {
             "colorbar": {
              "outlinewidth": 0,
              "ticks": ""
             }
            },
            "type": "parcoords"
           }
          ],
          "pie": [
           {
            "automargin": true,
            "type": "pie"
           }
          ],
          "scatter": [
           {
            "marker": {
             "colorbar": {
              "outlinewidth": 0,
              "ticks": ""
             }
            },
            "type": "scatter"
           }
          ],
          "scatter3d": [
           {
            "line": {
             "colorbar": {
              "outlinewidth": 0,
              "ticks": ""
             }
            },
            "marker": {
             "colorbar": {
              "outlinewidth": 0,
              "ticks": ""
             }
            },
            "type": "scatter3d"
           }
          ],
          "scattercarpet": [
           {
            "marker": {
             "colorbar": {
              "outlinewidth": 0,
              "ticks": ""
             }
            },
            "type": "scattercarpet"
           }
          ],
          "scattergeo": [
           {
            "marker": {
             "colorbar": {
              "outlinewidth": 0,
              "ticks": ""
             }
            },
            "type": "scattergeo"
           }
          ],
          "scattergl": [
           {
            "marker": {
             "colorbar": {
              "outlinewidth": 0,
              "ticks": ""
             }
            },
            "type": "scattergl"
           }
          ],
          "scattermapbox": [
           {
            "marker": {
             "colorbar": {
              "outlinewidth": 0,
              "ticks": ""
             }
            },
            "type": "scattermapbox"
           }
          ],
          "scatterpolar": [
           {
            "marker": {
             "colorbar": {
              "outlinewidth": 0,
              "ticks": ""
             }
            },
            "type": "scatterpolar"
           }
          ],
          "scatterpolargl": [
           {
            "marker": {
             "colorbar": {
              "outlinewidth": 0,
              "ticks": ""
             }
            },
            "type": "scatterpolargl"
           }
          ],
          "scatterternary": [
           {
            "marker": {
             "colorbar": {
              "outlinewidth": 0,
              "ticks": ""
             }
            },
            "type": "scatterternary"
           }
          ],
          "surface": [
           {
            "colorbar": {
             "outlinewidth": 0,
             "ticks": ""
            },
            "colorscale": [
             [
              0,
              "#0d0887"
             ],
             [
              0.1111111111111111,
              "#46039f"
             ],
             [
              0.2222222222222222,
              "#7201a8"
             ],
             [
              0.3333333333333333,
              "#9c179e"
             ],
             [
              0.4444444444444444,
              "#bd3786"
             ],
             [
              0.5555555555555556,
              "#d8576b"
             ],
             [
              0.6666666666666666,
              "#ed7953"
             ],
             [
              0.7777777777777778,
              "#fb9f3a"
             ],
             [
              0.8888888888888888,
              "#fdca26"
             ],
             [
              1,
              "#f0f921"
             ]
            ],
            "type": "surface"
           }
          ],
          "table": [
           {
            "cells": {
             "fill": {
              "color": "#EBF0F8"
             },
             "line": {
              "color": "white"
             }
            },
            "header": {
             "fill": {
              "color": "#C8D4E3"
             },
             "line": {
              "color": "white"
             }
            },
            "type": "table"
           }
          ]
         },
         "layout": {
          "annotationdefaults": {
           "arrowcolor": "#2a3f5f",
           "arrowhead": 0,
           "arrowwidth": 1
          },
          "autotypenumbers": "strict",
          "coloraxis": {
           "colorbar": {
            "outlinewidth": 0,
            "ticks": ""
           }
          },
          "colorscale": {
           "diverging": [
            [
             0,
             "#8e0152"
            ],
            [
             0.1,
             "#c51b7d"
            ],
            [
             0.2,
             "#de77ae"
            ],
            [
             0.3,
             "#f1b6da"
            ],
            [
             0.4,
             "#fde0ef"
            ],
            [
             0.5,
             "#f7f7f7"
            ],
            [
             0.6,
             "#e6f5d0"
            ],
            [
             0.7,
             "#b8e186"
            ],
            [
             0.8,
             "#7fbc41"
            ],
            [
             0.9,
             "#4d9221"
            ],
            [
             1,
             "#276419"
            ]
           ],
           "sequential": [
            [
             0,
             "#0d0887"
            ],
            [
             0.1111111111111111,
             "#46039f"
            ],
            [
             0.2222222222222222,
             "#7201a8"
            ],
            [
             0.3333333333333333,
             "#9c179e"
            ],
            [
             0.4444444444444444,
             "#bd3786"
            ],
            [
             0.5555555555555556,
             "#d8576b"
            ],
            [
             0.6666666666666666,
             "#ed7953"
            ],
            [
             0.7777777777777778,
             "#fb9f3a"
            ],
            [
             0.8888888888888888,
             "#fdca26"
            ],
            [
             1,
             "#f0f921"
            ]
           ],
           "sequentialminus": [
            [
             0,
             "#0d0887"
            ],
            [
             0.1111111111111111,
             "#46039f"
            ],
            [
             0.2222222222222222,
             "#7201a8"
            ],
            [
             0.3333333333333333,
             "#9c179e"
            ],
            [
             0.4444444444444444,
             "#bd3786"
            ],
            [
             0.5555555555555556,
             "#d8576b"
            ],
            [
             0.6666666666666666,
             "#ed7953"
            ],
            [
             0.7777777777777778,
             "#fb9f3a"
            ],
            [
             0.8888888888888888,
             "#fdca26"
            ],
            [
             1,
             "#f0f921"
            ]
           ]
          },
          "colorway": [
           "#636efa",
           "#EF553B",
           "#00cc96",
           "#ab63fa",
           "#FFA15A",
           "#19d3f3",
           "#FF6692",
           "#B6E880",
           "#FF97FF",
           "#FECB52"
          ],
          "font": {
           "color": "#2a3f5f"
          },
          "geo": {
           "bgcolor": "white",
           "lakecolor": "white",
           "landcolor": "#E5ECF6",
           "showlakes": true,
           "showland": true,
           "subunitcolor": "white"
          },
          "hoverlabel": {
           "align": "left"
          },
          "hovermode": "closest",
          "mapbox": {
           "style": "light"
          },
          "paper_bgcolor": "white",
          "plot_bgcolor": "#E5ECF6",
          "polar": {
           "angularaxis": {
            "gridcolor": "white",
            "linecolor": "white",
            "ticks": ""
           },
           "bgcolor": "#E5ECF6",
           "radialaxis": {
            "gridcolor": "white",
            "linecolor": "white",
            "ticks": ""
           }
          },
          "scene": {
           "xaxis": {
            "backgroundcolor": "#E5ECF6",
            "gridcolor": "white",
            "gridwidth": 2,
            "linecolor": "white",
            "showbackground": true,
            "ticks": "",
            "zerolinecolor": "white"
           },
           "yaxis": {
            "backgroundcolor": "#E5ECF6",
            "gridcolor": "white",
            "gridwidth": 2,
            "linecolor": "white",
            "showbackground": true,
            "ticks": "",
            "zerolinecolor": "white"
           },
           "zaxis": {
            "backgroundcolor": "#E5ECF6",
            "gridcolor": "white",
            "gridwidth": 2,
            "linecolor": "white",
            "showbackground": true,
            "ticks": "",
            "zerolinecolor": "white"
           }
          },
          "shapedefaults": {
           "line": {
            "color": "#2a3f5f"
           }
          },
          "ternary": {
           "aaxis": {
            "gridcolor": "white",
            "linecolor": "white",
            "ticks": ""
           },
           "baxis": {
            "gridcolor": "white",
            "linecolor": "white",
            "ticks": ""
           },
           "bgcolor": "#E5ECF6",
           "caxis": {
            "gridcolor": "white",
            "linecolor": "white",
            "ticks": ""
           }
          },
          "title": {
           "x": 0.05
          },
          "xaxis": {
           "automargin": true,
           "gridcolor": "white",
           "linecolor": "white",
           "ticks": "",
           "title": {
            "standoff": 15
           },
           "zerolinecolor": "white",
           "zerolinewidth": 2
          },
          "yaxis": {
           "automargin": true,
           "gridcolor": "white",
           "linecolor": "white",
           "ticks": "",
           "title": {
            "standoff": 15
           },
           "zerolinecolor": "white",
           "zerolinewidth": 2
          }
         }
        }
       }
      }
     },
     "metadata": {},
     "output_type": "display_data"
    }
   ],
   "source": [
    "fig = px.pie(category_df, values = 'price', names = 'item_category')\n",
    "fig.show()"
   ]
  },
  {
   "cell_type": "code",
   "execution_count": 15,
   "metadata": {},
   "outputs": [
    {
     "data": {
      "application/vnd.plotly.v1+json": {
       "config": {
        "plotlyServerURL": "https://plot.ly"
       },
       "data": [
        {
         "hovertemplate": "date=%{x}<br>price=%{y}<extra></extra>",
         "legendgroup": "",
         "line": {
          "color": "#636efa",
          "dash": "solid"
         },
         "marker": {
          "symbol": "circle"
         },
         "mode": "lines",
         "name": "",
         "orientation": "v",
         "showlegend": false,
         "type": "scatter",
         "x": [
          "2021-11-29T00:00:00",
          "2021-11-30T00:00:00",
          "2021-12-01T00:00:00",
          "2021-12-02T00:00:00",
          "2021-12-03T00:00:00",
          "2021-12-04T00:00:00",
          "2021-12-05T00:00:00",
          "2021-12-06T00:00:00",
          "2021-12-07T00:00:00",
          "2021-12-08T00:00:00",
          "2021-12-09T00:00:00",
          "2021-12-10T00:00:00",
          "2021-12-11T00:00:00",
          "2021-12-12T00:00:00",
          "2021-12-13T00:00:00",
          "2021-12-14T00:00:00",
          "2021-12-15T00:00:00",
          "2021-12-16T00:00:00",
          "2021-12-17T00:00:00",
          "2021-12-18T00:00:00",
          "2021-12-19T00:00:00",
          "2021-12-20T00:00:00",
          "2021-12-21T00:00:00",
          "2021-12-22T00:00:00",
          "2021-12-23T00:00:00",
          "2021-12-24T00:00:00",
          "2021-12-25T00:00:00",
          "2021-12-26T00:00:00",
          "2021-12-27T00:00:00",
          "2021-12-28T00:00:00",
          "2021-12-29T00:00:00",
          "2021-12-31T00:00:00",
          "2022-01-01T00:00:00",
          "2022-01-02T00:00:00",
          "2022-01-03T00:00:00",
          "2022-01-04T00:00:00",
          "2022-01-05T00:00:00",
          "2022-01-06T00:00:00",
          "2022-01-07T00:00:00",
          "2022-01-09T00:00:00",
          "2022-01-16T00:00:00",
          "2022-01-17T00:00:00",
          "2022-01-20T00:00:00",
          "2022-01-24T00:00:00",
          "2022-01-28T00:00:00",
          "2022-01-29T00:00:00",
          "2022-01-30T00:00:00",
          "2022-01-31T00:00:00",
          "2022-02-01T00:00:00",
          "2022-02-02T00:00:00",
          "2022-02-03T00:00:00",
          "2022-02-05T00:00:00",
          "2022-02-06T00:00:00",
          "2022-02-07T00:00:00",
          "2022-02-08T00:00:00",
          "2022-02-09T00:00:00",
          "2022-02-10T00:00:00",
          "2022-02-11T00:00:00",
          "2022-02-12T00:00:00",
          "2022-02-13T00:00:00",
          "2022-02-14T00:00:00",
          "2022-02-15T00:00:00",
          "2022-02-16T00:00:00",
          "2022-02-17T00:00:00",
          "2022-02-18T00:00:00",
          "2022-02-19T00:00:00",
          "2022-02-20T00:00:00",
          "2022-02-21T00:00:00",
          "2022-02-22T00:00:00",
          "2022-02-23T00:00:00",
          "2022-02-24T00:00:00",
          "2022-02-25T00:00:00",
          "2022-02-26T00:00:00",
          "2022-02-27T00:00:00",
          "2022-02-28T00:00:00",
          "2022-03-01T00:00:00",
          "2022-03-02T00:00:00",
          "2022-03-03T00:00:00",
          "2022-03-04T00:00:00",
          "2022-03-05T00:00:00",
          "2022-03-06T00:00:00",
          "2022-03-07T00:00:00",
          "2022-03-08T00:00:00",
          "2022-03-09T00:00:00",
          "2022-03-10T00:00:00",
          "2022-03-11T00:00:00",
          "2022-03-12T00:00:00",
          "2022-03-13T00:00:00",
          "2022-03-14T00:00:00",
          "2022-03-15T00:00:00",
          "2022-03-16T00:00:00",
          "2022-03-17T00:00:00",
          "2022-03-18T00:00:00",
          "2022-03-19T00:00:00",
          "2022-03-20T00:00:00",
          "2022-03-21T00:00:00",
          "2022-03-22T00:00:00",
          "2022-03-23T00:00:00",
          "2022-03-24T00:00:00",
          "2022-03-25T00:00:00",
          "2022-03-26T00:00:00",
          "2022-03-27T00:00:00",
          "2022-03-28T00:00:00",
          "2022-03-29T00:00:00",
          "2022-03-30T00:00:00",
          "2022-03-31T00:00:00",
          "2022-04-01T00:00:00",
          "2022-04-02T00:00:00",
          "2022-04-03T00:00:00",
          "2022-04-04T00:00:00",
          "2022-04-05T00:00:00",
          "2022-04-06T00:00:00",
          "2022-04-07T00:00:00",
          "2022-04-08T00:00:00",
          "2022-04-09T00:00:00",
          "2022-04-10T00:00:00",
          "2022-04-11T00:00:00",
          "2022-04-12T00:00:00",
          "2022-04-13T00:00:00",
          "2022-04-14T00:00:00",
          "2022-04-15T00:00:00",
          "2022-04-16T00:00:00",
          "2022-04-17T00:00:00",
          "2022-04-18T00:00:00",
          "2022-04-19T00:00:00",
          "2022-04-20T00:00:00",
          "2022-04-21T00:00:00",
          "2022-04-22T00:00:00",
          "2022-04-23T00:00:00",
          "2022-04-24T00:00:00",
          "2022-04-25T00:00:00",
          "2022-04-26T00:00:00",
          "2022-04-27T00:00:00",
          "2022-04-28T00:00:00",
          "2022-04-29T00:00:00",
          "2022-04-30T00:00:00",
          "2022-05-01T00:00:00",
          "2022-05-02T00:00:00",
          "2022-05-03T00:00:00",
          "2022-05-04T00:00:00",
          "2022-05-05T00:00:00",
          "2022-05-06T00:00:00",
          "2022-05-07T00:00:00",
          "2022-05-08T00:00:00",
          "2022-05-09T00:00:00"
         ],
         "xaxis": "x",
         "y": [
          853,
          130,
          180,
          290,
          344,
          85,
          60,
          60,
          150,
          120,
          40,
          377,
          125,
          1144,
          40,
          40,
          90,
          20,
          150,
          100,
          30,
          744,
          220,
          334,
          370,
          300,
          110,
          90,
          162,
          40,
          100,
          395,
          80,
          838,
          70,
          50,
          420,
          946,
          140,
          10,
          10,
          10,
          125,
          25,
          40,
          3319,
          725,
          380,
          435,
          550,
          1419,
          240,
          782,
          1196,
          160,
          605,
          20,
          20,
          10,
          949,
          4570,
          677,
          205,
          10,
          60,
          110,
          10,
          40,
          30,
          160,
          55,
          250,
          96,
          10,
          10,
          1125,
          189,
          25,
          30,
          10,
          70,
          45,
          25,
          30,
          25,
          284,
          220,
          530,
          25,
          50,
          220,
          30,
          40,
          289,
          10,
          30,
          345,
          25,
          57,
          73,
          595,
          40,
          45,
          215,
          25,
          165,
          65,
          375,
          493,
          10,
          105,
          142,
          74,
          82,
          70,
          48,
          85,
          325,
          110,
          679,
          10,
          160,
          58,
          20,
          175,
          330,
          375,
          66,
          310,
          313,
          70,
          90,
          70,
          30,
          25,
          600,
          1535,
          148,
          10,
          125,
          35,
          197,
          1320,
          20,
          397
         ],
         "yaxis": "y"
        }
       ],
       "layout": {
        "legend": {
         "tracegroupgap": 0
        },
        "margin": {
         "t": 60
        },
        "template": {
         "data": {
          "bar": [
           {
            "error_x": {
             "color": "#2a3f5f"
            },
            "error_y": {
             "color": "#2a3f5f"
            },
            "marker": {
             "line": {
              "color": "#E5ECF6",
              "width": 0.5
             },
             "pattern": {
              "fillmode": "overlay",
              "size": 10,
              "solidity": 0.2
             }
            },
            "type": "bar"
           }
          ],
          "barpolar": [
           {
            "marker": {
             "line": {
              "color": "#E5ECF6",
              "width": 0.5
             },
             "pattern": {
              "fillmode": "overlay",
              "size": 10,
              "solidity": 0.2
             }
            },
            "type": "barpolar"
           }
          ],
          "carpet": [
           {
            "aaxis": {
             "endlinecolor": "#2a3f5f",
             "gridcolor": "white",
             "linecolor": "white",
             "minorgridcolor": "white",
             "startlinecolor": "#2a3f5f"
            },
            "baxis": {
             "endlinecolor": "#2a3f5f",
             "gridcolor": "white",
             "linecolor": "white",
             "minorgridcolor": "white",
             "startlinecolor": "#2a3f5f"
            },
            "type": "carpet"
           }
          ],
          "choropleth": [
           {
            "colorbar": {
             "outlinewidth": 0,
             "ticks": ""
            },
            "type": "choropleth"
           }
          ],
          "contour": [
           {
            "colorbar": {
             "outlinewidth": 0,
             "ticks": ""
            },
            "colorscale": [
             [
              0,
              "#0d0887"
             ],
             [
              0.1111111111111111,
              "#46039f"
             ],
             [
              0.2222222222222222,
              "#7201a8"
             ],
             [
              0.3333333333333333,
              "#9c179e"
             ],
             [
              0.4444444444444444,
              "#bd3786"
             ],
             [
              0.5555555555555556,
              "#d8576b"
             ],
             [
              0.6666666666666666,
              "#ed7953"
             ],
             [
              0.7777777777777778,
              "#fb9f3a"
             ],
             [
              0.8888888888888888,
              "#fdca26"
             ],
             [
              1,
              "#f0f921"
             ]
            ],
            "type": "contour"
           }
          ],
          "contourcarpet": [
           {
            "colorbar": {
             "outlinewidth": 0,
             "ticks": ""
            },
            "type": "contourcarpet"
           }
          ],
          "heatmap": [
           {
            "colorbar": {
             "outlinewidth": 0,
             "ticks": ""
            },
            "colorscale": [
             [
              0,
              "#0d0887"
             ],
             [
              0.1111111111111111,
              "#46039f"
             ],
             [
              0.2222222222222222,
              "#7201a8"
             ],
             [
              0.3333333333333333,
              "#9c179e"
             ],
             [
              0.4444444444444444,
              "#bd3786"
             ],
             [
              0.5555555555555556,
              "#d8576b"
             ],
             [
              0.6666666666666666,
              "#ed7953"
             ],
             [
              0.7777777777777778,
              "#fb9f3a"
             ],
             [
              0.8888888888888888,
              "#fdca26"
             ],
             [
              1,
              "#f0f921"
             ]
            ],
            "type": "heatmap"
           }
          ],
          "heatmapgl": [
           {
            "colorbar": {
             "outlinewidth": 0,
             "ticks": ""
            },
            "colorscale": [
             [
              0,
              "#0d0887"
             ],
             [
              0.1111111111111111,
              "#46039f"
             ],
             [
              0.2222222222222222,
              "#7201a8"
             ],
             [
              0.3333333333333333,
              "#9c179e"
             ],
             [
              0.4444444444444444,
              "#bd3786"
             ],
             [
              0.5555555555555556,
              "#d8576b"
             ],
             [
              0.6666666666666666,
              "#ed7953"
             ],
             [
              0.7777777777777778,
              "#fb9f3a"
             ],
             [
              0.8888888888888888,
              "#fdca26"
             ],
             [
              1,
              "#f0f921"
             ]
            ],
            "type": "heatmapgl"
           }
          ],
          "histogram": [
           {
            "marker": {
             "pattern": {
              "fillmode": "overlay",
              "size": 10,
              "solidity": 0.2
             }
            },
            "type": "histogram"
           }
          ],
          "histogram2d": [
           {
            "colorbar": {
             "outlinewidth": 0,
             "ticks": ""
            },
            "colorscale": [
             [
              0,
              "#0d0887"
             ],
             [
              0.1111111111111111,
              "#46039f"
             ],
             [
              0.2222222222222222,
              "#7201a8"
             ],
             [
              0.3333333333333333,
              "#9c179e"
             ],
             [
              0.4444444444444444,
              "#bd3786"
             ],
             [
              0.5555555555555556,
              "#d8576b"
             ],
             [
              0.6666666666666666,
              "#ed7953"
             ],
             [
              0.7777777777777778,
              "#fb9f3a"
             ],
             [
              0.8888888888888888,
              "#fdca26"
             ],
             [
              1,
              "#f0f921"
             ]
            ],
            "type": "histogram2d"
           }
          ],
          "histogram2dcontour": [
           {
            "colorbar": {
             "outlinewidth": 0,
             "ticks": ""
            },
            "colorscale": [
             [
              0,
              "#0d0887"
             ],
             [
              0.1111111111111111,
              "#46039f"
             ],
             [
              0.2222222222222222,
              "#7201a8"
             ],
             [
              0.3333333333333333,
              "#9c179e"
             ],
             [
              0.4444444444444444,
              "#bd3786"
             ],
             [
              0.5555555555555556,
              "#d8576b"
             ],
             [
              0.6666666666666666,
              "#ed7953"
             ],
             [
              0.7777777777777778,
              "#fb9f3a"
             ],
             [
              0.8888888888888888,
              "#fdca26"
             ],
             [
              1,
              "#f0f921"
             ]
            ],
            "type": "histogram2dcontour"
           }
          ],
          "mesh3d": [
           {
            "colorbar": {
             "outlinewidth": 0,
             "ticks": ""
            },
            "type": "mesh3d"
           }
          ],
          "parcoords": [
           {
            "line": {
             "colorbar": {
              "outlinewidth": 0,
              "ticks": ""
             }
            },
            "type": "parcoords"
           }
          ],
          "pie": [
           {
            "automargin": true,
            "type": "pie"
           }
          ],
          "scatter": [
           {
            "marker": {
             "colorbar": {
              "outlinewidth": 0,
              "ticks": ""
             }
            },
            "type": "scatter"
           }
          ],
          "scatter3d": [
           {
            "line": {
             "colorbar": {
              "outlinewidth": 0,
              "ticks": ""
             }
            },
            "marker": {
             "colorbar": {
              "outlinewidth": 0,
              "ticks": ""
             }
            },
            "type": "scatter3d"
           }
          ],
          "scattercarpet": [
           {
            "marker": {
             "colorbar": {
              "outlinewidth": 0,
              "ticks": ""
             }
            },
            "type": "scattercarpet"
           }
          ],
          "scattergeo": [
           {
            "marker": {
             "colorbar": {
              "outlinewidth": 0,
              "ticks": ""
             }
            },
            "type": "scattergeo"
           }
          ],
          "scattergl": [
           {
            "marker": {
             "colorbar": {
              "outlinewidth": 0,
              "ticks": ""
             }
            },
            "type": "scattergl"
           }
          ],
          "scattermapbox": [
           {
            "marker": {
             "colorbar": {
              "outlinewidth": 0,
              "ticks": ""
             }
            },
            "type": "scattermapbox"
           }
          ],
          "scatterpolar": [
           {
            "marker": {
             "colorbar": {
              "outlinewidth": 0,
              "ticks": ""
             }
            },
            "type": "scatterpolar"
           }
          ],
          "scatterpolargl": [
           {
            "marker": {
             "colorbar": {
              "outlinewidth": 0,
              "ticks": ""
             }
            },
            "type": "scatterpolargl"
           }
          ],
          "scatterternary": [
           {
            "marker": {
             "colorbar": {
              "outlinewidth": 0,
              "ticks": ""
             }
            },
            "type": "scatterternary"
           }
          ],
          "surface": [
           {
            "colorbar": {
             "outlinewidth": 0,
             "ticks": ""
            },
            "colorscale": [
             [
              0,
              "#0d0887"
             ],
             [
              0.1111111111111111,
              "#46039f"
             ],
             [
              0.2222222222222222,
              "#7201a8"
             ],
             [
              0.3333333333333333,
              "#9c179e"
             ],
             [
              0.4444444444444444,
              "#bd3786"
             ],
             [
              0.5555555555555556,
              "#d8576b"
             ],
             [
              0.6666666666666666,
              "#ed7953"
             ],
             [
              0.7777777777777778,
              "#fb9f3a"
             ],
             [
              0.8888888888888888,
              "#fdca26"
             ],
             [
              1,
              "#f0f921"
             ]
            ],
            "type": "surface"
           }
          ],
          "table": [
           {
            "cells": {
             "fill": {
              "color": "#EBF0F8"
             },
             "line": {
              "color": "white"
             }
            },
            "header": {
             "fill": {
              "color": "#C8D4E3"
             },
             "line": {
              "color": "white"
             }
            },
            "type": "table"
           }
          ]
         },
         "layout": {
          "annotationdefaults": {
           "arrowcolor": "#2a3f5f",
           "arrowhead": 0,
           "arrowwidth": 1
          },
          "autotypenumbers": "strict",
          "coloraxis": {
           "colorbar": {
            "outlinewidth": 0,
            "ticks": ""
           }
          },
          "colorscale": {
           "diverging": [
            [
             0,
             "#8e0152"
            ],
            [
             0.1,
             "#c51b7d"
            ],
            [
             0.2,
             "#de77ae"
            ],
            [
             0.3,
             "#f1b6da"
            ],
            [
             0.4,
             "#fde0ef"
            ],
            [
             0.5,
             "#f7f7f7"
            ],
            [
             0.6,
             "#e6f5d0"
            ],
            [
             0.7,
             "#b8e186"
            ],
            [
             0.8,
             "#7fbc41"
            ],
            [
             0.9,
             "#4d9221"
            ],
            [
             1,
             "#276419"
            ]
           ],
           "sequential": [
            [
             0,
             "#0d0887"
            ],
            [
             0.1111111111111111,
             "#46039f"
            ],
            [
             0.2222222222222222,
             "#7201a8"
            ],
            [
             0.3333333333333333,
             "#9c179e"
            ],
            [
             0.4444444444444444,
             "#bd3786"
            ],
            [
             0.5555555555555556,
             "#d8576b"
            ],
            [
             0.6666666666666666,
             "#ed7953"
            ],
            [
             0.7777777777777778,
             "#fb9f3a"
            ],
            [
             0.8888888888888888,
             "#fdca26"
            ],
            [
             1,
             "#f0f921"
            ]
           ],
           "sequentialminus": [
            [
             0,
             "#0d0887"
            ],
            [
             0.1111111111111111,
             "#46039f"
            ],
            [
             0.2222222222222222,
             "#7201a8"
            ],
            [
             0.3333333333333333,
             "#9c179e"
            ],
            [
             0.4444444444444444,
             "#bd3786"
            ],
            [
             0.5555555555555556,
             "#d8576b"
            ],
            [
             0.6666666666666666,
             "#ed7953"
            ],
            [
             0.7777777777777778,
             "#fb9f3a"
            ],
            [
             0.8888888888888888,
             "#fdca26"
            ],
            [
             1,
             "#f0f921"
            ]
           ]
          },
          "colorway": [
           "#636efa",
           "#EF553B",
           "#00cc96",
           "#ab63fa",
           "#FFA15A",
           "#19d3f3",
           "#FF6692",
           "#B6E880",
           "#FF97FF",
           "#FECB52"
          ],
          "font": {
           "color": "#2a3f5f"
          },
          "geo": {
           "bgcolor": "white",
           "lakecolor": "white",
           "landcolor": "#E5ECF6",
           "showlakes": true,
           "showland": true,
           "subunitcolor": "white"
          },
          "hoverlabel": {
           "align": "left"
          },
          "hovermode": "closest",
          "mapbox": {
           "style": "light"
          },
          "paper_bgcolor": "white",
          "plot_bgcolor": "#E5ECF6",
          "polar": {
           "angularaxis": {
            "gridcolor": "white",
            "linecolor": "white",
            "ticks": ""
           },
           "bgcolor": "#E5ECF6",
           "radialaxis": {
            "gridcolor": "white",
            "linecolor": "white",
            "ticks": ""
           }
          },
          "scene": {
           "xaxis": {
            "backgroundcolor": "#E5ECF6",
            "gridcolor": "white",
            "gridwidth": 2,
            "linecolor": "white",
            "showbackground": true,
            "ticks": "",
            "zerolinecolor": "white"
           },
           "yaxis": {
            "backgroundcolor": "#E5ECF6",
            "gridcolor": "white",
            "gridwidth": 2,
            "linecolor": "white",
            "showbackground": true,
            "ticks": "",
            "zerolinecolor": "white"
           },
           "zaxis": {
            "backgroundcolor": "#E5ECF6",
            "gridcolor": "white",
            "gridwidth": 2,
            "linecolor": "white",
            "showbackground": true,
            "ticks": "",
            "zerolinecolor": "white"
           }
          },
          "shapedefaults": {
           "line": {
            "color": "#2a3f5f"
           }
          },
          "ternary": {
           "aaxis": {
            "gridcolor": "white",
            "linecolor": "white",
            "ticks": ""
           },
           "baxis": {
            "gridcolor": "white",
            "linecolor": "white",
            "ticks": ""
           },
           "bgcolor": "#E5ECF6",
           "caxis": {
            "gridcolor": "white",
            "linecolor": "white",
            "ticks": ""
           }
          },
          "title": {
           "x": 0.05
          },
          "xaxis": {
           "automargin": true,
           "gridcolor": "white",
           "linecolor": "white",
           "ticks": "",
           "title": {
            "standoff": 15
           },
           "zerolinecolor": "white",
           "zerolinewidth": 2
          },
          "yaxis": {
           "automargin": true,
           "gridcolor": "white",
           "linecolor": "white",
           "ticks": "",
           "title": {
            "standoff": 15
           },
           "zerolinecolor": "white",
           "zerolinewidth": 2
          }
         }
        },
        "xaxis": {
         "anchor": "y",
         "domain": [
          0,
          1
         ],
         "title": {
          "text": "date"
         }
        },
        "yaxis": {
         "anchor": "x",
         "domain": [
          0,
          1
         ],
         "title": {
          "text": "price"
         }
        }
       }
      }
     },
     "metadata": {},
     "output_type": "display_data"
    }
   ],
   "source": [
    "date_df = df.groupby(['date'])['price'].sum().reset_index()\n",
    "fig = px.line(date_df, x = 'date', y = 'price')\n",
    "fig.show()"
   ]
  },
  {
   "cell_type": "code",
   "execution_count": 16,
   "metadata": {},
   "outputs": [
    {
     "data": {
      "text/html": [
       "<div>\n",
       "<style scoped>\n",
       "    .dataframe tbody tr th:only-of-type {\n",
       "        vertical-align: middle;\n",
       "    }\n",
       "\n",
       "    .dataframe tbody tr th {\n",
       "        vertical-align: top;\n",
       "    }\n",
       "\n",
       "    .dataframe thead th {\n",
       "        text-align: right;\n",
       "    }\n",
       "</style>\n",
       "<table border=\"1\" class=\"dataframe\">\n",
       "  <thead>\n",
       "    <tr style=\"text-align: right;\">\n",
       "      <th></th>\n",
       "      <th>date</th>\n",
       "      <th>item_name</th>\n",
       "      <th>item_category</th>\n",
       "      <th>price</th>\n",
       "      <th>month</th>\n",
       "      <th>day</th>\n",
       "      <th>year</th>\n",
       "    </tr>\n",
       "  </thead>\n",
       "  <tbody>\n",
       "    <tr>\n",
       "      <th>157</th>\n",
       "      <td>2022-02-06</td>\n",
       "      <td>pizza</td>\n",
       "      <td>food</td>\n",
       "      <td>567</td>\n",
       "      <td>2</td>\n",
       "      <td>6</td>\n",
       "      <td>2022</td>\n",
       "    </tr>\n",
       "  </tbody>\n",
       "</table>\n",
       "</div>"
      ],
      "text/plain": [
       "          date item_name item_category  price  month  day  year\n",
       "157 2022-02-06     pizza          food    567      2    6  2022"
      ]
     },
     "execution_count": 16,
     "metadata": {},
     "output_type": "execute_result"
    }
   ],
   "source": [
    "food = df[df.item_category == 'food']\n",
    "food[food.price == food.price.max()]"
   ]
  },
  {
   "cell_type": "code",
   "execution_count": 17,
   "metadata": {},
   "outputs": [
    {
     "data": {
      "application/vnd.plotly.v1+json": {
       "config": {
        "plotlyServerURL": "https://plot.ly"
       },
       "data": [
        {
         "alignmentgroup": "True",
         "hovertemplate": "price=%{x}<extra></extra>",
         "legendgroup": "",
         "marker": {
          "color": "#636efa"
         },
         "name": "",
         "notched": false,
         "offsetgroup": "",
         "orientation": "h",
         "showlegend": false,
         "type": "box",
         "x": [
          487,
          487,
          234,
          450,
          40,
          20,
          40,
          20,
          40,
          30,
          200,
          30,
          15,
          30,
          20,
          800,
          425,
          20,
          120,
          150,
          20,
          10,
          15,
          5,
          10,
          20,
          250,
          30,
          10,
          100,
          45,
          150,
          10,
          25,
          1196,
          40,
          150,
          312,
          15,
          10,
          15,
          15,
          15,
          20,
          15,
          140,
          220,
          15,
          39,
          20,
          15,
          15,
          15,
          15,
          20,
          160,
          100,
          60,
          15,
          15,
          15,
          15,
          15,
          15,
          125,
          30,
          70,
          15,
          70,
          80,
          54,
          62,
          15,
          50,
          300,
          15,
          20,
          140,
          300,
          15,
          135,
          20,
          15,
          160,
          15,
          15,
          15,
          15,
          182
         ],
         "x0": " ",
         "xaxis": "x",
         "y0": " ",
         "yaxis": "y"
        }
       ],
       "layout": {
        "boxmode": "group",
        "legend": {
         "tracegroupgap": 0
        },
        "margin": {
         "t": 60
        },
        "template": {
         "data": {
          "bar": [
           {
            "error_x": {
             "color": "#2a3f5f"
            },
            "error_y": {
             "color": "#2a3f5f"
            },
            "marker": {
             "line": {
              "color": "#E5ECF6",
              "width": 0.5
             },
             "pattern": {
              "fillmode": "overlay",
              "size": 10,
              "solidity": 0.2
             }
            },
            "type": "bar"
           }
          ],
          "barpolar": [
           {
            "marker": {
             "line": {
              "color": "#E5ECF6",
              "width": 0.5
             },
             "pattern": {
              "fillmode": "overlay",
              "size": 10,
              "solidity": 0.2
             }
            },
            "type": "barpolar"
           }
          ],
          "carpet": [
           {
            "aaxis": {
             "endlinecolor": "#2a3f5f",
             "gridcolor": "white",
             "linecolor": "white",
             "minorgridcolor": "white",
             "startlinecolor": "#2a3f5f"
            },
            "baxis": {
             "endlinecolor": "#2a3f5f",
             "gridcolor": "white",
             "linecolor": "white",
             "minorgridcolor": "white",
             "startlinecolor": "#2a3f5f"
            },
            "type": "carpet"
           }
          ],
          "choropleth": [
           {
            "colorbar": {
             "outlinewidth": 0,
             "ticks": ""
            },
            "type": "choropleth"
           }
          ],
          "contour": [
           {
            "colorbar": {
             "outlinewidth": 0,
             "ticks": ""
            },
            "colorscale": [
             [
              0,
              "#0d0887"
             ],
             [
              0.1111111111111111,
              "#46039f"
             ],
             [
              0.2222222222222222,
              "#7201a8"
             ],
             [
              0.3333333333333333,
              "#9c179e"
             ],
             [
              0.4444444444444444,
              "#bd3786"
             ],
             [
              0.5555555555555556,
              "#d8576b"
             ],
             [
              0.6666666666666666,
              "#ed7953"
             ],
             [
              0.7777777777777778,
              "#fb9f3a"
             ],
             [
              0.8888888888888888,
              "#fdca26"
             ],
             [
              1,
              "#f0f921"
             ]
            ],
            "type": "contour"
           }
          ],
          "contourcarpet": [
           {
            "colorbar": {
             "outlinewidth": 0,
             "ticks": ""
            },
            "type": "contourcarpet"
           }
          ],
          "heatmap": [
           {
            "colorbar": {
             "outlinewidth": 0,
             "ticks": ""
            },
            "colorscale": [
             [
              0,
              "#0d0887"
             ],
             [
              0.1111111111111111,
              "#46039f"
             ],
             [
              0.2222222222222222,
              "#7201a8"
             ],
             [
              0.3333333333333333,
              "#9c179e"
             ],
             [
              0.4444444444444444,
              "#bd3786"
             ],
             [
              0.5555555555555556,
              "#d8576b"
             ],
             [
              0.6666666666666666,
              "#ed7953"
             ],
             [
              0.7777777777777778,
              "#fb9f3a"
             ],
             [
              0.8888888888888888,
              "#fdca26"
             ],
             [
              1,
              "#f0f921"
             ]
            ],
            "type": "heatmap"
           }
          ],
          "heatmapgl": [
           {
            "colorbar": {
             "outlinewidth": 0,
             "ticks": ""
            },
            "colorscale": [
             [
              0,
              "#0d0887"
             ],
             [
              0.1111111111111111,
              "#46039f"
             ],
             [
              0.2222222222222222,
              "#7201a8"
             ],
             [
              0.3333333333333333,
              "#9c179e"
             ],
             [
              0.4444444444444444,
              "#bd3786"
             ],
             [
              0.5555555555555556,
              "#d8576b"
             ],
             [
              0.6666666666666666,
              "#ed7953"
             ],
             [
              0.7777777777777778,
              "#fb9f3a"
             ],
             [
              0.8888888888888888,
              "#fdca26"
             ],
             [
              1,
              "#f0f921"
             ]
            ],
            "type": "heatmapgl"
           }
          ],
          "histogram": [
           {
            "marker": {
             "pattern": {
              "fillmode": "overlay",
              "size": 10,
              "solidity": 0.2
             }
            },
            "type": "histogram"
           }
          ],
          "histogram2d": [
           {
            "colorbar": {
             "outlinewidth": 0,
             "ticks": ""
            },
            "colorscale": [
             [
              0,
              "#0d0887"
             ],
             [
              0.1111111111111111,
              "#46039f"
             ],
             [
              0.2222222222222222,
              "#7201a8"
             ],
             [
              0.3333333333333333,
              "#9c179e"
             ],
             [
              0.4444444444444444,
              "#bd3786"
             ],
             [
              0.5555555555555556,
              "#d8576b"
             ],
             [
              0.6666666666666666,
              "#ed7953"
             ],
             [
              0.7777777777777778,
              "#fb9f3a"
             ],
             [
              0.8888888888888888,
              "#fdca26"
             ],
             [
              1,
              "#f0f921"
             ]
            ],
            "type": "histogram2d"
           }
          ],
          "histogram2dcontour": [
           {
            "colorbar": {
             "outlinewidth": 0,
             "ticks": ""
            },
            "colorscale": [
             [
              0,
              "#0d0887"
             ],
             [
              0.1111111111111111,
              "#46039f"
             ],
             [
              0.2222222222222222,
              "#7201a8"
             ],
             [
              0.3333333333333333,
              "#9c179e"
             ],
             [
              0.4444444444444444,
              "#bd3786"
             ],
             [
              0.5555555555555556,
              "#d8576b"
             ],
             [
              0.6666666666666666,
              "#ed7953"
             ],
             [
              0.7777777777777778,
              "#fb9f3a"
             ],
             [
              0.8888888888888888,
              "#fdca26"
             ],
             [
              1,
              "#f0f921"
             ]
            ],
            "type": "histogram2dcontour"
           }
          ],
          "mesh3d": [
           {
            "colorbar": {
             "outlinewidth": 0,
             "ticks": ""
            },
            "type": "mesh3d"
           }
          ],
          "parcoords": [
           {
            "line": {
             "colorbar": {
              "outlinewidth": 0,
              "ticks": ""
             }
            },
            "type": "parcoords"
           }
          ],
          "pie": [
           {
            "automargin": true,
            "type": "pie"
           }
          ],
          "scatter": [
           {
            "marker": {
             "colorbar": {
              "outlinewidth": 0,
              "ticks": ""
             }
            },
            "type": "scatter"
           }
          ],
          "scatter3d": [
           {
            "line": {
             "colorbar": {
              "outlinewidth": 0,
              "ticks": ""
             }
            },
            "marker": {
             "colorbar": {
              "outlinewidth": 0,
              "ticks": ""
             }
            },
            "type": "scatter3d"
           }
          ],
          "scattercarpet": [
           {
            "marker": {
             "colorbar": {
              "outlinewidth": 0,
              "ticks": ""
             }
            },
            "type": "scattercarpet"
           }
          ],
          "scattergeo": [
           {
            "marker": {
             "colorbar": {
              "outlinewidth": 0,
              "ticks": ""
             }
            },
            "type": "scattergeo"
           }
          ],
          "scattergl": [
           {
            "marker": {
             "colorbar": {
              "outlinewidth": 0,
              "ticks": ""
             }
            },
            "type": "scattergl"
           }
          ],
          "scattermapbox": [
           {
            "marker": {
             "colorbar": {
              "outlinewidth": 0,
              "ticks": ""
             }
            },
            "type": "scattermapbox"
           }
          ],
          "scatterpolar": [
           {
            "marker": {
             "colorbar": {
              "outlinewidth": 0,
              "ticks": ""
             }
            },
            "type": "scatterpolar"
           }
          ],
          "scatterpolargl": [
           {
            "marker": {
             "colorbar": {
              "outlinewidth": 0,
              "ticks": ""
             }
            },
            "type": "scatterpolargl"
           }
          ],
          "scatterternary": [
           {
            "marker": {
             "colorbar": {
              "outlinewidth": 0,
              "ticks": ""
             }
            },
            "type": "scatterternary"
           }
          ],
          "surface": [
           {
            "colorbar": {
             "outlinewidth": 0,
             "ticks": ""
            },
            "colorscale": [
             [
              0,
              "#0d0887"
             ],
             [
              0.1111111111111111,
              "#46039f"
             ],
             [
              0.2222222222222222,
              "#7201a8"
             ],
             [
              0.3333333333333333,
              "#9c179e"
             ],
             [
              0.4444444444444444,
              "#bd3786"
             ],
             [
              0.5555555555555556,
              "#d8576b"
             ],
             [
              0.6666666666666666,
              "#ed7953"
             ],
             [
              0.7777777777777778,
              "#fb9f3a"
             ],
             [
              0.8888888888888888,
              "#fdca26"
             ],
             [
              1,
              "#f0f921"
             ]
            ],
            "type": "surface"
           }
          ],
          "table": [
           {
            "cells": {
             "fill": {
              "color": "#EBF0F8"
             },
             "line": {
              "color": "white"
             }
            },
            "header": {
             "fill": {
              "color": "#C8D4E3"
             },
             "line": {
              "color": "white"
             }
            },
            "type": "table"
           }
          ]
         },
         "layout": {
          "annotationdefaults": {
           "arrowcolor": "#2a3f5f",
           "arrowhead": 0,
           "arrowwidth": 1
          },
          "autotypenumbers": "strict",
          "coloraxis": {
           "colorbar": {
            "outlinewidth": 0,
            "ticks": ""
           }
          },
          "colorscale": {
           "diverging": [
            [
             0,
             "#8e0152"
            ],
            [
             0.1,
             "#c51b7d"
            ],
            [
             0.2,
             "#de77ae"
            ],
            [
             0.3,
             "#f1b6da"
            ],
            [
             0.4,
             "#fde0ef"
            ],
            [
             0.5,
             "#f7f7f7"
            ],
            [
             0.6,
             "#e6f5d0"
            ],
            [
             0.7,
             "#b8e186"
            ],
            [
             0.8,
             "#7fbc41"
            ],
            [
             0.9,
             "#4d9221"
            ],
            [
             1,
             "#276419"
            ]
           ],
           "sequential": [
            [
             0,
             "#0d0887"
            ],
            [
             0.1111111111111111,
             "#46039f"
            ],
            [
             0.2222222222222222,
             "#7201a8"
            ],
            [
             0.3333333333333333,
             "#9c179e"
            ],
            [
             0.4444444444444444,
             "#bd3786"
            ],
            [
             0.5555555555555556,
             "#d8576b"
            ],
            [
             0.6666666666666666,
             "#ed7953"
            ],
            [
             0.7777777777777778,
             "#fb9f3a"
            ],
            [
             0.8888888888888888,
             "#fdca26"
            ],
            [
             1,
             "#f0f921"
            ]
           ],
           "sequentialminus": [
            [
             0,
             "#0d0887"
            ],
            [
             0.1111111111111111,
             "#46039f"
            ],
            [
             0.2222222222222222,
             "#7201a8"
            ],
            [
             0.3333333333333333,
             "#9c179e"
            ],
            [
             0.4444444444444444,
             "#bd3786"
            ],
            [
             0.5555555555555556,
             "#d8576b"
            ],
            [
             0.6666666666666666,
             "#ed7953"
            ],
            [
             0.7777777777777778,
             "#fb9f3a"
            ],
            [
             0.8888888888888888,
             "#fdca26"
            ],
            [
             1,
             "#f0f921"
            ]
           ]
          },
          "colorway": [
           "#636efa",
           "#EF553B",
           "#00cc96",
           "#ab63fa",
           "#FFA15A",
           "#19d3f3",
           "#FF6692",
           "#B6E880",
           "#FF97FF",
           "#FECB52"
          ],
          "font": {
           "color": "#2a3f5f"
          },
          "geo": {
           "bgcolor": "white",
           "lakecolor": "white",
           "landcolor": "#E5ECF6",
           "showlakes": true,
           "showland": true,
           "subunitcolor": "white"
          },
          "hoverlabel": {
           "align": "left"
          },
          "hovermode": "closest",
          "mapbox": {
           "style": "light"
          },
          "paper_bgcolor": "white",
          "plot_bgcolor": "#E5ECF6",
          "polar": {
           "angularaxis": {
            "gridcolor": "white",
            "linecolor": "white",
            "ticks": ""
           },
           "bgcolor": "#E5ECF6",
           "radialaxis": {
            "gridcolor": "white",
            "linecolor": "white",
            "ticks": ""
           }
          },
          "scene": {
           "xaxis": {
            "backgroundcolor": "#E5ECF6",
            "gridcolor": "white",
            "gridwidth": 2,
            "linecolor": "white",
            "showbackground": true,
            "ticks": "",
            "zerolinecolor": "white"
           },
           "yaxis": {
            "backgroundcolor": "#E5ECF6",
            "gridcolor": "white",
            "gridwidth": 2,
            "linecolor": "white",
            "showbackground": true,
            "ticks": "",
            "zerolinecolor": "white"
           },
           "zaxis": {
            "backgroundcolor": "#E5ECF6",
            "gridcolor": "white",
            "gridwidth": 2,
            "linecolor": "white",
            "showbackground": true,
            "ticks": "",
            "zerolinecolor": "white"
           }
          },
          "shapedefaults": {
           "line": {
            "color": "#2a3f5f"
           }
          },
          "ternary": {
           "aaxis": {
            "gridcolor": "white",
            "linecolor": "white",
            "ticks": ""
           },
           "baxis": {
            "gridcolor": "white",
            "linecolor": "white",
            "ticks": ""
           },
           "bgcolor": "#E5ECF6",
           "caxis": {
            "gridcolor": "white",
            "linecolor": "white",
            "ticks": ""
           }
          },
          "title": {
           "x": 0.05
          },
          "xaxis": {
           "automargin": true,
           "gridcolor": "white",
           "linecolor": "white",
           "ticks": "",
           "title": {
            "standoff": 15
           },
           "zerolinecolor": "white",
           "zerolinewidth": 2
          },
          "yaxis": {
           "automargin": true,
           "gridcolor": "white",
           "linecolor": "white",
           "ticks": "",
           "title": {
            "standoff": 15
           },
           "zerolinecolor": "white",
           "zerolinewidth": 2
          }
         }
        },
        "xaxis": {
         "anchor": "y",
         "domain": [
          0,
          1
         ],
         "title": {
          "text": "price"
         }
        },
        "yaxis": {
         "anchor": "x",
         "domain": [
          0,
          1
         ]
        }
       }
      }
     },
     "metadata": {},
     "output_type": "display_data"
    }
   ],
   "source": [
    "def plot_box_plot(feature) : \n",
    "    dummy_df = df[df.item_category == feature]\n",
    "    fig = px.box(dummy_df, x = 'price')\n",
    "    return fig.show()\n",
    "\n",
    "plot_box_plot('travel')"
   ]
  },
  {
   "cell_type": "code",
   "execution_count": 18,
   "metadata": {},
   "outputs": [],
   "source": [
    "total_df = pd.read_csv('data/bangalore  - Total_spending.csv')\n",
    "total_df = total_df.T.reset_index().drop(4)"
   ]
  },
  {
   "cell_type": "code",
   "execution_count": 19,
   "metadata": {},
   "outputs": [
    {
     "data": {
      "application/vnd.plotly.v1+json": {
       "config": {
        "plotlyServerURL": "https://plot.ly"
       },
       "data": [
        {
         "domain": {
          "x": [
           0,
           1
          ],
          "y": [
           0,
           1
          ]
         },
         "hovertemplate": "index=%{label}<br>0=%{value}<extra></extra>",
         "labels": [
          "total_additional_spending ",
          "total_rent",
          "total_college_fees",
          "total_flight_fare"
         ],
         "legendgroup": "",
         "name": "",
         "showlegend": true,
         "type": "pie",
         "values": [
          32122,
          41900,
          142000,
          29543
         ]
        }
       ],
       "layout": {
        "legend": {
         "tracegroupgap": 0
        },
        "margin": {
         "t": 60
        },
        "template": {
         "data": {
          "bar": [
           {
            "error_x": {
             "color": "#2a3f5f"
            },
            "error_y": {
             "color": "#2a3f5f"
            },
            "marker": {
             "line": {
              "color": "#E5ECF6",
              "width": 0.5
             },
             "pattern": {
              "fillmode": "overlay",
              "size": 10,
              "solidity": 0.2
             }
            },
            "type": "bar"
           }
          ],
          "barpolar": [
           {
            "marker": {
             "line": {
              "color": "#E5ECF6",
              "width": 0.5
             },
             "pattern": {
              "fillmode": "overlay",
              "size": 10,
              "solidity": 0.2
             }
            },
            "type": "barpolar"
           }
          ],
          "carpet": [
           {
            "aaxis": {
             "endlinecolor": "#2a3f5f",
             "gridcolor": "white",
             "linecolor": "white",
             "minorgridcolor": "white",
             "startlinecolor": "#2a3f5f"
            },
            "baxis": {
             "endlinecolor": "#2a3f5f",
             "gridcolor": "white",
             "linecolor": "white",
             "minorgridcolor": "white",
             "startlinecolor": "#2a3f5f"
            },
            "type": "carpet"
           }
          ],
          "choropleth": [
           {
            "colorbar": {
             "outlinewidth": 0,
             "ticks": ""
            },
            "type": "choropleth"
           }
          ],
          "contour": [
           {
            "colorbar": {
             "outlinewidth": 0,
             "ticks": ""
            },
            "colorscale": [
             [
              0,
              "#0d0887"
             ],
             [
              0.1111111111111111,
              "#46039f"
             ],
             [
              0.2222222222222222,
              "#7201a8"
             ],
             [
              0.3333333333333333,
              "#9c179e"
             ],
             [
              0.4444444444444444,
              "#bd3786"
             ],
             [
              0.5555555555555556,
              "#d8576b"
             ],
             [
              0.6666666666666666,
              "#ed7953"
             ],
             [
              0.7777777777777778,
              "#fb9f3a"
             ],
             [
              0.8888888888888888,
              "#fdca26"
             ],
             [
              1,
              "#f0f921"
             ]
            ],
            "type": "contour"
           }
          ],
          "contourcarpet": [
           {
            "colorbar": {
             "outlinewidth": 0,
             "ticks": ""
            },
            "type": "contourcarpet"
           }
          ],
          "heatmap": [
           {
            "colorbar": {
             "outlinewidth": 0,
             "ticks": ""
            },
            "colorscale": [
             [
              0,
              "#0d0887"
             ],
             [
              0.1111111111111111,
              "#46039f"
             ],
             [
              0.2222222222222222,
              "#7201a8"
             ],
             [
              0.3333333333333333,
              "#9c179e"
             ],
             [
              0.4444444444444444,
              "#bd3786"
             ],
             [
              0.5555555555555556,
              "#d8576b"
             ],
             [
              0.6666666666666666,
              "#ed7953"
             ],
             [
              0.7777777777777778,
              "#fb9f3a"
             ],
             [
              0.8888888888888888,
              "#fdca26"
             ],
             [
              1,
              "#f0f921"
             ]
            ],
            "type": "heatmap"
           }
          ],
          "heatmapgl": [
           {
            "colorbar": {
             "outlinewidth": 0,
             "ticks": ""
            },
            "colorscale": [
             [
              0,
              "#0d0887"
             ],
             [
              0.1111111111111111,
              "#46039f"
             ],
             [
              0.2222222222222222,
              "#7201a8"
             ],
             [
              0.3333333333333333,
              "#9c179e"
             ],
             [
              0.4444444444444444,
              "#bd3786"
             ],
             [
              0.5555555555555556,
              "#d8576b"
             ],
             [
              0.6666666666666666,
              "#ed7953"
             ],
             [
              0.7777777777777778,
              "#fb9f3a"
             ],
             [
              0.8888888888888888,
              "#fdca26"
             ],
             [
              1,
              "#f0f921"
             ]
            ],
            "type": "heatmapgl"
           }
          ],
          "histogram": [
           {
            "marker": {
             "pattern": {
              "fillmode": "overlay",
              "size": 10,
              "solidity": 0.2
             }
            },
            "type": "histogram"
           }
          ],
          "histogram2d": [
           {
            "colorbar": {
             "outlinewidth": 0,
             "ticks": ""
            },
            "colorscale": [
             [
              0,
              "#0d0887"
             ],
             [
              0.1111111111111111,
              "#46039f"
             ],
             [
              0.2222222222222222,
              "#7201a8"
             ],
             [
              0.3333333333333333,
              "#9c179e"
             ],
             [
              0.4444444444444444,
              "#bd3786"
             ],
             [
              0.5555555555555556,
              "#d8576b"
             ],
             [
              0.6666666666666666,
              "#ed7953"
             ],
             [
              0.7777777777777778,
              "#fb9f3a"
             ],
             [
              0.8888888888888888,
              "#fdca26"
             ],
             [
              1,
              "#f0f921"
             ]
            ],
            "type": "histogram2d"
           }
          ],
          "histogram2dcontour": [
           {
            "colorbar": {
             "outlinewidth": 0,
             "ticks": ""
            },
            "colorscale": [
             [
              0,
              "#0d0887"
             ],
             [
              0.1111111111111111,
              "#46039f"
             ],
             [
              0.2222222222222222,
              "#7201a8"
             ],
             [
              0.3333333333333333,
              "#9c179e"
             ],
             [
              0.4444444444444444,
              "#bd3786"
             ],
             [
              0.5555555555555556,
              "#d8576b"
             ],
             [
              0.6666666666666666,
              "#ed7953"
             ],
             [
              0.7777777777777778,
              "#fb9f3a"
             ],
             [
              0.8888888888888888,
              "#fdca26"
             ],
             [
              1,
              "#f0f921"
             ]
            ],
            "type": "histogram2dcontour"
           }
          ],
          "mesh3d": [
           {
            "colorbar": {
             "outlinewidth": 0,
             "ticks": ""
            },
            "type": "mesh3d"
           }
          ],
          "parcoords": [
           {
            "line": {
             "colorbar": {
              "outlinewidth": 0,
              "ticks": ""
             }
            },
            "type": "parcoords"
           }
          ],
          "pie": [
           {
            "automargin": true,
            "type": "pie"
           }
          ],
          "scatter": [
           {
            "marker": {
             "colorbar": {
              "outlinewidth": 0,
              "ticks": ""
             }
            },
            "type": "scatter"
           }
          ],
          "scatter3d": [
           {
            "line": {
             "colorbar": {
              "outlinewidth": 0,
              "ticks": ""
             }
            },
            "marker": {
             "colorbar": {
              "outlinewidth": 0,
              "ticks": ""
             }
            },
            "type": "scatter3d"
           }
          ],
          "scattercarpet": [
           {
            "marker": {
             "colorbar": {
              "outlinewidth": 0,
              "ticks": ""
             }
            },
            "type": "scattercarpet"
           }
          ],
          "scattergeo": [
           {
            "marker": {
             "colorbar": {
              "outlinewidth": 0,
              "ticks": ""
             }
            },
            "type": "scattergeo"
           }
          ],
          "scattergl": [
           {
            "marker": {
             "colorbar": {
              "outlinewidth": 0,
              "ticks": ""
             }
            },
            "type": "scattergl"
           }
          ],
          "scattermapbox": [
           {
            "marker": {
             "colorbar": {
              "outlinewidth": 0,
              "ticks": ""
             }
            },
            "type": "scattermapbox"
           }
          ],
          "scatterpolar": [
           {
            "marker": {
             "colorbar": {
              "outlinewidth": 0,
              "ticks": ""
             }
            },
            "type": "scatterpolar"
           }
          ],
          "scatterpolargl": [
           {
            "marker": {
             "colorbar": {
              "outlinewidth": 0,
              "ticks": ""
             }
            },
            "type": "scatterpolargl"
           }
          ],
          "scatterternary": [
           {
            "marker": {
             "colorbar": {
              "outlinewidth": 0,
              "ticks": ""
             }
            },
            "type": "scatterternary"
           }
          ],
          "surface": [
           {
            "colorbar": {
             "outlinewidth": 0,
             "ticks": ""
            },
            "colorscale": [
             [
              0,
              "#0d0887"
             ],
             [
              0.1111111111111111,
              "#46039f"
             ],
             [
              0.2222222222222222,
              "#7201a8"
             ],
             [
              0.3333333333333333,
              "#9c179e"
             ],
             [
              0.4444444444444444,
              "#bd3786"
             ],
             [
              0.5555555555555556,
              "#d8576b"
             ],
             [
              0.6666666666666666,
              "#ed7953"
             ],
             [
              0.7777777777777778,
              "#fb9f3a"
             ],
             [
              0.8888888888888888,
              "#fdca26"
             ],
             [
              1,
              "#f0f921"
             ]
            ],
            "type": "surface"
           }
          ],
          "table": [
           {
            "cells": {
             "fill": {
              "color": "#EBF0F8"
             },
             "line": {
              "color": "white"
             }
            },
            "header": {
             "fill": {
              "color": "#C8D4E3"
             },
             "line": {
              "color": "white"
             }
            },
            "type": "table"
           }
          ]
         },
         "layout": {
          "annotationdefaults": {
           "arrowcolor": "#2a3f5f",
           "arrowhead": 0,
           "arrowwidth": 1
          },
          "autotypenumbers": "strict",
          "coloraxis": {
           "colorbar": {
            "outlinewidth": 0,
            "ticks": ""
           }
          },
          "colorscale": {
           "diverging": [
            [
             0,
             "#8e0152"
            ],
            [
             0.1,
             "#c51b7d"
            ],
            [
             0.2,
             "#de77ae"
            ],
            [
             0.3,
             "#f1b6da"
            ],
            [
             0.4,
             "#fde0ef"
            ],
            [
             0.5,
             "#f7f7f7"
            ],
            [
             0.6,
             "#e6f5d0"
            ],
            [
             0.7,
             "#b8e186"
            ],
            [
             0.8,
             "#7fbc41"
            ],
            [
             0.9,
             "#4d9221"
            ],
            [
             1,
             "#276419"
            ]
           ],
           "sequential": [
            [
             0,
             "#0d0887"
            ],
            [
             0.1111111111111111,
             "#46039f"
            ],
            [
             0.2222222222222222,
             "#7201a8"
            ],
            [
             0.3333333333333333,
             "#9c179e"
            ],
            [
             0.4444444444444444,
             "#bd3786"
            ],
            [
             0.5555555555555556,
             "#d8576b"
            ],
            [
             0.6666666666666666,
             "#ed7953"
            ],
            [
             0.7777777777777778,
             "#fb9f3a"
            ],
            [
             0.8888888888888888,
             "#fdca26"
            ],
            [
             1,
             "#f0f921"
            ]
           ],
           "sequentialminus": [
            [
             0,
             "#0d0887"
            ],
            [
             0.1111111111111111,
             "#46039f"
            ],
            [
             0.2222222222222222,
             "#7201a8"
            ],
            [
             0.3333333333333333,
             "#9c179e"
            ],
            [
             0.4444444444444444,
             "#bd3786"
            ],
            [
             0.5555555555555556,
             "#d8576b"
            ],
            [
             0.6666666666666666,
             "#ed7953"
            ],
            [
             0.7777777777777778,
             "#fb9f3a"
            ],
            [
             0.8888888888888888,
             "#fdca26"
            ],
            [
             1,
             "#f0f921"
            ]
           ]
          },
          "colorway": [
           "#636efa",
           "#EF553B",
           "#00cc96",
           "#ab63fa",
           "#FFA15A",
           "#19d3f3",
           "#FF6692",
           "#B6E880",
           "#FF97FF",
           "#FECB52"
          ],
          "font": {
           "color": "#2a3f5f"
          },
          "geo": {
           "bgcolor": "white",
           "lakecolor": "white",
           "landcolor": "#E5ECF6",
           "showlakes": true,
           "showland": true,
           "subunitcolor": "white"
          },
          "hoverlabel": {
           "align": "left"
          },
          "hovermode": "closest",
          "mapbox": {
           "style": "light"
          },
          "paper_bgcolor": "white",
          "plot_bgcolor": "#E5ECF6",
          "polar": {
           "angularaxis": {
            "gridcolor": "white",
            "linecolor": "white",
            "ticks": ""
           },
           "bgcolor": "#E5ECF6",
           "radialaxis": {
            "gridcolor": "white",
            "linecolor": "white",
            "ticks": ""
           }
          },
          "scene": {
           "xaxis": {
            "backgroundcolor": "#E5ECF6",
            "gridcolor": "white",
            "gridwidth": 2,
            "linecolor": "white",
            "showbackground": true,
            "ticks": "",
            "zerolinecolor": "white"
           },
           "yaxis": {
            "backgroundcolor": "#E5ECF6",
            "gridcolor": "white",
            "gridwidth": 2,
            "linecolor": "white",
            "showbackground": true,
            "ticks": "",
            "zerolinecolor": "white"
           },
           "zaxis": {
            "backgroundcolor": "#E5ECF6",
            "gridcolor": "white",
            "gridwidth": 2,
            "linecolor": "white",
            "showbackground": true,
            "ticks": "",
            "zerolinecolor": "white"
           }
          },
          "shapedefaults": {
           "line": {
            "color": "#2a3f5f"
           }
          },
          "ternary": {
           "aaxis": {
            "gridcolor": "white",
            "linecolor": "white",
            "ticks": ""
           },
           "baxis": {
            "gridcolor": "white",
            "linecolor": "white",
            "ticks": ""
           },
           "bgcolor": "#E5ECF6",
           "caxis": {
            "gridcolor": "white",
            "linecolor": "white",
            "ticks": ""
           }
          },
          "title": {
           "x": 0.05
          },
          "xaxis": {
           "automargin": true,
           "gridcolor": "white",
           "linecolor": "white",
           "ticks": "",
           "title": {
            "standoff": 15
           },
           "zerolinecolor": "white",
           "zerolinewidth": 2
          },
          "yaxis": {
           "automargin": true,
           "gridcolor": "white",
           "linecolor": "white",
           "ticks": "",
           "title": {
            "standoff": 15
           },
           "zerolinecolor": "white",
           "zerolinewidth": 2
          }
         }
        }
       }
      }
     },
     "metadata": {},
     "output_type": "display_data"
    }
   ],
   "source": [
    "px.pie(total_df, names = 'index', values = 0)"
   ]
  },
  {
   "cell_type": "code",
   "execution_count": 20,
   "metadata": {},
   "outputs": [
    {
     "name": "stderr",
     "output_type": "stream",
     "text": [
      "c:\\Users\\Computer\\AppData\\Local\\Programs\\Python\\Python310\\lib\\site-packages\\plotly\\express\\_core.py:1637: FutureWarning:\n",
      "\n",
      "The frame.append method is deprecated and will be removed from pandas in a future version. Use pandas.concat instead.\n",
      "\n",
      "c:\\Users\\Computer\\AppData\\Local\\Programs\\Python\\Python310\\lib\\site-packages\\plotly\\express\\_core.py:1637: FutureWarning:\n",
      "\n",
      "The frame.append method is deprecated and will be removed from pandas in a future version. Use pandas.concat instead.\n",
      "\n"
     ]
    },
    {
     "data": {
      "application/vnd.plotly.v1+json": {
       "config": {
        "plotlyServerURL": "https://plot.ly"
       },
       "data": [
        {
         "branchvalues": "total",
         "domain": {
          "x": [
           0,
           1
          ],
          "y": [
           0,
           1
          ]
         },
         "hovertemplate": "labels=%{label}<br>total spending=%{value}<br>parent=%{parent}<br>id=%{id}<extra></extra>",
         "ids": [
          "total spending/DTDC",
          "total spending/KFC",
          "total spending/SSD",
          "total spending/Victoria pass",
          "total spending/airport",
          "total spending/auto",
          "total spending/auto ",
          "total spending/banana",
          "total spending/beggar ",
          "total spending/bigbazar",
          "total spending/bike ",
          "total spending/bin bag ",
          "total spending/biritani",
          "total spending/biriyani",
          "total spending/biscuit ",
          "total spending/biscuits",
          "total spending/boating",
          "total spending/breakfast",
          "total spending/burger ",
          "total spending/bus",
          "total spending/bus ",
          "total spending/cake ",
          "total spending/cake, biscuit ",
          "total spending/car",
          "total spending/car ",
          "total spending/chanda",
          "total spending/chicken",
          "total spending/child education",
          "total spending/chilli chicken ",
          "total spending/chilli chiken ",
          "total spending/chips",
          "total spending/chips ",
          "total spending/club",
          "total spending/coke",
          "total spending/cold coffe",
          "total spending/cold drinks",
          "total spending/colgate",
          "total spending/color",
          "total spending/corn",
          "total spending/dhania",
          "total spending/dinner",
          "total spending/dinner ",
          "total spending/donate",
          "total spending/donated",
          "total spending/donated ",
          "total spending/dumdum",
          "total spending/egg",
          "total spending/egg puff",
          "total spending/extra km ",
          "total spending/feed an old",
          "total spending/flat coffe",
          "total spending/fresh lime soda",
          "total spending/fruity",
          "total spending/gift",
          "total spending/gift ",
          "total spending/grocerry ",
          "total spending/haircut",
          "total spending/handwash",
          "total spending/headphone",
          "total spending/helmet",
          "total spending/hook",
          "total spending/hooks",
          "total spending/icecream",
          "total spending/juice",
          "total spending/juice ",
          "total spending/key",
          "total spending/light ",
          "total spending/lunch",
          "total spending/lunch ",
          "total spending/massage ",
          "total spending/meal",
          "total spending/medicine ",
          "total spending/metro",
          "total spending/milk shake",
          "total spending/mirinda",
          "total spending/momo",
          "total spending/mtero",
          "total spending/notebook",
          "total spending/ola",
          "total spending/panipuri",
          "total spending/paratha",
          "total spending/pepsi",
          "total spending/petrol",
          "total spending/petrol ",
          "total spending/pizza",
          "total spending/pokora",
          "total spending/pokore ",
          "total spending/pop corn",
          "total spending/print",
          "total spending/print out",
          "total spending/random",
          "total spending/rapido",
          "total spending/recharge",
          "total spending/roll",
          "total spending/rubber",
          "total spending/samosa",
          "total spending/sent home",
          "total spending/shake ",
          "total spending/shirt",
          "total spending/shooting game",
          "total spending/singare ",
          "total spending/sleeper",
          "total spending/slice",
          "total spending/snacks",
          "total spending/snacks ",
          "total spending/snaks ",
          "total spending/soap ",
          "total spending/sticky notes ",
          "total spending/swarma",
          "total spending/sweet",
          "total spending/taxi",
          "total spending/tea",
          "total spending/tea ",
          "total spending/thumpsUp",
          "total spending/thumpsup",
          "total spending/tissue ",
          "total spending/toto",
          "total spending/toto ",
          "total spending/train",
          "total spending/treat",
          "total spending/treker",
          "total spending/turf",
          "total spending/uber",
          "total spending/washing powder",
          "total spending/water ",
          "total spending/xeorx",
          "total spending/xerox",
          "total spending/yulu",
          "total spending"
         ],
         "labels": [
          "DTDC",
          "KFC",
          "SSD",
          "Victoria pass",
          "airport",
          "auto",
          "auto ",
          "banana",
          "beggar ",
          "bigbazar",
          "bike ",
          "bin bag ",
          "biritani",
          "biriyani",
          "biscuit ",
          "biscuits",
          "boating",
          "breakfast",
          "burger ",
          "bus",
          "bus ",
          "cake ",
          "cake, biscuit ",
          "car",
          "car ",
          "chanda",
          "chicken",
          "child education",
          "chilli chicken ",
          "chilli chiken ",
          "chips",
          "chips ",
          "club",
          "coke",
          "cold coffe",
          "cold drinks",
          "colgate",
          "color",
          "corn",
          "dhania",
          "dinner",
          "dinner ",
          "donate",
          "donated",
          "donated ",
          "dumdum",
          "egg",
          "egg puff",
          "extra km ",
          "feed an old",
          "flat coffe",
          "fresh lime soda",
          "fruity",
          "gift",
          "gift ",
          "grocerry ",
          "haircut",
          "handwash",
          "headphone",
          "helmet",
          "hook",
          "hooks",
          "icecream",
          "juice",
          "juice ",
          "key",
          "light ",
          "lunch",
          "lunch ",
          "massage ",
          "meal",
          "medicine ",
          "metro",
          "milk shake",
          "mirinda",
          "momo",
          "mtero",
          "notebook",
          "ola",
          "panipuri",
          "paratha",
          "pepsi",
          "petrol",
          "petrol ",
          "pizza",
          "pokora",
          "pokore ",
          "pop corn",
          "print",
          "print out",
          "random",
          "rapido",
          "recharge",
          "roll",
          "rubber",
          "samosa",
          "sent home",
          "shake ",
          "shirt",
          "shooting game",
          "singare ",
          "sleeper",
          "slice",
          "snacks",
          "snacks ",
          "snaks ",
          "soap ",
          "sticky notes ",
          "swarma",
          "sweet",
          "taxi",
          "tea",
          "tea ",
          "thumpsUp",
          "thumpsup",
          "tissue ",
          "toto",
          "toto ",
          "train",
          "treat",
          "treker",
          "turf",
          "uber",
          "washing powder",
          "water ",
          "xeorx",
          "xerox",
          "yulu",
          "total spending"
         ],
         "name": "",
         "parents": [
          "total spending",
          "total spending",
          "total spending",
          "total spending",
          "total spending",
          "total spending",
          "total spending",
          "total spending",
          "total spending",
          "total spending",
          "total spending",
          "total spending",
          "total spending",
          "total spending",
          "total spending",
          "total spending",
          "total spending",
          "total spending",
          "total spending",
          "total spending",
          "total spending",
          "total spending",
          "total spending",
          "total spending",
          "total spending",
          "total spending",
          "total spending",
          "total spending",
          "total spending",
          "total spending",
          "total spending",
          "total spending",
          "total spending",
          "total spending",
          "total spending",
          "total spending",
          "total spending",
          "total spending",
          "total spending",
          "total spending",
          "total spending",
          "total spending",
          "total spending",
          "total spending",
          "total spending",
          "total spending",
          "total spending",
          "total spending",
          "total spending",
          "total spending",
          "total spending",
          "total spending",
          "total spending",
          "total spending",
          "total spending",
          "total spending",
          "total spending",
          "total spending",
          "total spending",
          "total spending",
          "total spending",
          "total spending",
          "total spending",
          "total spending",
          "total spending",
          "total spending",
          "total spending",
          "total spending",
          "total spending",
          "total spending",
          "total spending",
          "total spending",
          "total spending",
          "total spending",
          "total spending",
          "total spending",
          "total spending",
          "total spending",
          "total spending",
          "total spending",
          "total spending",
          "total spending",
          "total spending",
          "total spending",
          "total spending",
          "total spending",
          "total spending",
          "total spending",
          "total spending",
          "total spending",
          "total spending",
          "total spending",
          "total spending",
          "total spending",
          "total spending",
          "total spending",
          "total spending",
          "total spending",
          "total spending",
          "total spending",
          "total spending",
          "total spending",
          "total spending",
          "total spending",
          "total spending",
          "total spending",
          "total spending",
          "total spending",
          "total spending",
          "total spending",
          "total spending",
          "total spending",
          "total spending",
          "total spending",
          "total spending",
          "total spending",
          "total spending",
          "total spending",
          "total spending",
          "total spending",
          "total spending",
          "total spending",
          "total spending",
          "total spending",
          "total spending",
          "total spending",
          "total spending",
          "total spending",
          ""
         ],
         "type": "treemap",
         "values": [
          300,
          725,
          4550,
          40,
          234,
          519,
          135,
          35,
          4,
          257,
          465,
          60,
          120,
          100,
          20,
          120,
          200,
          333,
          162,
          1210,
          300,
          30,
          70,
          487,
          487,
          100,
          100,
          100,
          70,
          100,
          100,
          80,
          110,
          102,
          35,
          118,
          20,
          10,
          10,
          10,
          3204,
          150,
          35,
          40,
          105,
          450,
          90,
          50,
          312,
          80,
          10,
          180,
          10,
          415,
          400,
          899,
          60,
          100,
          1200,
          150,
          160,
          180,
          30,
          50,
          35,
          120,
          180,
          821,
          495,
          130,
          70,
          500,
          215,
          300,
          20,
          694,
          15,
          225,
          940,
          50,
          86,
          20,
          470,
          150,
          567,
          90,
          30,
          40,
          110,
          10,
          100,
          125,
          2899,
          58,
          30,
          15,
          1000,
          80,
          3099,
          20,
          30,
          110,
          10,
          140,
          226,
          40,
          55,
          50,
          120,
          235,
          1196,
          1750,
          265,
          20,
          40,
          48,
          170,
          30,
          5,
          140,
          45,
          150,
          425,
          10,
          80,
          20,
          100,
          1492,
          41199
         ]
        }
       ],
       "layout": {
        "legend": {
         "tracegroupgap": 0
        },
        "margin": {
         "t": 60
        },
        "template": {
         "data": {
          "bar": [
           {
            "error_x": {
             "color": "#2a3f5f"
            },
            "error_y": {
             "color": "#2a3f5f"
            },
            "marker": {
             "line": {
              "color": "#E5ECF6",
              "width": 0.5
             },
             "pattern": {
              "fillmode": "overlay",
              "size": 10,
              "solidity": 0.2
             }
            },
            "type": "bar"
           }
          ],
          "barpolar": [
           {
            "marker": {
             "line": {
              "color": "#E5ECF6",
              "width": 0.5
             },
             "pattern": {
              "fillmode": "overlay",
              "size": 10,
              "solidity": 0.2
             }
            },
            "type": "barpolar"
           }
          ],
          "carpet": [
           {
            "aaxis": {
             "endlinecolor": "#2a3f5f",
             "gridcolor": "white",
             "linecolor": "white",
             "minorgridcolor": "white",
             "startlinecolor": "#2a3f5f"
            },
            "baxis": {
             "endlinecolor": "#2a3f5f",
             "gridcolor": "white",
             "linecolor": "white",
             "minorgridcolor": "white",
             "startlinecolor": "#2a3f5f"
            },
            "type": "carpet"
           }
          ],
          "choropleth": [
           {
            "colorbar": {
             "outlinewidth": 0,
             "ticks": ""
            },
            "type": "choropleth"
           }
          ],
          "contour": [
           {
            "colorbar": {
             "outlinewidth": 0,
             "ticks": ""
            },
            "colorscale": [
             [
              0,
              "#0d0887"
             ],
             [
              0.1111111111111111,
              "#46039f"
             ],
             [
              0.2222222222222222,
              "#7201a8"
             ],
             [
              0.3333333333333333,
              "#9c179e"
             ],
             [
              0.4444444444444444,
              "#bd3786"
             ],
             [
              0.5555555555555556,
              "#d8576b"
             ],
             [
              0.6666666666666666,
              "#ed7953"
             ],
             [
              0.7777777777777778,
              "#fb9f3a"
             ],
             [
              0.8888888888888888,
              "#fdca26"
             ],
             [
              1,
              "#f0f921"
             ]
            ],
            "type": "contour"
           }
          ],
          "contourcarpet": [
           {
            "colorbar": {
             "outlinewidth": 0,
             "ticks": ""
            },
            "type": "contourcarpet"
           }
          ],
          "heatmap": [
           {
            "colorbar": {
             "outlinewidth": 0,
             "ticks": ""
            },
            "colorscale": [
             [
              0,
              "#0d0887"
             ],
             [
              0.1111111111111111,
              "#46039f"
             ],
             [
              0.2222222222222222,
              "#7201a8"
             ],
             [
              0.3333333333333333,
              "#9c179e"
             ],
             [
              0.4444444444444444,
              "#bd3786"
             ],
             [
              0.5555555555555556,
              "#d8576b"
             ],
             [
              0.6666666666666666,
              "#ed7953"
             ],
             [
              0.7777777777777778,
              "#fb9f3a"
             ],
             [
              0.8888888888888888,
              "#fdca26"
             ],
             [
              1,
              "#f0f921"
             ]
            ],
            "type": "heatmap"
           }
          ],
          "heatmapgl": [
           {
            "colorbar": {
             "outlinewidth": 0,
             "ticks": ""
            },
            "colorscale": [
             [
              0,
              "#0d0887"
             ],
             [
              0.1111111111111111,
              "#46039f"
             ],
             [
              0.2222222222222222,
              "#7201a8"
             ],
             [
              0.3333333333333333,
              "#9c179e"
             ],
             [
              0.4444444444444444,
              "#bd3786"
             ],
             [
              0.5555555555555556,
              "#d8576b"
             ],
             [
              0.6666666666666666,
              "#ed7953"
             ],
             [
              0.7777777777777778,
              "#fb9f3a"
             ],
             [
              0.8888888888888888,
              "#fdca26"
             ],
             [
              1,
              "#f0f921"
             ]
            ],
            "type": "heatmapgl"
           }
          ],
          "histogram": [
           {
            "marker": {
             "pattern": {
              "fillmode": "overlay",
              "size": 10,
              "solidity": 0.2
             }
            },
            "type": "histogram"
           }
          ],
          "histogram2d": [
           {
            "colorbar": {
             "outlinewidth": 0,
             "ticks": ""
            },
            "colorscale": [
             [
              0,
              "#0d0887"
             ],
             [
              0.1111111111111111,
              "#46039f"
             ],
             [
              0.2222222222222222,
              "#7201a8"
             ],
             [
              0.3333333333333333,
              "#9c179e"
             ],
             [
              0.4444444444444444,
              "#bd3786"
             ],
             [
              0.5555555555555556,
              "#d8576b"
             ],
             [
              0.6666666666666666,
              "#ed7953"
             ],
             [
              0.7777777777777778,
              "#fb9f3a"
             ],
             [
              0.8888888888888888,
              "#fdca26"
             ],
             [
              1,
              "#f0f921"
             ]
            ],
            "type": "histogram2d"
           }
          ],
          "histogram2dcontour": [
           {
            "colorbar": {
             "outlinewidth": 0,
             "ticks": ""
            },
            "colorscale": [
             [
              0,
              "#0d0887"
             ],
             [
              0.1111111111111111,
              "#46039f"
             ],
             [
              0.2222222222222222,
              "#7201a8"
             ],
             [
              0.3333333333333333,
              "#9c179e"
             ],
             [
              0.4444444444444444,
              "#bd3786"
             ],
             [
              0.5555555555555556,
              "#d8576b"
             ],
             [
              0.6666666666666666,
              "#ed7953"
             ],
             [
              0.7777777777777778,
              "#fb9f3a"
             ],
             [
              0.8888888888888888,
              "#fdca26"
             ],
             [
              1,
              "#f0f921"
             ]
            ],
            "type": "histogram2dcontour"
           }
          ],
          "mesh3d": [
           {
            "colorbar": {
             "outlinewidth": 0,
             "ticks": ""
            },
            "type": "mesh3d"
           }
          ],
          "parcoords": [
           {
            "line": {
             "colorbar": {
              "outlinewidth": 0,
              "ticks": ""
             }
            },
            "type": "parcoords"
           }
          ],
          "pie": [
           {
            "automargin": true,
            "type": "pie"
           }
          ],
          "scatter": [
           {
            "marker": {
             "colorbar": {
              "outlinewidth": 0,
              "ticks": ""
             }
            },
            "type": "scatter"
           }
          ],
          "scatter3d": [
           {
            "line": {
             "colorbar": {
              "outlinewidth": 0,
              "ticks": ""
             }
            },
            "marker": {
             "colorbar": {
              "outlinewidth": 0,
              "ticks": ""
             }
            },
            "type": "scatter3d"
           }
          ],
          "scattercarpet": [
           {
            "marker": {
             "colorbar": {
              "outlinewidth": 0,
              "ticks": ""
             }
            },
            "type": "scattercarpet"
           }
          ],
          "scattergeo": [
           {
            "marker": {
             "colorbar": {
              "outlinewidth": 0,
              "ticks": ""
             }
            },
            "type": "scattergeo"
           }
          ],
          "scattergl": [
           {
            "marker": {
             "colorbar": {
              "outlinewidth": 0,
              "ticks": ""
             }
            },
            "type": "scattergl"
           }
          ],
          "scattermapbox": [
           {
            "marker": {
             "colorbar": {
              "outlinewidth": 0,
              "ticks": ""
             }
            },
            "type": "scattermapbox"
           }
          ],
          "scatterpolar": [
           {
            "marker": {
             "colorbar": {
              "outlinewidth": 0,
              "ticks": ""
             }
            },
            "type": "scatterpolar"
           }
          ],
          "scatterpolargl": [
           {
            "marker": {
             "colorbar": {
              "outlinewidth": 0,
              "ticks": ""
             }
            },
            "type": "scatterpolargl"
           }
          ],
          "scatterternary": [
           {
            "marker": {
             "colorbar": {
              "outlinewidth": 0,
              "ticks": ""
             }
            },
            "type": "scatterternary"
           }
          ],
          "surface": [
           {
            "colorbar": {
             "outlinewidth": 0,
             "ticks": ""
            },
            "colorscale": [
             [
              0,
              "#0d0887"
             ],
             [
              0.1111111111111111,
              "#46039f"
             ],
             [
              0.2222222222222222,
              "#7201a8"
             ],
             [
              0.3333333333333333,
              "#9c179e"
             ],
             [
              0.4444444444444444,
              "#bd3786"
             ],
             [
              0.5555555555555556,
              "#d8576b"
             ],
             [
              0.6666666666666666,
              "#ed7953"
             ],
             [
              0.7777777777777778,
              "#fb9f3a"
             ],
             [
              0.8888888888888888,
              "#fdca26"
             ],
             [
              1,
              "#f0f921"
             ]
            ],
            "type": "surface"
           }
          ],
          "table": [
           {
            "cells": {
             "fill": {
              "color": "#EBF0F8"
             },
             "line": {
              "color": "white"
             }
            },
            "header": {
             "fill": {
              "color": "#C8D4E3"
             },
             "line": {
              "color": "white"
             }
            },
            "type": "table"
           }
          ]
         },
         "layout": {
          "annotationdefaults": {
           "arrowcolor": "#2a3f5f",
           "arrowhead": 0,
           "arrowwidth": 1
          },
          "autotypenumbers": "strict",
          "coloraxis": {
           "colorbar": {
            "outlinewidth": 0,
            "ticks": ""
           }
          },
          "colorscale": {
           "diverging": [
            [
             0,
             "#8e0152"
            ],
            [
             0.1,
             "#c51b7d"
            ],
            [
             0.2,
             "#de77ae"
            ],
            [
             0.3,
             "#f1b6da"
            ],
            [
             0.4,
             "#fde0ef"
            ],
            [
             0.5,
             "#f7f7f7"
            ],
            [
             0.6,
             "#e6f5d0"
            ],
            [
             0.7,
             "#b8e186"
            ],
            [
             0.8,
             "#7fbc41"
            ],
            [
             0.9,
             "#4d9221"
            ],
            [
             1,
             "#276419"
            ]
           ],
           "sequential": [
            [
             0,
             "#0d0887"
            ],
            [
             0.1111111111111111,
             "#46039f"
            ],
            [
             0.2222222222222222,
             "#7201a8"
            ],
            [
             0.3333333333333333,
             "#9c179e"
            ],
            [
             0.4444444444444444,
             "#bd3786"
            ],
            [
             0.5555555555555556,
             "#d8576b"
            ],
            [
             0.6666666666666666,
             "#ed7953"
            ],
            [
             0.7777777777777778,
             "#fb9f3a"
            ],
            [
             0.8888888888888888,
             "#fdca26"
            ],
            [
             1,
             "#f0f921"
            ]
           ],
           "sequentialminus": [
            [
             0,
             "#0d0887"
            ],
            [
             0.1111111111111111,
             "#46039f"
            ],
            [
             0.2222222222222222,
             "#7201a8"
            ],
            [
             0.3333333333333333,
             "#9c179e"
            ],
            [
             0.4444444444444444,
             "#bd3786"
            ],
            [
             0.5555555555555556,
             "#d8576b"
            ],
            [
             0.6666666666666666,
             "#ed7953"
            ],
            [
             0.7777777777777778,
             "#fb9f3a"
            ],
            [
             0.8888888888888888,
             "#fdca26"
            ],
            [
             1,
             "#f0f921"
            ]
           ]
          },
          "colorway": [
           "#636efa",
           "#EF553B",
           "#00cc96",
           "#ab63fa",
           "#FFA15A",
           "#19d3f3",
           "#FF6692",
           "#B6E880",
           "#FF97FF",
           "#FECB52"
          ],
          "font": {
           "color": "#2a3f5f"
          },
          "geo": {
           "bgcolor": "white",
           "lakecolor": "white",
           "landcolor": "#E5ECF6",
           "showlakes": true,
           "showland": true,
           "subunitcolor": "white"
          },
          "hoverlabel": {
           "align": "left"
          },
          "hovermode": "closest",
          "mapbox": {
           "style": "light"
          },
          "paper_bgcolor": "white",
          "plot_bgcolor": "#E5ECF6",
          "polar": {
           "angularaxis": {
            "gridcolor": "white",
            "linecolor": "white",
            "ticks": ""
           },
           "bgcolor": "#E5ECF6",
           "radialaxis": {
            "gridcolor": "white",
            "linecolor": "white",
            "ticks": ""
           }
          },
          "scene": {
           "xaxis": {
            "backgroundcolor": "#E5ECF6",
            "gridcolor": "white",
            "gridwidth": 2,
            "linecolor": "white",
            "showbackground": true,
            "ticks": "",
            "zerolinecolor": "white"
           },
           "yaxis": {
            "backgroundcolor": "#E5ECF6",
            "gridcolor": "white",
            "gridwidth": 2,
            "linecolor": "white",
            "showbackground": true,
            "ticks": "",
            "zerolinecolor": "white"
           },
           "zaxis": {
            "backgroundcolor": "#E5ECF6",
            "gridcolor": "white",
            "gridwidth": 2,
            "linecolor": "white",
            "showbackground": true,
            "ticks": "",
            "zerolinecolor": "white"
           }
          },
          "shapedefaults": {
           "line": {
            "color": "#2a3f5f"
           }
          },
          "ternary": {
           "aaxis": {
            "gridcolor": "white",
            "linecolor": "white",
            "ticks": ""
           },
           "baxis": {
            "gridcolor": "white",
            "linecolor": "white",
            "ticks": ""
           },
           "bgcolor": "#E5ECF6",
           "caxis": {
            "gridcolor": "white",
            "linecolor": "white",
            "ticks": ""
           }
          },
          "title": {
           "x": 0.05
          },
          "xaxis": {
           "automargin": true,
           "gridcolor": "white",
           "linecolor": "white",
           "ticks": "",
           "title": {
            "standoff": 15
           },
           "zerolinecolor": "white",
           "zerolinewidth": 2
          },
          "yaxis": {
           "automargin": true,
           "gridcolor": "white",
           "linecolor": "white",
           "ticks": "",
           "title": {
            "standoff": 15
           },
           "zerolinecolor": "white",
           "zerolinewidth": 2
          }
         }
        }
       }
      }
     },
     "metadata": {},
     "output_type": "display_data"
    }
   ],
   "source": [
    "dummy_df = df.rename(columns = {'price' : 'total spending'})\n",
    "fig = px.treemap(\n",
    "    dummy_df, path = [px.Constant('total spending'), 'item_name'], \n",
    "    values = 'total spending'\n",
    ")\n",
    "\n",
    "fig.show()"
   ]
  },
  {
   "cell_type": "code",
   "execution_count": null,
   "metadata": {},
   "outputs": [],
   "source": []
  },
  {
   "cell_type": "code",
   "execution_count": null,
   "metadata": {},
   "outputs": [],
   "source": []
  }
 ],
 "metadata": {
  "interpreter": {
   "hash": "e4ba08aa27a50dfc4411e691f4a22a11e700bce603ba8e16cecc3bc830c9da89"
  },
  "kernelspec": {
   "display_name": "Python 3.10.4 64-bit",
   "language": "python",
   "name": "python3"
  },
  "language_info": {
   "codemirror_mode": {
    "name": "ipython",
    "version": 3
   },
   "file_extension": ".py",
   "mimetype": "text/x-python",
   "name": "python",
   "nbconvert_exporter": "python",
   "pygments_lexer": "ipython3",
   "version": "3.10.13"
  },
  "orig_nbformat": 4
 },
 "nbformat": 4,
 "nbformat_minor": 2
}
